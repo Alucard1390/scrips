{
 "cells": [
  {
   "cell_type": "code",
   "execution_count": 3,
   "id": "b334ceaa",
   "metadata": {},
   "outputs": [],
   "source": [
    "from PyPDF2 import PdfReader, PdfWriter\n",
    "\n",
    "def split_pdf(input_path,file_name, output_prefix, split_ranges):\n",
    "    \"\"\"\n",
    "    拆分PDF文件\n",
    "    :param input_path: 输入PDF路径\n",
    "    :param output_prefix: 输出文件前缀\n",
    "    :param split_ranges: 拆分范围列表，如 [(1,3), (4,6)] 表示1-3页为一个文件，4-6页为另一个文件\n",
    "    \"\"\"\n",
    "    reader = PdfReader(input_path+file_name)\n",
    "    \n",
    "    for i, (start, end) in enumerate(split_ranges, 1):\n",
    "        writer = PdfWriter()\n",
    "        for page_num in range(start-1, end):  # PyPDF2页码从0开始\n",
    "            writer.add_page(reader.pages[page_num])\n",
    "        \n",
    "        output_path = f\"{input_path+output_prefix}_{i}.pdf\"\n",
    "        with open(output_path, \"wb\") as out:\n",
    "            writer.write(out)\n",
    "        print(f\"已创建: {output_path}\")\n",
    "\n"
   ]
  },
  {
   "cell_type": "code",
   "execution_count": 4,
   "id": "bbc601df",
   "metadata": {},
   "outputs": [
    {
     "name": "stdout",
     "output_type": "stream",
     "text": [
      "已创建: C:/Users/Vincent/Documents/xwechat_files/wxid_5pzts3e4gota22_b640/msg/file/2025-08/china_skinny_1.pdf\n",
      "已创建: C:/Users/Vincent/Documents/xwechat_files/wxid_5pzts3e4gota22_b640/msg/file/2025-08/china_skinny_2.pdf\n"
     ]
    }
   ],
   "source": [
    "# 使用示例\n",
    "split_pdf(\"C:/Users/Vincent/Documents/xwechat_files/wxid_5pzts3e4gota22_b640/msg/file/2025-08/\",\"China-Skinny-Skincare-Tracker-Report.pdf\", \"china_skinny\", [(1, 13), (14, 16)])"
   ]
  }
 ],
 "metadata": {
  "kernelspec": {
   "display_name": "base",
   "language": "python",
   "name": "python3"
  },
  "language_info": {
   "codemirror_mode": {
    "name": "ipython",
    "version": 3
   },
   "file_extension": ".py",
   "mimetype": "text/x-python",
   "name": "python",
   "nbconvert_exporter": "python",
   "pygments_lexer": "ipython3",
   "version": "3.12.7"
  }
 },
 "nbformat": 4,
 "nbformat_minor": 5
}
