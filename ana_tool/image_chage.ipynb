{
 "cells": [
  {
   "cell_type": "code",
   "execution_count": 1,
   "metadata": {},
   "outputs": [],
   "source": [
    "import subprocess\n",
    "import os\n",
    "def resize_image(input_image_path):\n",
    "    command = f\"magick {input_image_path} {input_image_path.replace('.avif','.jpg')}\"\n",
    "    subprocess.run(command, shell=True, check=True)\n",
    "route = \"D:\\\\新机会\\\\KOSE\\\\提案\\\\图片\"\n",
    "for images in os.listdir(route):\n",
    "    if images.endswith(\".avif\"):\n",
    "        resize_image(route+\"\\\\\"+images)\n",
    "    else:\n",
    "        continue"
   ]
  }
 ],
 "metadata": {
  "kernelspec": {
   "display_name": "base",
   "language": "python",
   "name": "python3"
  },
  "language_info": {
   "codemirror_mode": {
    "name": "ipython",
    "version": 3
   },
   "file_extension": ".py",
   "mimetype": "text/x-python",
   "name": "python",
   "nbconvert_exporter": "python",
   "pygments_lexer": "ipython3",
   "version": "3.11.7"
  }
 },
 "nbformat": 4,
 "nbformat_minor": 2
}
