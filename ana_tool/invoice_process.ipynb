{
 "cells": [
  {
   "cell_type": "code",
   "execution_count": 18,
   "metadata": {},
   "outputs": [
    {
     "name": "stderr",
     "output_type": "stream",
     "text": [
      "CropBox missing from /Page, defaulting to MediaBox\n",
      "CropBox missing from /Page, defaulting to MediaBox\n",
      "CropBox missing from /Page, defaulting to MediaBox\n"
     ]
    },
    {
     "name": "stdout",
     "output_type": "stream",
     "text": [
      "[['购购购\\n买买买\\n方方方\\n信信信\\n息息息', '名名名称称称：：：游仁网络科技（上海）有限公司\\n统统统一一一社社社会会会信信信用用用代代代码码码///纳纳纳税税税人人人识识识别别别号号号：：：91310000MA1J07FN9X', None, '销销销\\n售售售\\n方方方\\n信信信\\n息息息', '名名名称称称：：：北京京东弘健健康有限公司\\n统统统一一一社社社会会会信信信用用用代代代码码码///纳纳纳税税税人人人识识识别别别号号号：：：91110302MA01LR25XA'], ['项项项目目目名名名称称称 规规规格格格型型型号号号 单单单 位位位 数数数 量量量 单单单 价价价 金金金 额额额 税税税率率率///征征征收收收率率率 税税税 额额额\\n*营养保健食品*FIBOO爆料超模奶昔代餐粉高 fiboo爆料蛋白奶昔 包 1 114.96 114.96 13% 14.94\\n蛋白速食冲饮营养饱腹 莓莓轻乳味400g/袋 400g\\n*营养保健食品*FIBOO爆料超模奶昔代餐粉高 -0.01 13% 0.00\\n蛋白速食冲饮营养饱腹 莓莓轻乳味400g/袋\\n*营养保健食品*谷本日记 蛋白能量棒0反式脂肪 蛋白棒 盒 1 35.31 35.31 13% 4.59\\n减脂轻食代餐饱腹零食高纤维健身食品 樱桃\\n*营养保健食品*谷本日记 蛋白能量棒0反式脂肪 -4.42 13% -0.58\\n减脂轻食代餐饱腹零食高纤维健身食品 樱桃\\n*营养保健食品*谷本日记蛋白能量棒 0反式脂肪 蛋白棒 盒 1 35.31 35.31 13% 4.59\\n减脂轻食代餐饱腹零食高纤维健身食品 抹茶\\n*营养保健食品*谷本日记蛋白能量棒 0反式脂肪 -4.42 13% -0.58\\n减脂轻食代餐饱腹零食高纤维健身食品 抹茶\\n*营养保健食品*薄荷健康满感饮餐前饱腹饮 满感饮 盒 1 69.91 69.91 13% 9.09\\n食糖油管理期食欲控量饮料非代餐食品\\n*营养保健食品*薄荷健康满感饮餐前饱腹饮 -0.01 13% 0.00\\n食糖油管理期食欲控量饮料非代餐食品\\n小小小 计计计 ¥246.63 ¥32.05\\n合合合 计计计 ¥246.63 ¥32.05', None, None, None, None], ['价税合计(大写)', None, '贰佰柒拾捌圆陆角捌分 (小写)¥278.68', None, None], ['备\\n注', '订单号:312239797125', None, None, None]]\n",
      "[['购\\n买\\n方\\n信\\n息', '名称：游仁网络科技（上海）有限公司\\n统一社会信用代码/纳税人识别号：91310000MA1J07FN9X', None, '销\\n售\\n方\\n信\\n息', '名称：东莞市创威检测仪器有限公司\\n统一社会信用代码/纳税人识别号：91441900MA56J1BF0U'], ['项目名称 规格型号 单 位 数 量 单 价 金 额 税率/征收率 税 额\\n*化学试剂助剂*人工模拟 250ML 瓶 1 64.3564356435644 64.36 1% 0.64\\n液\\n合 计 ¥64.36 ¥0.64', None, None, None, None], ['价税合计（大写）', None, '陆拾伍圆整 （小写）¥65.00', None, None], ['备\\n注', '', None, None, None]]\n",
      "[['购\\n买\\n方\\n信\\n息', '名称：游仁网络科技（上海）有限公司\\n统一社会信用代码/纳税人识别号:91310000MA1J07FN9X', None, '销\\n售\\n方\\n信\\n息', '名称：嘉兴昊超电子商务有限公司\\n统一社会信用代码/纳税人识别号:91330401MA2B8TK511'], ['项目名称 规格型号 单 位 数 量 单 价 金 额 税率/征收率 税 额\\n*衡器*小型电子秤克称电 ttzbc-8@2 件 1 32.65 32.65 13% 4.25\\n子称高精度厨房秤烘焙精\\n准家用中药食物秤小称数\\n*衡器*小型电子秤克称电 -2.61 13% -0.34\\n子称高精度厨房秤烘焙精\\n准家用中药食物秤小称数\\n合 计 ¥30.04 ¥3.91', None, None, None, None], ['价税合计（大写）', None, '叁拾叁圆玖角伍分 （小写）¥33.95', None, None], ['备\\n注', '', None, None, None]]\n",
      "[['购\\n买\\n方\\n信\\n息', '名称：游仁网络科技（上海）有限公司\\n统一社会信用代码/纳税人识别号:91310000MA1J07FN9X', None, '销\\n售\\n方\\n信\\n息', '名称：嘉兴昊超电子商务有限公司\\n统一社会信用代码/纳税人识别号:91330401MA2B8TK511'], ['项目名称 规格型号 单 位 数 量 单 价 金 额 税率/征收率 税 额\\n*纸制品*包邮炊大皇一次 6976485170214 件 3 8.76 26.28 13% 3.42\\n性杯子塑料杯野餐露营家\\n用航空杯透明加厚饮料水\\n杯\\n*纸制品*包邮炊大皇一次 -2.10 13% -0.28\\n性杯子塑料杯野餐露营家\\n用航空杯透明加厚饮料水\\n杯\\n合 计 ¥24.18 ¥3.14', None, None, None, None], ['价税合计（大写）', None, '贰拾柒圆叁角贰分 （小写）¥27.32', None, None], ['备\\n注', '', None, None, None]]\n"
     ]
    },
    {
     "name": "stderr",
     "output_type": "stream",
     "text": [
      "CropBox missing from /Page, defaulting to MediaBox\n",
      "CropBox missing from /Page, defaulting to MediaBox\n",
      "CropBox missing from /Page, defaulting to MediaBox\n"
     ]
    },
    {
     "name": "stdout",
     "output_type": "stream",
     "text": [
      "[['购\\n买\\n方\\n信\\n息', '名称：游仁网络科技（上海）有限公司\\n统一社会信用代码/纳税 人识别号：91310000MA1J07FN9X', None, '销\\n售\\n方\\n信\\n息', '名称：义乌市明图电子商务有限公司\\n统一社会信用代码/纳税 人识别号：91330782071644532N'], ['项目名称 规格型号 单 位 数 量 单 价 金 额 税 率/征收率 税 额\\n*文具*得力直尺 把 1 9.108910891089 9.11 1% 0.09\\n合 计 ¥9.11 ¥0.09', None, None, None, None], ['价税 合计（大写）', None, '玖圆贰角整 （小写）¥9.20', None, None], ['备\\n注', '', None, None, None]]\n",
      "[['购\\n买\\n方\\n信\\n息', '名称：游仁网络科技（上海）有限公司\\n统一社会信用代码/纳税人识别号：91310000MA1J07FN9X', None, '销\\n售\\n方\\n信\\n息', '名称：洛阳市琢居商贸有限公司\\n统一社会信用代码/纳税人识别号：91410311MADXL0UA8M'], ['项目名称 规格型号 单 位 数 量 单 价 金 额 税率/征收率 税 额\\n*金属制品*置物架 组 1 121.247524752475 121.25 1% 1.21\\n合 计 ¥121.25 ¥1.21', None, None, None, None], ['价税合计（大写）', None, '壹佰贰拾贰圆肆角陆分 （小写）¥122.46', None, None], ['备\\n注', '', None, None, None]]\n",
      "[['购\\n买\\n方\\n信\\n息', '名称：游仁网络科技（上海）有限公司\\n统一社会信用代码/纳税人识别号：91310000MA1J07FN9X', None, '销\\n售\\n方\\n信\\n息', '名称：湖南谷本日记健康科技有限公司\\n统一社会信用代码/纳税人识别号：91430105MA7B0P163E'], ['项目名称 规格型号 单 位 数 量 单 价 金 额 税率/征收率 税 额\\n*营养保健食品*轻派藕 25g*6杯（玫瑰 盒 2 42.245 84.49 13% 10.98\\n粉25g*6杯 奇亚籽坚果藕\\n粉）\\n合 计 ¥84.49 ¥10.98', None, None, None, None], ['价税合计（大写）', None, '玖拾伍圆肆角柒分 （小写）¥95.47', None, None], ['备\\n注', '订单：2511428775054907076 店铺：谷本日记旗舰店', None, None, None]]\n"
     ]
    },
    {
     "name": "stderr",
     "output_type": "stream",
     "text": [
      "CropBox missing from /Page, defaulting to MediaBox\n",
      "CropBox missing from /Page, defaulting to MediaBox\n"
     ]
    },
    {
     "name": "stdout",
     "output_type": "stream",
     "text": [
      "[['购\\n买\\n方\\n信\\n息', '名称：游仁网络科技（上海）有限公司\\n统一社会信用代码/纳税人识别号：91310000MA1J07FN9X', None, '销\\n售\\n方\\n信\\n息', '名称：杭州宏沃贸易有限公司\\n统一社会信用代码/纳税人识别号：91330106586527079G'], ['项目名称 规格型号 单 位 数 量 单 价 金 额 税率/征收率 税 额\\n*营养保健食品*【活动 条 14 13.8318584070796 193.65 13% 25.17\\n价】【26g*14条】VIFIT\\n分离乳清蛋白粉女性运动\\n健身小燃条营养粉\\n合 计 ¥193.65 ¥25.17', None, None, None, None], ['价税合计（大写）', None, '贰佰壹拾捌圆捌角贰分 （小写）¥218.82', None, None], ['备\\n注', '', None, None, None]]\n",
      "[['购\\n买\\n方\\n信\\n息', '名称：游仁网络科技（上海）有限公司\\n统一社会信用代码/纳税人识别号：91310000MA1J07FN9X', None, '销\\n售\\n方\\n信\\n息', '名称：宁波华笙电子商务有限公司\\n统一社会信用代码/纳税人识别号：91330226MA284C2M5E'], ['项目名称 规格型号 单 位 数 量 单 价 金 额 税率/征收率 税 额\\n*其他食品*PHD智选蛋白 7X64g 1 113.46017699115 113.46 13% 14.75\\n棒\\n*其他食品*PHD智选蛋白 12X32g 1 112.185840707965 112.19 13% 14.58\\n棒\\n合 计 ¥225.65 ¥29.33', None, None, None, None], ['价税合计（大写）', None, '贰佰伍拾肆圆玖角捌分 （小写）¥254.98', None, None], ['备\\n注', '天猫', None, None, None]]\n",
      "[['购\\n买\\n方\\n信\\n息', '名称：游仁网络科技（上海）有限公司\\n统一社会信用代码/纳税人识别号:91310000MA1J07FN9X', None, '销\\n售\\n方\\n信\\n息', '名称：嘉兴昊超电子商务有限公司\\n统一社会信用代码/纳税人识别号:91330401MA2B8TK511'], ['项目名称 规格型号 单 位 数 量 单 价 金 额 税率/征收率 税 额\\n*纸制品*炊大皇一次性加 YXB100 件 1 15.84 15.84 13% 2.06\\n厚纸杯商用招待茶水杯200\\n只家用宴请办公室饮料\\n*纸制品*炊大皇一次性加 -0.80 13% -0.10\\n厚纸杯商用招待茶水杯200\\n只家用宴请办公室饮料\\n合 计 ¥15.04 ¥1.96', None, None, None, None], ['价税合计（大写）', None, '壹拾柒圆整 （小写）¥17.00', None, None], ['备\\n注', '', None, None, None]]\n",
      "10\n"
     ]
    }
   ],
   "source": [
    "import pdfplumber\n",
    "import pandas as pd\n",
    "import os\n",
    "\n",
    "def find_value_by_keyword(text, keyword):\n",
    "    # 定义一个简单的提取函数，实际需要根据发票格式调整\n",
    "    lines = text.split('\\n')\n",
    "    for i, line in enumerate(lines):\n",
    "        if keyword in line:\n",
    "            return line.replace(keyword, '').strip()\n",
    "    return \"\"\n",
    "# 要处理的PDF文件夹路径\n",
    "pdf_folder = 'D:/品牌中心/品牌初期材料采购'\n",
    "# 输出Excel文件路径\n",
    "output_excel = 'D:/品牌中心/品牌初期材料采购/发票单.xlsx'\n",
    "\n",
    "# 定义存储提取信息的列表\n",
    "data = []\n",
    "count = 0\n",
    "# 遍历文件夹中的所有PDF文件\n",
    "for filename in os.listdir(pdf_folder):\n",
    "    if filename.endswith('.pdf'):\n",
    "        pdf_path = os.path.join(pdf_folder, filename)\n",
    "        with pdfplumber.open(pdf_path) as pdf:\n",
    "            # 假设发票信息在第一页，解析第一页内容\n",
    "            first_page = pdf.pages[0]\n",
    "            text = first_page.extract_text()\n",
    "            table = first_page.extract_table()\n",
    "            print(table)\n",
    "            count+=1\n",
    "            \n",
    "            # 提取关键信息，下面是一些假设的示例正则表达式\n",
    "            '''invoice_number = find_value_by_keyword(text, \"发票号码\")\n",
    "            invoice_date = find_value_by_keyword(text, \"开票日期\")\n",
    "            buyer_name = find_value_by_keyword(text, \"购买方名称\")\n",
    "            buyer_tax_id = find_value_by_keyword(text, \"购买方纳税人识别号\")\n",
    "            service_name = find_value_by_keyword(text, \"货物或应税劳务、服务名称\")\n",
    "            quantity = find_value_by_keyword(text, \"数量\")\n",
    "            unit_price = find_value_by_keyword(text, \"单价\")\n",
    "            amount = find_value_by_keyword(text, \"金额\")\n",
    "            tax_rate = find_value_by_keyword(text, \"税率\")\n",
    "            tax_amount = find_value_by_keyword(text, \"税额\")\n",
    "            total_amount = find_value_by_keyword(text, \"价税合计\")\n",
    "            seller_name = find_value_by_keyword(text, \"销售方名称\")\n",
    "            seller_tax_id = find_value_by_keyword(text, \"销售方纳税人识别号\")\n",
    "\n",
    "            # 将提取的信息添加到列表中\n",
    "            data.append({\n",
    "                \"PDF文件名\": filename,\n",
    "                \"发票号码\": invoice_number,\n",
    "                \"开票日期\": invoice_date,\n",
    "                \"购买方名称\": buyer_name,\n",
    "                \"购买方纳税人识别号\": buyer_tax_id,\n",
    "                \"服务名称\": service_name,\n",
    "                \"数量\": quantity,\n",
    "                \"单价\": unit_price,\n",
    "                \"金额\": amount,\n",
    "                \"税率\": tax_rate,\n",
    "                \"税额\": tax_amount,\n",
    "                \"价税合计\": total_amount,\n",
    "                \"销售方名称\": seller_name,\n",
    "                \"销售方纳税人识别号\": seller_tax_id\n",
    "            })'''\n",
    "\n",
    "# 将数据导出到Excel\n",
    "'''df = pd.DataFrame(data)\n",
    "df.to_excel(output_excel, index=False)\n",
    "\n",
    "print(f\"提取完成，结果已保存到 {output_excel}\")\n",
    "print(filename)\n",
    "print(text)'''\n",
    "print(count)"
   ]
  }
 ],
 "metadata": {
  "kernelspec": {
   "display_name": "base",
   "language": "python",
   "name": "python3"
  },
  "language_info": {
   "codemirror_mode": {
    "name": "ipython",
    "version": 3
   },
   "file_extension": ".py",
   "mimetype": "text/x-python",
   "name": "python",
   "nbconvert_exporter": "python",
   "pygments_lexer": "ipython3",
   "version": "3.11.7"
  }
 },
 "nbformat": 4,
 "nbformat_minor": 2
}
