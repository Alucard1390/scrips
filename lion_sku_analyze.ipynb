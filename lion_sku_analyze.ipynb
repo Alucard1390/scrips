{
 "cells": [
  {
   "cell_type": "code",
   "execution_count": 1,
   "metadata": {},
   "outputs": [],
   "source": [
    "from ana_tool import category_ana as ca\n",
    "import pandas as pd\n",
    "import numpy as np\n",
    "import os\n",
    "import re\n",
    "from sqlalchemy import create_engine\n",
    "import pymysql"
   ]
  },
  {
   "cell_type": "code",
   "execution_count": 28,
   "metadata": {},
   "outputs": [],
   "source": [
    "import jieba"
   ]
  },
  {
   "cell_type": "code",
   "execution_count": 22,
   "metadata": {},
   "outputs": [],
   "source": [
    "username = \"root\"\n",
    "password = \"9518llhh731X\"\n",
    "host = \"localhost\"\n",
    "port = 3306\n",
    "database = \"dwh\"\n",
    "charset = \"utf8mb4\""
   ]
  },
  {
   "cell_type": "code",
   "execution_count": 23,
   "metadata": {},
   "outputs": [],
   "source": [
    "connection_string = f'mysql+pymysql://{username}:{password}@{host}:{port}/{database}?charset={charset}'\n",
    "conn = create_engine(connection_string)"
   ]
  },
  {
   "cell_type": "code",
   "execution_count": 4,
   "metadata": {},
   "outputs": [],
   "source": [
    "lion_sku_df = pd.read_excel(r\"C:\\Users\\Administrator\\Downloads\\all_OTC药品-国际医药_sku_2021-01~2023-12_CNY_1713337237_vhswi8qp04.xlsx\",sheet_name=\"Sheet1\")"
   ]
  },
  {
   "cell_type": "code",
   "execution_count": 5,
   "metadata": {},
   "outputs": [],
   "source": [
    "lion_sku = ca.init_category_df(gap_num=5,wps_df=lion_sku_df,obj_to_date=\"时间\",top_limit=180)"
   ]
  },
  {
   "cell_type": "code",
   "execution_count": 10,
   "metadata": {},
   "outputs": [],
   "source": [
    "lifu_df = lion_sku[lion_sku[\"品牌\"].isin([\"丽芙\"])]"
   ]
  },
  {
   "cell_type": "code",
   "execution_count": 11,
   "metadata": {},
   "outputs": [
    {
     "name": "stderr",
     "output_type": "stream",
     "text": [
      "d:\\scrips\\ana_tool\\category_ana.py:76: FutureWarning: The provided callable <function sum at 0x0000019AF21F6840> is currently using DataFrameGroupBy.sum. In a future version of pandas, the provided callable will be used directly. To keep current behavior pass the string \"sum\" instead.\n",
      "  pivot_table = pd.pivot_table(df,index=index,values=value,columns=column,aggfunc=[np.sum])\n"
     ]
    }
   ],
   "source": [
    "lifu_sku_pivot_df =ca.salesPivotPercent(df=lifu_df,index=\"店铺名\",column=\"年\",value=\"销售额\",agg_func_list=[2021,2022,2023])"
   ]
  },
  {
   "cell_type": "code",
   "execution_count": 10,
   "metadata": {},
   "outputs": [
    {
     "name": "stderr",
     "output_type": "stream",
     "text": [
      "d:\\scrips\\ana_tool\\category_ana.py:75: FutureWarning: The provided callable <function sum at 0x000002C2EDB2A7A0> is currently using DataFrameGroupBy.sum. In a future version of pandas, the provided callable will be used directly. To keep current behavior pass the string \"sum\" instead.\n",
      "  pivot_table = pd.pivot_table(df,index=index,values=value,columns=column,aggfunc=[np.sum])\n"
     ]
    }
   ],
   "source": [
    "sku_pivot_price_df =ca.salesPivotPercent(df=lion_sku,index=\"价格带\",column=\"年\",value=\"销售额\",agg_func_list=[2021,2022,2023])"
   ]
  },
  {
   "cell_type": "code",
   "execution_count": 12,
   "metadata": {},
   "outputs": [],
   "source": [
    "lifu_sku_pivot_df.to_excel(r\"D:\\lion240401\\lifu_sku_shop.xlsx\")"
   ]
  },
  {
   "cell_type": "code",
   "execution_count": 12,
   "metadata": {},
   "outputs": [],
   "source": [
    "lion_item_df=pd.read_excel(r\"C:\\Users\\Administrator\\Downloads\\all_OTC药品-国际医药_item_2021-01~2023-12_CNY_1713341661_vhswi8qp04 (1).xlsx\")"
   ]
  },
  {
   "cell_type": "code",
   "execution_count": 13,
   "metadata": {},
   "outputs": [],
   "source": [
    "lion_item = ca.init_category_df(wps_df=lion_item_df,gap_num=10,obj_to_date=\"时间\",top_limit=180)"
   ]
  },
  {
   "cell_type": "code",
   "execution_count": 35,
   "metadata": {},
   "outputs": [
    {
     "name": "stderr",
     "output_type": "stream",
     "text": [
      "Building prefix dict from the default dictionary ...\n",
      "Dumping model to file cache C:\\Users\\ADMINI~1\\AppData\\Local\\Temp\\jieba.cache\n",
      "Loading model cost 1.664 seconds.\n",
      "Prefix dict has been built successfully.\n"
     ]
    }
   ],
   "source": [
    "lion_item[\"标签_分词\"] = lion_item[\"商品标题\"].apply(lambda x:list(jieba.cut(x)))"
   ]
  },
  {
   "cell_type": "code",
   "execution_count": 15,
   "metadata": {},
   "outputs": [
    {
     "name": "stderr",
     "output_type": "stream",
     "text": [
      "d:\\scrips\\ana_tool\\category_ana.py:75: FutureWarning: The provided callable <function sum at 0x000002C2EDB2A7A0> is currently using DataFrameGroupBy.sum. In a future version of pandas, the provided callable will be used directly. To keep current behavior pass the string \"sum\" instead.\n",
      "  pivot_table = pd.pivot_table(df,index=index,values=value,columns=column,aggfunc=[np.sum])\n"
     ]
    }
   ],
   "source": [
    "item_pivot_df =ca.salesPivotPercent(df=lion_item,index=\"商品标题\",column=\"年\",value=\"销售额\",agg_func_list=[2021,2022,2023])"
   ]
  },
  {
   "cell_type": "code",
   "execution_count": 16,
   "metadata": {},
   "outputs": [
    {
     "name": "stderr",
     "output_type": "stream",
     "text": [
      "d:\\scrips\\ana_tool\\category_ana.py:75: FutureWarning: The provided callable <function sum at 0x000002C2EDB2A7A0> is currently using DataFrameGroupBy.sum. In a future version of pandas, the provided callable will be used directly. To keep current behavior pass the string \"sum\" instead.\n",
      "  pivot_table = pd.pivot_table(df,index=index,values=value,columns=column,aggfunc=[np.sum])\n"
     ]
    }
   ],
   "source": [
    "item_price_df = ca.salesPivotPercent(df = lion_item,index=\"价格带\",column=\"年\",value=\"销售额\",agg_func_list=[2021,2022,2023])"
   ]
  },
  {
   "cell_type": "code",
   "execution_count": 18,
   "metadata": {},
   "outputs": [],
   "source": [
    "item_price_df.to_excel(r\"D:\\lion240401\\item_price.xlsx\")"
   ]
  },
  {
   "cell_type": "code",
   "execution_count": 20,
   "metadata": {},
   "outputs": [
    {
     "name": "stderr",
     "output_type": "stream",
     "text": [
      "d:\\scrips\\ana_tool\\category_ana.py:75: FutureWarning: The provided callable <function sum at 0x000002C2EDB2A7A0> is currently using DataFrameGroupBy.sum. In a future version of pandas, the provided callable will be used directly. To keep current behavior pass the string \"sum\" instead.\n",
      "  pivot_table = pd.pivot_table(df,index=index,values=value,columns=column,aggfunc=[np.sum])\n"
     ]
    }
   ],
   "source": [
    "sku_pivot_chengfen_df =ca.salesPivotPercent(df=lion_sku,index=\"药品通用名\",column=\"年\",value=\"销售额\",agg_func_list=[2021,2022,2023])"
   ]
  },
  {
   "cell_type": "code",
   "execution_count": 21,
   "metadata": {},
   "outputs": [],
   "source": [
    "sku_pivot_chengfen_df.to_excel(r\"D:\\lion240401\\chengfen_sku.xlsx\")"
   ]
  },
  {
   "cell_type": "code",
   "execution_count": 26,
   "metadata": {},
   "outputs": [
    {
     "data": {
      "text/plain": [
       "36000"
      ]
     },
     "execution_count": 26,
     "metadata": {},
     "output_type": "execute_result"
    }
   ],
   "source": [
    "pd.io.sql.to_sql(lion_sku,\"lion_sku\",con=conn)"
   ]
  },
  {
   "cell_type": "code",
   "execution_count": 27,
   "metadata": {},
   "outputs": [
    {
     "data": {
      "text/plain": [
       "36000"
      ]
     },
     "execution_count": 27,
     "metadata": {},
     "output_type": "execute_result"
    }
   ],
   "source": [
    "pd.io.sql.to_sql(lion_item,\"lion_item\",con=conn)"
   ]
  },
  {
   "cell_type": "code",
   "execution_count": 36,
   "metadata": {},
   "outputs": [],
   "source": [
    "lion_item.to_excel(\"D:/lion240401/item_fenci.xlsx\")"
   ]
  },
  {
   "cell_type": "code",
   "execution_count": 34,
   "metadata": {},
   "outputs": [
    {
     "data": {
      "text/html": [
       "<div>\n",
       "<style scoped>\n",
       "    .dataframe tbody tr th:only-of-type {\n",
       "        vertical-align: middle;\n",
       "    }\n",
       "\n",
       "    .dataframe tbody tr th {\n",
       "        vertical-align: top;\n",
       "    }\n",
       "\n",
       "    .dataframe thead th {\n",
       "        text-align: right;\n",
       "    }\n",
       "</style>\n",
       "<table border=\"1\" class=\"dataframe\">\n",
       "  <thead>\n",
       "    <tr style=\"text-align: right;\">\n",
       "      <th></th>\n",
       "      <th>时间</th>\n",
       "      <th>商品标题</th>\n",
       "      <th>商品链接</th>\n",
       "      <th>销售额</th>\n",
       "      <th>销量</th>\n",
       "      <th>品牌</th>\n",
       "      <th>店铺名</th>\n",
       "      <th>1级类目名</th>\n",
       "      <th>2级类目名</th>\n",
       "      <th>3级类目名</th>\n",
       "      <th>...</th>\n",
       "      <th>套餐类型</th>\n",
       "      <th>药品分类</th>\n",
       "      <th>药品商品名</th>\n",
       "      <th>非处方药类型</th>\n",
       "      <th>产品名称</th>\n",
       "      <th>药品包装规格</th>\n",
       "      <th>月</th>\n",
       "      <th>年</th>\n",
       "      <th>价格带</th>\n",
       "      <th>标签_分词</th>\n",
       "    </tr>\n",
       "  </thead>\n",
       "  <tbody>\n",
       "    <tr>\n",
       "      <th>0</th>\n",
       "      <td>2022-06-01</td>\n",
       "      <td>丽芙甲硝唑凝胶和15%壬二酸祛痘膏去黑头痘印痘坑修复甲硝锉消炎</td>\n",
       "      <td>https://item.taobao.com/item.htm?id=539967941459</td>\n",
       "      <td>9830500.20</td>\n",
       "      <td>205659</td>\n",
       "      <td>丽芙</td>\n",
       "      <td>阿里健康大药房</td>\n",
       "      <td>OTC药品/国际医药</td>\n",
       "      <td>OTC药品</td>\n",
       "      <td>皮肤科用药</td>\n",
       "      <td>...</td>\n",
       "      <td>红肿痘搭配： 甲硝唑凝胶*20g+阿达帕林凝胶16g甲硝唑凝胶*2盒【20g*1支/盒】去黑...</td>\n",
       "      <td>非处方药</td>\n",
       "      <td>NaN</td>\n",
       "      <td>NaN</td>\n",
       "      <td>NaN</td>\n",
       "      <td>NaN</td>\n",
       "      <td>2022-06-01</td>\n",
       "      <td>2022</td>\n",
       "      <td>(40, 50]</td>\n",
       "      <td>&lt;generator object Tokenizer.cut at 0x000002C2F...</td>\n",
       "    </tr>\n",
       "    <tr>\n",
       "      <th>1</th>\n",
       "      <td>2021-05-01</td>\n",
       "      <td>丽芙甲硝唑凝胶祛痘消炎软膏壬二酸去黑头粉刺去痘印甲硝锉毛囊炎</td>\n",
       "      <td>https://item.taobao.com/item.htm?id=539967941459</td>\n",
       "      <td>9015636.00</td>\n",
       "      <td>214658</td>\n",
       "      <td>丽芙</td>\n",
       "      <td>阿里健康大药房</td>\n",
       "      <td>OTC药品/国际医药</td>\n",
       "      <td>OTC药品</td>\n",
       "      <td>皮肤科用药</td>\n",
       "      <td>...</td>\n",
       "      <td>杀菌消炎：本品1盒+班赛过氧苯甲酰凝胶本品 5 盒【20g*1支/盒】去黑头搭配：本品1盒+...</td>\n",
       "      <td>非处方药</td>\n",
       "      <td>NaN</td>\n",
       "      <td>NaN</td>\n",
       "      <td>NaN</td>\n",
       "      <td>NaN</td>\n",
       "      <td>2021-05-01</td>\n",
       "      <td>2021</td>\n",
       "      <td>(40, 50]</td>\n",
       "      <td>&lt;generator object Tokenizer.cut at 0x000002C2F...</td>\n",
       "    </tr>\n",
       "    <tr>\n",
       "      <th>2</th>\n",
       "      <td>2022-09-01</td>\n",
       "      <td>丽芙甲硝唑凝胶和15%壬二酸乳膏去黑头消炎祛痘印痘坑修复甲硝锉</td>\n",
       "      <td>https://item.taobao.com/item.htm?id=539967941459</td>\n",
       "      <td>8465289.48</td>\n",
       "      <td>175156</td>\n",
       "      <td>丽芙</td>\n",
       "      <td>阿里健康大药房</td>\n",
       "      <td>OTC药品/国际医药</td>\n",
       "      <td>OTC药品</td>\n",
       "      <td>皮肤科用药</td>\n",
       "      <td>...</td>\n",
       "      <td>红肿痘搭配： 甲硝唑凝胶*20g+阿达帕林凝胶16g甲硝唑凝胶*2盒【20g*1支/盒】去黑...</td>\n",
       "      <td>非处方药</td>\n",
       "      <td>NaN</td>\n",
       "      <td>NaN</td>\n",
       "      <td>NaN</td>\n",
       "      <td>NaN</td>\n",
       "      <td>2022-09-01</td>\n",
       "      <td>2022</td>\n",
       "      <td>(40, 50]</td>\n",
       "      <td>&lt;generator object Tokenizer.cut at 0x000002C2F...</td>\n",
       "    </tr>\n",
       "    <tr>\n",
       "      <th>3</th>\n",
       "      <td>2021-04-01</td>\n",
       "      <td>丽芙甲硝唑凝胶祛痘消炎痤疮毛囊炎碘伏十滴水去粉刺甲硝锉软膏药</td>\n",
       "      <td>https://item.taobao.com/item.htm?id=539967941459</td>\n",
       "      <td>8263604.52</td>\n",
       "      <td>223764</td>\n",
       "      <td>丽芙</td>\n",
       "      <td>阿里健康大药房</td>\n",
       "      <td>OTC药品/国际医药</td>\n",
       "      <td>OTC药品</td>\n",
       "      <td>皮肤科用药</td>\n",
       "      <td>...</td>\n",
       "      <td>情侣都可用:本品2盒【20g*1支/盒】淡化痘印搭配:本品1盒+维胺酯维E乳膏25g十滴水搭...</td>\n",
       "      <td>非处方药</td>\n",
       "      <td>NaN</td>\n",
       "      <td>NaN</td>\n",
       "      <td>NaN</td>\n",
       "      <td>NaN</td>\n",
       "      <td>2021-04-01</td>\n",
       "      <td>2021</td>\n",
       "      <td>(30, 40]</td>\n",
       "      <td>&lt;generator object Tokenizer.cut at 0x000002C2F...</td>\n",
       "    </tr>\n",
       "    <tr>\n",
       "      <th>4</th>\n",
       "      <td>2022-08-01</td>\n",
       "      <td>丽芙甲硝唑凝胶和15%壬二酸乳膏去黑头消炎祛痘印痘坑修复甲硝锉</td>\n",
       "      <td>https://item.taobao.com/item.htm?id=539967941459</td>\n",
       "      <td>7633578.51</td>\n",
       "      <td>157947</td>\n",
       "      <td>丽芙</td>\n",
       "      <td>阿里健康大药房</td>\n",
       "      <td>OTC药品/国际医药</td>\n",
       "      <td>OTC药品</td>\n",
       "      <td>皮肤科用药</td>\n",
       "      <td>...</td>\n",
       "      <td>红肿痘搭配： 甲硝唑凝胶*20g+阿达帕林凝胶16g甲硝唑凝胶*2盒【20g*1支/盒】去黑...</td>\n",
       "      <td>非处方药</td>\n",
       "      <td>NaN</td>\n",
       "      <td>NaN</td>\n",
       "      <td>NaN</td>\n",
       "      <td>NaN</td>\n",
       "      <td>2022-08-01</td>\n",
       "      <td>2022</td>\n",
       "      <td>(40, 50]</td>\n",
       "      <td>&lt;generator object Tokenizer.cut at 0x000002C2F...</td>\n",
       "    </tr>\n",
       "  </tbody>\n",
       "</table>\n",
       "<p>5 rows × 47 columns</p>\n",
       "</div>"
      ],
      "text/plain": [
       "           时间                             商品标题  \\\n",
       "0  2022-06-01  丽芙甲硝唑凝胶和15%壬二酸祛痘膏去黑头痘印痘坑修复甲硝锉消炎   \n",
       "1  2021-05-01   丽芙甲硝唑凝胶祛痘消炎软膏壬二酸去黑头粉刺去痘印甲硝锉毛囊炎   \n",
       "2  2022-09-01  丽芙甲硝唑凝胶和15%壬二酸乳膏去黑头消炎祛痘印痘坑修复甲硝锉   \n",
       "3  2021-04-01   丽芙甲硝唑凝胶祛痘消炎痤疮毛囊炎碘伏十滴水去粉刺甲硝锉软膏药   \n",
       "4  2022-08-01  丽芙甲硝唑凝胶和15%壬二酸乳膏去黑头消炎祛痘印痘坑修复甲硝锉   \n",
       "\n",
       "                                               商品链接         销售额      销量  品牌  \\\n",
       "0  https://item.taobao.com/item.htm?id=539967941459  9830500.20  205659  丽芙   \n",
       "1  https://item.taobao.com/item.htm?id=539967941459  9015636.00  214658  丽芙   \n",
       "2  https://item.taobao.com/item.htm?id=539967941459  8465289.48  175156  丽芙   \n",
       "3  https://item.taobao.com/item.htm?id=539967941459  8263604.52  223764  丽芙   \n",
       "4  https://item.taobao.com/item.htm?id=539967941459  7633578.51  157947  丽芙   \n",
       "\n",
       "       店铺名       1级类目名  2级类目名  3级类目名  ...  \\\n",
       "0  阿里健康大药房  OTC药品/国际医药  OTC药品  皮肤科用药  ...   \n",
       "1  阿里健康大药房  OTC药品/国际医药  OTC药品  皮肤科用药  ...   \n",
       "2  阿里健康大药房  OTC药品/国际医药  OTC药品  皮肤科用药  ...   \n",
       "3  阿里健康大药房  OTC药品/国际医药  OTC药品  皮肤科用药  ...   \n",
       "4  阿里健康大药房  OTC药品/国际医药  OTC药品  皮肤科用药  ...   \n",
       "\n",
       "                                                套餐类型  药品分类  药品商品名 非处方药类型 产品名称  \\\n",
       "0  红肿痘搭配： 甲硝唑凝胶*20g+阿达帕林凝胶16g甲硝唑凝胶*2盒【20g*1支/盒】去黑...  非处方药    NaN    NaN  NaN   \n",
       "1  杀菌消炎：本品1盒+班赛过氧苯甲酰凝胶本品 5 盒【20g*1支/盒】去黑头搭配：本品1盒+...  非处方药    NaN    NaN  NaN   \n",
       "2  红肿痘搭配： 甲硝唑凝胶*20g+阿达帕林凝胶16g甲硝唑凝胶*2盒【20g*1支/盒】去黑...  非处方药    NaN    NaN  NaN   \n",
       "3  情侣都可用:本品2盒【20g*1支/盒】淡化痘印搭配:本品1盒+维胺酯维E乳膏25g十滴水搭...  非处方药    NaN    NaN  NaN   \n",
       "4  红肿痘搭配： 甲硝唑凝胶*20g+阿达帕林凝胶16g甲硝唑凝胶*2盒【20g*1支/盒】去黑...  非处方药    NaN    NaN  NaN   \n",
       "\n",
       "  药品包装规格          月     年       价格带  \\\n",
       "0    NaN 2022-06-01  2022  (40, 50]   \n",
       "1    NaN 2021-05-01  2021  (40, 50]   \n",
       "2    NaN 2022-09-01  2022  (40, 50]   \n",
       "3    NaN 2021-04-01  2021  (30, 40]   \n",
       "4    NaN 2022-08-01  2022  (40, 50]   \n",
       "\n",
       "                                               标签_分词  \n",
       "0  <generator object Tokenizer.cut at 0x000002C2F...  \n",
       "1  <generator object Tokenizer.cut at 0x000002C2F...  \n",
       "2  <generator object Tokenizer.cut at 0x000002C2F...  \n",
       "3  <generator object Tokenizer.cut at 0x000002C2F...  \n",
       "4  <generator object Tokenizer.cut at 0x000002C2F...  \n",
       "\n",
       "[5 rows x 47 columns]"
      ]
     },
     "execution_count": 34,
     "metadata": {},
     "output_type": "execute_result"
    }
   ],
   "source": [
    "lion_item.head()"
   ]
  }
 ],
 "metadata": {
  "kernelspec": {
   "display_name": "base",
   "language": "python",
   "name": "python3"
  },
  "language_info": {
   "codemirror_mode": {
    "name": "ipython",
    "version": 3
   },
   "file_extension": ".py",
   "mimetype": "text/x-python",
   "name": "python",
   "nbconvert_exporter": "python",
   "pygments_lexer": "ipython3",
   "version": "3.11.7"
  }
 },
 "nbformat": 4,
 "nbformat_minor": 2
}
