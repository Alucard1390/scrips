{
 "cells": [
  {
   "cell_type": "code",
   "execution_count": 1,
   "metadata": {},
   "outputs": [],
   "source": [
    "import pandas as pd\n",
    "import numpy as np\n",
    "from ana_tool import category_ana as ca\n",
    "from matplotlib import pyplot as plt"
   ]
  },
  {
   "cell_type": "code",
   "execution_count": 2,
   "metadata": {},
   "outputs": [],
   "source": [
    "df_all = pd.read_excel(r\"C:\\Users\\Administrator\\Downloads\\all_国际维矿物质药品_more_item_2022-01~2024-05_CNY_1719541243_h9s7ntq5bu.xlsx\",sheet_name='Sheet1')\n",
    "df = ca.init_category_df(gap_num=50,wps_df=df_all,obj_to_date=\"时间\",top_limit=500)"
   ]
  },
  {
   "cell_type": "code",
   "execution_count": 5,
   "metadata": {},
   "outputs": [
    {
     "name": "stderr",
     "output_type": "stream",
     "text": [
      "d:\\scrips\\ana_tool\\category_ana.py:76: FutureWarning: The provided callable <function sum at 0x000002776D062DE0> is currently using DataFrameGroupBy.sum. In a future version of pandas, the provided callable will be used directly. To keep current behavior pass the string \"sum\" instead.\n",
      "  pivot_table = pd.pivot_table(df,index=index,values=value,columns=column,aggfunc=[np.sum])\n",
      "d:\\scrips\\ana_tool\\category_ana.py:76: FutureWarning: The provided callable <function sum at 0x000002776D062DE0> is currently using DataFrameGroupBy.sum. In a future version of pandas, the provided callable will be used directly. To keep current behavior pass the string \"sum\" instead.\n",
      "  pivot_table = pd.pivot_table(df,index=index,values=value,columns=column,aggfunc=[np.sum])\n",
      "d:\\scrips\\ana_tool\\category_ana.py:76: FutureWarning: The provided callable <function sum at 0x000002776D062DE0> is currently using DataFrameGroupBy.sum. In a future version of pandas, the provided callable will be used directly. To keep current behavior pass the string \"sum\" instead.\n",
      "  pivot_table = pd.pivot_table(df,index=index,values=value,columns=column,aggfunc=[np.sum])\n",
      "d:\\scrips\\ana_tool\\category_ana.py:76: FutureWarning: The provided callable <function sum at 0x000002776D062DE0> is currently using DataFrameGroupBy.sum. In a future version of pandas, the provided callable will be used directly. To keep current behavior pass the string \"sum\" instead.\n",
      "  pivot_table = pd.pivot_table(df,index=index,values=value,columns=column,aggfunc=[np.sum])\n",
      "d:\\scrips\\ana_tool\\category_ana.py:76: FutureWarning: The provided callable <function sum at 0x000002776D062DE0> is currently using DataFrameGroupBy.sum. In a future version of pandas, the provided callable will be used directly. To keep current behavior pass the string \"sum\" instead.\n",
      "  pivot_table = pd.pivot_table(df,index=index,values=value,columns=column,aggfunc=[np.sum])\n"
     ]
    }
   ],
   "source": [
    "df_priceana = ca.salesPivotPercent(df = df,index=\"价格带\",value = \"销售额\",column=\"年\",agg_func_list=[2022,2023,2024])\n",
    "df_salesana = ca.salesPivotPercent(df=df,index = \"品牌\",value=\"销售额\",column=\"年\",agg_func_list=[2022,2023,2024])\n",
    "df_chengfenana = ca.salesPivotPercent(df=df,index=\"药品通用名\",value=\"销售额\",column=\"年\",agg_func_list=[2022,2023,2024])\n",
    "df_usewayana = ca.salesPivotPercent(df = df,index = \"产品剂型\",value= \"销售额\",column=\"年\",agg_func_list=[2022,2023,2024])\n",
    "df_nationana = ca.salesPivotPercent(df=df,index = \"产地\",value = \"销售额\",column=\"年\",agg_func_list=[2022,2023,2024])\n",
    "df_nationcount = df.pivot_table(values=\"品牌\",index = \"产地\",aggfunc=[pd.Series.nunique])\n",
    "with pd.ExcelWriter(\"D:/盐野义/临时分析\"+\"/international_skinmedision\"+\"_销售额\"+\".xlsx\",engine=\"openpyxl\") as new_wb:\n",
    "    df_salesana.to_excel(new_wb,sheet_name = \"销售额\")\n",
    "    df_priceana.to_excel(new_wb,sheet_name = \"价格带\")\n",
    "    df_chengfenana.to_excel(new_wb,sheet_name=\"药品通用名\")\n",
    "    df_usewayana.to_excel(new_wb,sheet_name=\"使用方法\")\n",
    "    df_nationana.to_excel(new_wb,sheet_name=\"产地销售\")\n",
    "    df_nationcount.to_excel(new_wb,sheet_name=\"产地品牌数\")"
   ]
  },
  {
   "cell_type": "code",
   "execution_count": 6,
   "metadata": {},
   "outputs": [],
   "source": [
    "japanese_brand = set(df.loc[df[\"产地\"]==\"日本\",\"品牌\"].to_list())"
   ]
  },
  {
   "cell_type": "code",
   "execution_count": 7,
   "metadata": {},
   "outputs": [],
   "source": [
    "df_japanese = df[df[\"品牌\"].isin(japanese_brand)]"
   ]
  },
  {
   "cell_type": "code",
   "execution_count": 9,
   "metadata": {},
   "outputs": [
    {
     "name": "stderr",
     "output_type": "stream",
     "text": [
      "d:\\scrips\\ana_tool\\category_ana.py:76: FutureWarning: The provided callable <function sum at 0x000002776D062DE0> is currently using DataFrameGroupBy.sum. In a future version of pandas, the provided callable will be used directly. To keep current behavior pass the string \"sum\" instead.\n",
      "  pivot_table = pd.pivot_table(df,index=index,values=value,columns=column,aggfunc=[np.sum])\n",
      "d:\\scrips\\ana_tool\\category_ana.py:76: FutureWarning: The provided callable <function sum at 0x000002776D062DE0> is currently using DataFrameGroupBy.sum. In a future version of pandas, the provided callable will be used directly. To keep current behavior pass the string \"sum\" instead.\n",
      "  pivot_table = pd.pivot_table(df,index=index,values=value,columns=column,aggfunc=[np.sum])\n",
      "d:\\scrips\\ana_tool\\category_ana.py:76: FutureWarning: The provided callable <function sum at 0x000002776D062DE0> is currently using DataFrameGroupBy.sum. In a future version of pandas, the provided callable will be used directly. To keep current behavior pass the string \"sum\" instead.\n",
      "  pivot_table = pd.pivot_table(df,index=index,values=value,columns=column,aggfunc=[np.sum])\n",
      "d:\\scrips\\ana_tool\\category_ana.py:76: FutureWarning: The provided callable <function sum at 0x000002776D062DE0> is currently using DataFrameGroupBy.sum. In a future version of pandas, the provided callable will be used directly. To keep current behavior pass the string \"sum\" instead.\n",
      "  pivot_table = pd.pivot_table(df,index=index,values=value,columns=column,aggfunc=[np.sum])\n",
      "d:\\scrips\\ana_tool\\category_ana.py:76: FutureWarning: The provided callable <function sum at 0x000002776D062DE0> is currently using DataFrameGroupBy.sum. In a future version of pandas, the provided callable will be used directly. To keep current behavior pass the string \"sum\" instead.\n",
      "  pivot_table = pd.pivot_table(df,index=index,values=value,columns=column,aggfunc=[np.sum])\n"
     ]
    }
   ],
   "source": [
    "df_priceana = ca.salesPivotPercent(df = df_japanese,index=\"价格带\",value = \"销售额\",column=\"年\",agg_func_list=[2022,2023,2024])\n",
    "df_salesana = ca.salesPivotPercent(df=df_japanese,index = \"品牌\",value=\"销售额\",column=\"年\",agg_func_list=[2022,2023,2024])\n",
    "df_chengfenana = ca.salesPivotPercent(df=df_japanese,index=\"药品通用名\",value=\"销售额\",column=\"年\",agg_func_list=[2022,2023,2024])\n",
    "df_usewayana = ca.salesPivotPercent(df = df_japanese,index = \"产品剂型\",value= \"销售额\",column=\"年\",agg_func_list=[2022,2023,2024])\n",
    "df_nationana = ca.salesPivotPercent(df=df_japanese,index = \"产地\",value = \"销售额\",column=\"年\",agg_func_list=[2022,2023,2024])\n",
    "df_japanese_kind = df_japanese.pivot_table(index=[\"品牌\",\"药品规格\"],columns=\"年\",values=\"销售额\")\n",
    "df_japanese_brand_kind  = df_japanese.pivot_table(index = \"产品剂型\",value = \"品牌\",aggfunc=[2022,2023,2024])\n",
    "with pd.ExcelWriter(\"D:/盐野义/临时分析\"+\"/international_japanese_skin\"+\"_销售额\"+\".xlsx\",engine=\"openpyxl\") as new_wb:\n",
    "    df_salesana.to_excel(new_wb,sheet_name = \"销售额\")\n",
    "    df_priceana.to_excel(new_wb,sheet_name = \"价格带\")\n",
    "    df_chengfenana.to_excel(new_wb,sheet_name=\"药品通用名\")\n",
    "    df_usewayana.to_excel(new_wb,sheet_name=\"使用方法\")\n",
    "    df_nationana.to_excel(new_wb,sheet_name=\"产地销售\")\n",
    "    df_japanese_kind.to_excel(new_wb,sheet_name=\"品牌规格数\")"
   ]
  },
  {
   "cell_type": "code",
   "execution_count": 11,
   "metadata": {},
   "outputs": [],
   "source": [
    "df_japanese.to_excel(\"D:/盐野义/临时分析\"+\"/international_japanese_skin\"+\"_汇总\"+\".xlsx\")"
   ]
  },
  {
   "cell_type": "code",
   "execution_count": 10,
   "metadata": {},
   "outputs": [
    {
     "data": {
      "text/plain": [
       "<function matplotlib.pyplot.show(close=None, block=None)>"
      ]
     },
     "execution_count": 10,
     "metadata": {},
     "output_type": "execute_result"
    },
    {
     "data": {
      "image/png": "[encoded data removed]",
      "text/plain": [
       "<Figure size 640x480 with 1 Axes>"
      ]
     },
     "metadata": {},
     "output_type": "display_data"
    }
   ],
   "source": [
    "price_2022 = df_japanese.loc[df[\"年\"]==2022,\"价格\"].to_list()\n",
    "price_2023 = df_japanese.loc[df[\"年\"]==2023,\"价格\"].to_list()\n",
    "price_2024 = df_japanese.loc[df[\"年\"]==2024,\"价格\"].to_list()\n",
    "plt.boxplot(\n",
    "    x=[price_2022,price_2023,price_2024]\n",
    "    ,labels=[\"2022\",\"2023\",\"2024\"]\n",
    "    ,patch_artist=True\n",
    "    ,showfliers=False\n",
    "    ,\n",
    ")\n",
    "plt.show"
   ]
  }
 ],
 "metadata": {
  "kernelspec": {
   "display_name": "base",
   "language": "python",
   "name": "python3"
  },
  "language_info": {
   "codemirror_mode": {
    "name": "ipython",
    "version": 3
   },
   "file_extension": ".py",
   "mimetype": "text/x-python",
   "name": "python",
   "nbconvert_exporter": "python",
   "pygments_lexer": "ipython3",
   "version": "3.11.7"
  }
 },
 "nbformat": 4,
 "nbformat_minor": 2
}
