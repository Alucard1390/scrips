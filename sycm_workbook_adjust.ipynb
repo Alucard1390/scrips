{
 "cells": [
  {
   "cell_type": "code",
   "execution_count": 2,
   "id": "89212ed3",
   "metadata": {},
   "outputs": [],
   "source": [
    "import pandas as pd\n",
    "import os \n",
    "\n",
    "file_routes = [\"D:/pbtest\"]"
   ]
  },
  {
   "cell_type": "code",
   "execution_count": 5,
   "id": "49dee20b",
   "metadata": {},
   "outputs": [],
   "source": [
    "df = pd.read_excel(io = \"D:\\\\pbtest\\\\【生意参谋平台】商品_全部_2025-04-01_2025-04-30.xls\",engine=\"xlrd\",header=4)"
   ]
  },
  {
   "cell_type": "code",
   "execution_count": 7,
   "id": "f68f8fb0",
   "metadata": {},
   "outputs": [
    {
     "name": "stdout",
     "output_type": "stream",
     "text": [
      "<class 'pandas.core.frame.DataFrame'>\n",
      "RangeIndex: 56 entries, 0 to 55\n",
      "Data columns (total 38 columns):\n",
      " #   Column       Non-Null Count  Dtype  \n",
      "---  ------       --------------  -----  \n",
      " 0   统计日期         56 non-null     object \n",
      " 1   商品ID         56 non-null     int64  \n",
      " 2   商品名称         56 non-null     object \n",
      " 3   主商品ID        56 non-null     int64  \n",
      " 4   商品类型         56 non-null     object \n",
      " 5   货号           56 non-null     object \n",
      " 6   商品状态         56 non-null     object \n",
      " 7   商品标签         56 non-null     object \n",
      " 8   商品访客数        56 non-null     object \n",
      " 9   商品浏览量        56 non-null     object \n",
      " 10  平均停留时长       56 non-null     float64\n",
      " 11  商品详情页跳出率     56 non-null     object \n",
      " 12  商品收藏人数       56 non-null     object \n",
      " 13  商品加购件数       56 non-null     object \n",
      " 14  商品加购人数       56 non-null     object \n",
      " 15  下单买家数        56 non-null     object \n",
      " 16  下单件数         56 non-null     object \n",
      " 17  下单金额         56 non-null     object \n",
      " 18  下单转化率        56 non-null     object \n",
      " 19  支付买家数        56 non-null     object \n",
      " 20  支付件数         56 non-null     object \n",
      " 21  支付金额         56 non-null     object \n",
      " 22  商品支付转化率      56 non-null     object \n",
      " 23  支付新买家数       56 non-null     object \n",
      " 24  支付老买家数       56 non-null     int64  \n",
      " 25  老买家支付金额      56 non-null     object \n",
      " 26  聚划算支付金额      56 non-null     float64\n",
      " 27  访客平均价值       56 non-null     float64\n",
      " 28  成功退款金额       56 non-null     object \n",
      " 29  竞争力评分        56 non-null     float64\n",
      " 30  年累计支付金额      56 non-null     object \n",
      " 31  月累计支付金额      56 non-null     object \n",
      " 32  月累计支付件数      56 non-null     object \n",
      " 33  搜索引导支付转化率    56 non-null     object \n",
      " 34  搜索引导访客数      56 non-null     object \n",
      " 35  搜索引导支付买家数    56 non-null     int64  \n",
      " 36  结构化详情引导转化率   56 non-null     object \n",
      " 37  结构化详情引导成交占比  56 non-null     object \n",
      "dtypes: float64(4), int64(4), object(30)\n",
      "memory usage: 16.8+ KB\n"
     ]
    }
   ],
   "source": [
    "df.info()"
   ]
  },
  {
   "cell_type": "code",
   "execution_count": null,
   "id": "ee7b947e",
   "metadata": {},
   "outputs": [],
   "source": []
  }
 ],
 "metadata": {
  "kernelspec": {
   "display_name": "base",
   "language": "python",
   "name": "python3"
  },
  "language_info": {
   "codemirror_mode": {
    "name": "ipython",
    "version": 3
   },
   "file_extension": ".py",
   "mimetype": "text/x-python",
   "name": "python",
   "nbconvert_exporter": "python",
   "pygments_lexer": "ipython3",
   "version": "3.12.7"
  }
 },
 "nbformat": 4,
 "nbformat_minor": 5
}
