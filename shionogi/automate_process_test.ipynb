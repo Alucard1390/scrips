{
 "cells": [
  {
   "cell_type": "code",
   "execution_count": 3,
   "metadata": {},
   "outputs": [
    {
     "name": "stdout",
     "output_type": "stream",
     "text": [
      "['2024-08-18', '2024-08-17', '2024-08-16', '2024-08-15', '2024-08-14', '2024-08-13', '2024-08-12']\n"
     ]
    }
   ],
   "source": [
    "import datetime\n",
    "def get_lastweek_date():\n",
    "    weekday = datetime.datetime.now().weekday()\n",
    "    return [datetime.datetime.strftime(datetime.datetime.now()-datetime.timedelta(weekday+i),\"%Y-%m-%d\") for i in range(1,8)]\n",
    "\n",
    "if __name__ ==\"__main__\":\n",
    "    print(get_lastweek_date())"
   ]
  }
 ],
 "metadata": {
  "kernelspec": {
   "display_name": "base",
   "language": "python",
   "name": "python3"
  },
  "language_info": {
   "codemirror_mode": {
    "name": "ipython",
    "version": 3
   },
   "file_extension": ".py",
   "mimetype": "text/x-python",
   "name": "python",
   "nbconvert_exporter": "python",
   "pygments_lexer": "ipython3",
   "version": "3.11.7"
  }
 },
 "nbformat": 4,
 "nbformat_minor": 2
}
