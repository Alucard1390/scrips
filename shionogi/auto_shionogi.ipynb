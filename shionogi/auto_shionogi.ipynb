{
 "cells": [
  {
   "cell_type": "code",
   "execution_count": 1,
   "metadata": {},
   "outputs": [],
   "source": [
    "import time\n",
    "\n",
    "from selenium import webdriver\n",
    "from selenium.webdriver.common.by import By\n",
    "from selenium.webdriver.common.keys import Keys\n",
    "from selenium.webdriver.support import expected_conditions as EC\n",
    "from selenium.webdriver.support.wait import WebDriverWait\n"
   ]
  },
  {
   "cell_type": "code",
   "execution_count": 6,
   "metadata": {},
   "outputs": [
    {
     "ename": "NoSuchElementException",
     "evalue": "Message: no such element: Unable to locate element: {\"method\":\"xpath\",\"selector\":\"//input[@name='fm-login-id']\"}\n  (Session info: MicrosoftEdge=125.0.2535.51); For documentation on this error, please visit: https://www.selenium.dev/documentation/webdriver/troubleshooting/errors#no-such-element-exception\nStacktrace:\n\tGetHandleVerifier [0x00007FF605F05FE2+61250]\n\tMicrosoft::Applications::Events::ILogConfiguration::operator* [0x00007FF605E90639+207017]\n\t(No symbol) [0x00007FF605C9E3C7]\n\t(No symbol) [0x00007FF605CE51F3]\n\t(No symbol) [0x00007FF605CE52B6]\n\t(No symbol) [0x00007FF605D20217]\n\t(No symbol) [0x00007FF605D0488F]\n\t(No symbol) [0x00007FF605CDA9F7]\n\t(No symbol) [0x00007FF605D1DE07]\n\t(No symbol) [0x00007FF605D044B3]\n\t(No symbol) [0x00007FF605CD9F1E]\n\t(No symbol) [0x00007FF605CD90DC]\n\t(No symbol) [0x00007FF605CD9AD1]\n\tMicrosoft::Applications::Events::EventProperty::to_string [0x00007FF6060BE174+1072532]\n\t(No symbol) [0x00007FF605D52CEC]\n\tMicrosoft::Applications::Events::EventProperty::~EventProperty [0x00007FF605DFEE9C+51468]\n\tMicrosoft::Applications::Events::EventProperty::~EventProperty [0x00007FF605DF3755+4549]\n\tMicrosoft::Applications::Events::EventProperty::to_string [0x00007FF6060BD135+1068373]\n\tMicrosoft::Applications::Events::ILogConfiguration::operator* [0x00007FF605E9A041+246449]\n\tMicrosoft::Applications::Events::ILogConfiguration::operator* [0x00007FF605E953A4+226836]\n\tMicrosoft::Applications::Events::ILogConfiguration::operator* [0x00007FF605E954DB+227147]\n\tMicrosoft::Applications::Events::ILogConfiguration::operator* [0x00007FF605E8BCD0+188224]\n\tBaseThreadInitThunk [0x00007FF95735257D+29]\n\tRtlUserThreadStart [0x00007FF958E0AA48+40]\n",
     "output_type": "error",
     "traceback": [
      "\u001b[1;31m---------------------------------------------------------------------------\u001b[0m",
      "\u001b[1;31mNoSuchElementException\u001b[0m                    Traceback (most recent call last)",
      "Cell \u001b[1;32mIn[6], line 7\u001b[0m\n\u001b[0;32m      5\u001b[0m browser\u001b[38;5;241m.\u001b[39mget(url)\n\u001b[0;32m      6\u001b[0m time\u001b[38;5;241m.\u001b[39msleep(\u001b[38;5;241m7\u001b[39m)\n\u001b[1;32m----> 7\u001b[0m sycmAccountInput_blank \u001b[38;5;241m=\u001b[39m browser\u001b[38;5;241m.\u001b[39mfind_element(By\u001b[38;5;241m.\u001b[39mXPATH, \u001b[38;5;124m\"\u001b[39m\u001b[38;5;124m//input[@name=\u001b[39m\u001b[38;5;124m'\u001b[39m\u001b[38;5;124mfm-login-id\u001b[39m\u001b[38;5;124m'\u001b[39m\u001b[38;5;124m]\u001b[39m\u001b[38;5;124m\"\u001b[39m)\n\u001b[0;32m      8\u001b[0m sycmAccountInput_blank\u001b[38;5;241m.\u001b[39msend_keys(\u001b[38;5;124m\"\u001b[39m\u001b[38;5;124m盐野义药品海外旗舰店:LH\u001b[39m\u001b[38;5;124m\"\u001b[39m)\n",
      "File \u001b[1;32mc:\\Users\\Administrator\\anaconda3\\Lib\\site-packages\\selenium\\webdriver\\remote\\webdriver.py:741\u001b[0m, in \u001b[0;36mWebDriver.find_element\u001b[1;34m(self, by, value)\u001b[0m\n\u001b[0;32m    738\u001b[0m     by \u001b[38;5;241m=\u001b[39m By\u001b[38;5;241m.\u001b[39mCSS_SELECTOR\n\u001b[0;32m    739\u001b[0m     value \u001b[38;5;241m=\u001b[39m \u001b[38;5;124mf\u001b[39m\u001b[38;5;124m'\u001b[39m\u001b[38;5;124m[name=\u001b[39m\u001b[38;5;124m\"\u001b[39m\u001b[38;5;132;01m{\u001b[39;00mvalue\u001b[38;5;132;01m}\u001b[39;00m\u001b[38;5;124m\"\u001b[39m\u001b[38;5;124m]\u001b[39m\u001b[38;5;124m'\u001b[39m\n\u001b[1;32m--> 741\u001b[0m \u001b[38;5;28;01mreturn\u001b[39;00m \u001b[38;5;28mself\u001b[39m\u001b[38;5;241m.\u001b[39mexecute(Command\u001b[38;5;241m.\u001b[39mFIND_ELEMENT, {\u001b[38;5;124m\"\u001b[39m\u001b[38;5;124musing\u001b[39m\u001b[38;5;124m\"\u001b[39m: by, \u001b[38;5;124m\"\u001b[39m\u001b[38;5;124mvalue\u001b[39m\u001b[38;5;124m\"\u001b[39m: value})[\u001b[38;5;124m\"\u001b[39m\u001b[38;5;124mvalue\u001b[39m\u001b[38;5;124m\"\u001b[39m]\n",
      "File \u001b[1;32mc:\\Users\\Administrator\\anaconda3\\Lib\\site-packages\\selenium\\webdriver\\remote\\webdriver.py:347\u001b[0m, in \u001b[0;36mWebDriver.execute\u001b[1;34m(self, driver_command, params)\u001b[0m\n\u001b[0;32m    345\u001b[0m response \u001b[38;5;241m=\u001b[39m \u001b[38;5;28mself\u001b[39m\u001b[38;5;241m.\u001b[39mcommand_executor\u001b[38;5;241m.\u001b[39mexecute(driver_command, params)\n\u001b[0;32m    346\u001b[0m \u001b[38;5;28;01mif\u001b[39;00m response:\n\u001b[1;32m--> 347\u001b[0m     \u001b[38;5;28mself\u001b[39m\u001b[38;5;241m.\u001b[39merror_handler\u001b[38;5;241m.\u001b[39mcheck_response(response)\n\u001b[0;32m    348\u001b[0m     response[\u001b[38;5;124m\"\u001b[39m\u001b[38;5;124mvalue\u001b[39m\u001b[38;5;124m\"\u001b[39m] \u001b[38;5;241m=\u001b[39m \u001b[38;5;28mself\u001b[39m\u001b[38;5;241m.\u001b[39m_unwrap_value(response\u001b[38;5;241m.\u001b[39mget(\u001b[38;5;124m\"\u001b[39m\u001b[38;5;124mvalue\u001b[39m\u001b[38;5;124m\"\u001b[39m, \u001b[38;5;28;01mNone\u001b[39;00m))\n\u001b[0;32m    349\u001b[0m     \u001b[38;5;28;01mreturn\u001b[39;00m response\n",
      "File \u001b[1;32mc:\\Users\\Administrator\\anaconda3\\Lib\\site-packages\\selenium\\webdriver\\remote\\errorhandler.py:229\u001b[0m, in \u001b[0;36mErrorHandler.check_response\u001b[1;34m(self, response)\u001b[0m\n\u001b[0;32m    227\u001b[0m         alert_text \u001b[38;5;241m=\u001b[39m value[\u001b[38;5;124m\"\u001b[39m\u001b[38;5;124malert\u001b[39m\u001b[38;5;124m\"\u001b[39m]\u001b[38;5;241m.\u001b[39mget(\u001b[38;5;124m\"\u001b[39m\u001b[38;5;124mtext\u001b[39m\u001b[38;5;124m\"\u001b[39m)\n\u001b[0;32m    228\u001b[0m     \u001b[38;5;28;01mraise\u001b[39;00m exception_class(message, screen, stacktrace, alert_text)  \u001b[38;5;66;03m# type: ignore[call-arg]  # mypy is not smart enough here\u001b[39;00m\n\u001b[1;32m--> 229\u001b[0m \u001b[38;5;28;01mraise\u001b[39;00m exception_class(message, screen, stacktrace)\n",
      "\u001b[1;31mNoSuchElementException\u001b[0m: Message: no such element: Unable to locate element: {\"method\":\"xpath\",\"selector\":\"//input[@name='fm-login-id']\"}\n  (Session info: MicrosoftEdge=125.0.2535.51); For documentation on this error, please visit: https://www.selenium.dev/documentation/webdriver/troubleshooting/errors#no-such-element-exception\nStacktrace:\n\tGetHandleVerifier [0x00007FF605F05FE2+61250]\n\tMicrosoft::Applications::Events::ILogConfiguration::operator* [0x00007FF605E90639+207017]\n\t(No symbol) [0x00007FF605C9E3C7]\n\t(No symbol) [0x00007FF605CE51F3]\n\t(No symbol) [0x00007FF605CE52B6]\n\t(No symbol) [0x00007FF605D20217]\n\t(No symbol) [0x00007FF605D0488F]\n\t(No symbol) [0x00007FF605CDA9F7]\n\t(No symbol) [0x00007FF605D1DE07]\n\t(No symbol) [0x00007FF605D044B3]\n\t(No symbol) [0x00007FF605CD9F1E]\n\t(No symbol) [0x00007FF605CD90DC]\n\t(No symbol) [0x00007FF605CD9AD1]\n\tMicrosoft::Applications::Events::EventProperty::to_string [0x00007FF6060BE174+1072532]\n\t(No symbol) [0x00007FF605D52CEC]\n\tMicrosoft::Applications::Events::EventProperty::~EventProperty [0x00007FF605DFEE9C+51468]\n\tMicrosoft::Applications::Events::EventProperty::~EventProperty [0x00007FF605DF3755+4549]\n\tMicrosoft::Applications::Events::EventProperty::to_string [0x00007FF6060BD135+1068373]\n\tMicrosoft::Applications::Events::ILogConfiguration::operator* [0x00007FF605E9A041+246449]\n\tMicrosoft::Applications::Events::ILogConfiguration::operator* [0x00007FF605E953A4+226836]\n\tMicrosoft::Applications::Events::ILogConfiguration::operator* [0x00007FF605E954DB+227147]\n\tMicrosoft::Applications::Events::ILogConfiguration::operator* [0x00007FF605E8BCD0+188224]\n\tBaseThreadInitThunk [0x00007FF95735257D+29]\n\tRtlUserThreadStart [0x00007FF958E0AA48+40]\n"
     ]
    }
   ],
   "source": [
    "\n",
    "url = 'https://sycm.taobao.com/portal/home.htm'\n",
    "browser = webdriver.Edge()  # 定义Edge浏览器，默认会加载当前Python虚拟环境目录下的Scripts目录下的msedgedriver.exe，也可以通过executable_path参数指定路径\n",
    "browser.maximize_window()  # 最大化窗口\n",
    "\n",
    "browser.get(url)\n",
    "time.sleep(7)\n",
    "sycmAccountInput_blank = browser.find_element(By.XPATH, \"//input[@name='fm-login-id']\")\n",
    "sycmAccountInput_blank.send_keys(\"盐野义药品海外旗舰店:LH\")\n"
   ]
  }
 ],
 "metadata": {
  "kernelspec": {
   "display_name": "base",
   "language": "python",
   "name": "python3"
  },
  "language_info": {
   "codemirror_mode": {
    "name": "ipython",
    "version": 3
   },
   "file_extension": ".py",
   "mimetype": "text/x-python",
   "name": "python",
   "nbconvert_exporter": "python",
   "pygments_lexer": "ipython3",
   "version": "3.11.7"
  }
 },
 "nbformat": 4,
 "nbformat_minor": 2
}
