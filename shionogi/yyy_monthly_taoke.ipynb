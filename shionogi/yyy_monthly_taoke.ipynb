{
 "cells": [
  {
   "cell_type": "code",
   "execution_count": 1,
   "metadata": {},
   "outputs": [],
   "source": [
    "import os\n",
    "import pandas as pd\n",
    "import re\n",
    "import numpy as np\n",
    "import datetime"
   ]
  },
  {
   "cell_type": "code",
   "execution_count": 2,
   "metadata": {},
   "outputs": [],
   "source": [
    "itemList = [\"塞德思\",\"灵的融\",\"希纳露\",\"百热朗\",\"健眠计划\",\"S+\",\"琵力消\",\"VL\"]\n",
    "def tag_add(itemName,itemLists):\n",
    "    for item in itemLists:\n",
    "        if item in itemName:\n",
    "            return item\n",
    "        else:\n",
    "            continue\n",
    "    return itemName"
   ]
  },
  {
   "cell_type": "code",
   "execution_count": 3,
   "metadata": {},
   "outputs": [],
   "source": [
    "bilibili_list = [730603253025,730901991727,730903103301]\n",
    "def bilibili_taoke_divide(sku_id,bilibili_list):\n",
    "    if sku_id in bilibili_list:\n",
    "        return \"B站\"\n",
    "    else:\n",
    "        return \"taoke\""
   ]
  },
  {
   "cell_type": "code",
   "execution_count": 4,
   "metadata": {},
   "outputs": [],
   "source": [
    "csv_list=os.listdir(r\"D:\\盐野义\\月报\\2024年6月\\淘客数据\")\n",
    "taoke_data = pd.read_csv(\"D:/盐野义/月报/2024年6月/淘客数据/\"+csv_list[0])\n",
    "\n",
    "for csvs in csv_list[1:]:\n",
    "    taoke_data_sub = pd.read_csv(\"D:/盐野义/月报/2024年6月/淘客数据/\"+csvs)\n",
    "    taoke_data = pd.concat([taoke_data,taoke_data_sub],axis=0,ignore_index=True)\n",
    "taoke_data[\"商品别名\"] = taoke_data[\"商品名称\"].astype(str).apply(lambda x:tag_add(x,itemLists=itemList))\n",
    "taoke_data[\"渠道\"] = taoke_data[\"商品ID\"].apply(lambda x:bilibili_taoke_divide(x,bilibili_list=bilibili_list))"
   ]
  },
  {
   "cell_type": "code",
   "execution_count": 5,
   "metadata": {},
   "outputs": [
    {
     "name": "stderr",
     "output_type": "stream",
     "text": [
      "C:\\Users\\Administrator\\AppData\\Local\\Temp\\ipykernel_4136\\2553800634.py:1: FutureWarning: The provided callable <function sum at 0x0000020DB9B96D40> is currently using DataFrameGroupBy.sum. In a future version of pandas, the provided callable will be used directly. To keep current behavior pass the string \"sum\" instead.\n",
      "  taoke_data.pivot_table(values=[\"付款支出费用\",\"付款金额\"],index=[\"渠道\",\"商品别名\"],aggfunc=[np.sum])\n"
     ]
    },
    {
     "data": {
      "text/html": [
       "<div>\n",
       "<style scoped>\n",
       "    .dataframe tbody tr th:only-of-type {\n",
       "        vertical-align: middle;\n",
       "    }\n",
       "\n",
       "    .dataframe tbody tr th {\n",
       "        vertical-align: top;\n",
       "    }\n",
       "\n",
       "    .dataframe thead tr th {\n",
       "        text-align: left;\n",
       "    }\n",
       "\n",
       "    .dataframe thead tr:last-of-type th {\n",
       "        text-align: right;\n",
       "    }\n",
       "</style>\n",
       "<table border=\"1\" class=\"dataframe\">\n",
       "  <thead>\n",
       "    <tr>\n",
       "      <th></th>\n",
       "      <th></th>\n",
       "      <th colspan=\"2\" halign=\"left\">sum</th>\n",
       "    </tr>\n",
       "    <tr>\n",
       "      <th></th>\n",
       "      <th></th>\n",
       "      <th>付款支出费用</th>\n",
       "      <th>付款金额</th>\n",
       "    </tr>\n",
       "    <tr>\n",
       "      <th>渠道</th>\n",
       "      <th>商品别名</th>\n",
       "      <th></th>\n",
       "      <th></th>\n",
       "    </tr>\n",
       "  </thead>\n",
       "  <tbody>\n",
       "    <tr>\n",
       "      <th rowspan=\"2\" valign=\"top\">B站</th>\n",
       "      <th>希纳露</th>\n",
       "      <td>17016.15</td>\n",
       "      <td>708699.43</td>\n",
       "    </tr>\n",
       "    <tr>\n",
       "      <th>灵的融</th>\n",
       "      <td>36929.26</td>\n",
       "      <td>237735.46</td>\n",
       "    </tr>\n",
       "    <tr>\n",
       "      <th rowspan=\"10\" valign=\"top\">taoke</th>\n",
       "      <th>5月有价优惠券</th>\n",
       "      <td>2.02</td>\n",
       "      <td>101.00</td>\n",
       "    </tr>\n",
       "    <tr>\n",
       "      <th>S+</th>\n",
       "      <td>21.46</td>\n",
       "      <td>787.25</td>\n",
       "    </tr>\n",
       "    <tr>\n",
       "      <th>VL</th>\n",
       "      <td>5.07</td>\n",
       "      <td>281.46</td>\n",
       "    </tr>\n",
       "    <tr>\n",
       "      <th>nan</th>\n",
       "      <td>0.00</td>\n",
       "      <td>0.00</td>\n",
       "    </tr>\n",
       "    <tr>\n",
       "      <th>健眠计划</th>\n",
       "      <td>11.83</td>\n",
       "      <td>394.30</td>\n",
       "    </tr>\n",
       "    <tr>\n",
       "      <th>塞德思</th>\n",
       "      <td>16.25</td>\n",
       "      <td>576.07</td>\n",
       "    </tr>\n",
       "    <tr>\n",
       "      <th>希纳露</th>\n",
       "      <td>170.26</td>\n",
       "      <td>6311.13</td>\n",
       "    </tr>\n",
       "    <tr>\n",
       "      <th>灵的融</th>\n",
       "      <td>79.37</td>\n",
       "      <td>2896.95</td>\n",
       "    </tr>\n",
       "    <tr>\n",
       "      <th>琵力消</th>\n",
       "      <td>2.97</td>\n",
       "      <td>98.87</td>\n",
       "    </tr>\n",
       "    <tr>\n",
       "      <th>百热朗</th>\n",
       "      <td>20.37</td>\n",
       "      <td>679.20</td>\n",
       "    </tr>\n",
       "  </tbody>\n",
       "</table>\n",
       "</div>"
      ],
      "text/plain": [
       "                    sum           \n",
       "                 付款支出费用       付款金额\n",
       "渠道    商品别名                        \n",
       "B站    希纳露      17016.15  708699.43\n",
       "      灵的融      36929.26  237735.46\n",
       "taoke 5月有价优惠券      2.02     101.00\n",
       "      S+          21.46     787.25\n",
       "      VL           5.07     281.46\n",
       "      nan          0.00       0.00\n",
       "      健眠计划        11.83     394.30\n",
       "      塞德思         16.25     576.07\n",
       "      希纳露        170.26    6311.13\n",
       "      灵的融         79.37    2896.95\n",
       "      琵力消          2.97      98.87\n",
       "      百热朗         20.37     679.20"
      ]
     },
     "execution_count": 5,
     "metadata": {},
     "output_type": "execute_result"
    }
   ],
   "source": [
    "taoke_data.pivot_table(values=[\"付款支出费用\",\"付款金额\"],index=[\"渠道\",\"商品别名\"],aggfunc=[np.sum])"
   ]
  }
 ],
 "metadata": {
  "kernelspec": {
   "display_name": "base",
   "language": "python",
   "name": "python3"
  },
  "language_info": {
   "codemirror_mode": {
    "name": "ipython",
    "version": 3
   },
   "file_extension": ".py",
   "mimetype": "text/x-python",
   "name": "python",
   "nbconvert_exporter": "python",
   "pygments_lexer": "ipython3",
   "version": "3.11.7"
  }
 },
 "nbformat": 4,
 "nbformat_minor": 2
}
