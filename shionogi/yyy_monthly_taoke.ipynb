{
 "cells": [
  {
   "cell_type": "code",
   "execution_count": 5,
   "metadata": {},
   "outputs": [],
   "source": [
    "import os\n",
    "import pandas as pd\n",
    "import re\n",
    "import numpy as np\n",
    "import datetime"
   ]
  },
  {
   "cell_type": "code",
   "execution_count": 6,
   "metadata": {},
   "outputs": [],
   "source": [
    "itemList = [\"塞德思\",\"灵的融\",\"希纳露\",\"百热朗\",\"健眠计划\",\"S+\",\"琵力消\",\"VL\"]\n",
    "def tag_add(itemName,itemLists):\n",
    "    for item in itemLists:\n",
    "        if item in itemName:\n",
    "            return item\n",
    "        else:\n",
    "            continue\n",
    "    return itemName"
   ]
  },
  {
   "cell_type": "code",
   "execution_count": 7,
   "metadata": {},
   "outputs": [],
   "source": [
    "bilibili_list = [730603253025,730903103301]\n",
    "def bilibili_taoke_divide(sku_id,file_name):\n",
    "    if sku_id in [730603253025,730903103301]:\n",
    "        return \"B站\"\n",
    "    else:\n",
    "        return \"taoke\""
   ]
  },
  {
   "cell_type": "code",
   "execution_count": 8,
   "metadata": {},
   "outputs": [],
   "source": [
    "csv_list=os.listdir(r\"D:\\盐野义\\月报\\2024年9月\\淘客数据\")\n",
    "taoke_data = pd.read_csv(\"D:/盐野义/月报/2024年9月/淘客数据/\"+csv_list[0])\n",
    "#taoke_data[\"渠道\"] = taoke_data[\"商品ID\"].apply(lambda x:bilibili_taoke_divide(x,bilibili_list=bilibili_list,file_name=csv_list[0]))\n",
    "taoke_data[\"文件名\"] = csv_list[0]\n",
    "#taoke_data[\"渠道\"] = \"B站\" if taoke_data[\"商品ID\"] in bilibili_list and (\"定向计划\".isin(taoke_data[\"文件名\"]) or \"自主推广-商品维度-推广概览-数据分布\" in taoke_data[\"文件名\"]) else \"taoke\"\n",
    "\n",
    "for csvs in csv_list[1:]:    \n",
    "    taoke_data_sub = pd.read_csv(\"D:/盐野义/月报/2024年9月/淘客数据/\"+csvs)\n",
    "    #taoke_data_sub[\"渠道\"] = taoke_data[\"商品ID\"].apply(lambda x:bilibili_taoke_divide(x,bilibili_list=bilibili_list,file_name=csvs))\n",
    "    taoke_data_sub[\"文件名\"] = csvs\n",
    "    #taoke_data_sub[\"渠道\"] = \"B站\" if int(taoke_data[\"商品ID\"]) in bilibili_list and (\"定向计划\" in taoke_data[\"文件名\"] or \"自主推广-商品维度-推广概览-数据分布\" in taoke_data[\"文件名\"]) else \"taoke\"\n",
    "    taoke_data = pd.concat([taoke_data,taoke_data_sub],axis=0,ignore_index=True)\n",
    "taoke_data[\"商品别名\"] = taoke_data[\"商品名称\"].astype(str).apply(lambda x:tag_add(x,itemLists=itemList))\n"
   ]
  },
  {
   "cell_type": "code",
   "execution_count": 9,
   "metadata": {},
   "outputs": [],
   "source": [
    "taoke_data[\"渠道\"] = taoke_data.apply(lambda row:bilibili_taoke_divide(sku_id=row[\"商品ID\"],file_name=row[\"文件名\"]),axis=1)"
   ]
  },
  {
   "cell_type": "code",
   "execution_count": 10,
   "metadata": {},
   "outputs": [],
   "source": [
    "taoke_data.to_excel(r\"D:\\盐野义\\月报\\2024年9月\\淘客数据\\9月淘客.xlsx\")"
   ]
  },
  {
   "cell_type": "code",
   "execution_count": 11,
   "metadata": {},
   "outputs": [
    {
     "name": "stderr",
     "output_type": "stream",
     "text": [
      "C:\\Users\\Administrator\\AppData\\Local\\Temp\\ipykernel_17872\\3755354769.py:1: FutureWarning: The provided callable <function sum at 0x00000219D5EB6DE0> is currently using DataFrameGroupBy.sum. In a future version of pandas, the provided callable will be used directly. To keep current behavior pass the string \"sum\" instead.\n",
      "  taoke_data_pivot = taoke_data.pivot_table(values=[\"点击量(即进店量)\",\"付款人数\",\"付款支出费用\",\"付款金额\"],index=[\"渠道\",\"商品别名\"],aggfunc=[np.sum])\n"
     ]
    }
   ],
   "source": [
    "taoke_data_pivot = taoke_data.pivot_table(values=[\"点击量(即进店量)\",\"付款人数\",\"付款支出费用\",\"付款金额\"],index=[\"渠道\",\"商品别名\"],aggfunc=[np.sum])"
   ]
  },
  {
   "cell_type": "code",
   "execution_count": 12,
   "metadata": {},
   "outputs": [],
   "source": [
    "taoke_data_pivot.to_excel(r\"D:\\盐野义\\月报\\2024年9月\\淘客数据\\9月淘客总结.xlsx\")"
   ]
  }
 ],
 "metadata": {
  "kernelspec": {
   "display_name": "base",
   "language": "python",
   "name": "python3"
  },
  "language_info": {
   "codemirror_mode": {
    "name": "ipython",
    "version": 3
   },
   "file_extension": ".py",
   "mimetype": "text/x-python",
   "name": "python",
   "nbconvert_exporter": "python",
   "pygments_lexer": "ipython3",
   "version": "3.11.7"
  }
 },
 "nbformat": 4,
 "nbformat_minor": 2
}
