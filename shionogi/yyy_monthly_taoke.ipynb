{
 "cells": [
  {
   "cell_type": "code",
   "execution_count": 1,
   "metadata": {},
   "outputs": [],
   "source": [
    "import os\n",
    "import pandas as pd\n",
    "import re\n",
    "import numpy as np\n",
    "import datetime"
   ]
  },
  {
   "cell_type": "code",
   "execution_count": 2,
   "metadata": {},
   "outputs": [],
   "source": [
    "itemList = [\"塞德思\",\"灵的融\",\"希纳露\",\"百热朗\",\"健眠计划\",\"S+\",\"琵力消\",\"VL\"]\n",
    "def tag_add(itemName,itemLists):\n",
    "    for item in itemLists:\n",
    "        if item in itemName:\n",
    "            return item\n",
    "        else:\n",
    "            continue\n",
    "    return itemName"
   ]
  },
  {
   "cell_type": "code",
   "execution_count": 3,
   "metadata": {},
   "outputs": [],
   "source": [
    "bilibili_list = [730603253025,730901991727,730903103301]\n",
    "def bilibili_taoke_divide(sku_id,bilibili_list,file_name):\n",
    "    if sku_id in bilibili_list and (\"定向计划\" in file_name or \"自主推广-商品维度-推广概览-数据分布\" in file_name):\n",
    "        return \"B站\"\n",
    "    else:\n",
    "        return \"taoke\""
   ]
  },
  {
   "cell_type": "code",
   "execution_count": 4,
   "metadata": {},
   "outputs": [],
   "source": [
    "csv_list=os.listdir(r\"D:\\盐野义\\月报\\2024年7月\\淘客数据\")\n",
    "taoke_data = pd.read_csv(\"D:/盐野义/月报/2024年7月/淘客数据/\"+csv_list[0])\n",
    "taoke_data[\"渠道\"] = taoke_data[\"商品ID\"].apply(lambda x:bilibili_taoke_divide(x,bilibili_list=bilibili_list,file_name=csv_list[0]))\n",
    "\n",
    "for csvs in csv_list[1:]:    \n",
    "    taoke_data_sub = pd.read_csv(\"D:/盐野义/月报/2024年7月/淘客数据/\"+csvs)\n",
    "    taoke_data_sub[\"渠道\"] = taoke_data[\"商品ID\"].apply(lambda x:bilibili_taoke_divide(x,bilibili_list=bilibili_list,file_name=csvs))\n",
    "    taoke_data = pd.concat([taoke_data,taoke_data_sub],axis=0,ignore_index=True)\n",
    "taoke_data[\"商品别名\"] = taoke_data[\"商品名称\"].astype(str).apply(lambda x:tag_add(x,itemLists=itemList))\n"
   ]
  },
  {
   "cell_type": "code",
   "execution_count": 5,
   "metadata": {},
   "outputs": [
    {
     "name": "stdout",
     "output_type": "stream",
     "text": [
      "<class 'pandas.core.frame.DataFrame'>\n",
      "RangeIndex: 80 entries, 0 to 79\n",
      "Data columns (total 37 columns):\n",
      " #   Column         Non-Null Count  Dtype  \n",
      "---  ------         --------------  -----  \n",
      " 0   商品ID           80 non-null     int64  \n",
      " 1   商品名称           73 non-null     object \n",
      " 2   商品链接           73 non-null     object \n",
      " 3   点击量(即进店量)      80 non-null     int64  \n",
      " 4   点击人数(即进店人数)    80 non-null     int64  \n",
      " 5   点击转化率(即付款转化率)  46 non-null     object \n",
      " 6   添加购物车量         80 non-null     int64  \n",
      " 7   收藏宝贝量          80 non-null     int64  \n",
      " 8   付款人数           41 non-null     float64\n",
      " 9   付款金额           80 non-null     float64\n",
      " 10  付款笔数           80 non-null     int64  \n",
      " 11  付款件数           80 non-null     int64  \n",
      " 12  付款佣金支出         80 non-null     float64\n",
      " 13  付款服务费支出        80 non-null     float64\n",
      " 14  付款佣金率          41 non-null     object \n",
      " 15  付款服务费率         41 non-null     object \n",
      " 16  付款支出费用         80 non-null     float64\n",
      " 17  结算人数           80 non-null     int64  \n",
      " 18  结算笔数           80 non-null     int64  \n",
      " 19  结算金额           80 non-null     float64\n",
      " 20  结算佣金支出         80 non-null     float64\n",
      " 21  结算服务费支出        80 non-null     float64\n",
      " 22  结算支出费用         80 non-null     float64\n",
      " 23  结算服务费率         44 non-null     object \n",
      " 24  结算佣金率          44 non-null     object \n",
      " 25  确认收货人数         80 non-null     int64  \n",
      " 26  确认收货金额         80 non-null     float64\n",
      " 27  确认收货笔数         80 non-null     int64  \n",
      " 28  单件商品付款支出费用     41 non-null     float64\n",
      " 29  预估预售整单佣金       80 non-null     float64\n",
      " 30  预估预售整单佣金率      0 non-null      float64\n",
      " 31  预售定金笔数         80 non-null     int64  \n",
      " 32  预售定金金额         80 non-null     float64\n",
      " 33  预估预售尾款金额       80 non-null     float64\n",
      " 34  预估预售整单金额       80 non-null     float64\n",
      " 35  渠道             74 non-null     object \n",
      " 36  商品别名           80 non-null     object \n",
      "dtypes: float64(16), int64(12), object(9)\n",
      "memory usage: 23.3+ KB\n"
     ]
    }
   ],
   "source": [
    "taoke_data.info()"
   ]
  },
  {
   "cell_type": "code",
   "execution_count": 8,
   "metadata": {},
   "outputs": [
    {
     "name": "stderr",
     "output_type": "stream",
     "text": [
      "C:\\Users\\Administrator\\AppData\\Local\\Temp\\ipykernel_7948\\3755354769.py:1: FutureWarning: The provided callable <function sum at 0x0000015443396CA0> is currently using DataFrameGroupBy.sum. In a future version of pandas, the provided callable will be used directly. To keep current behavior pass the string \"sum\" instead.\n",
      "  taoke_data_pivot = taoke_data.pivot_table(values=[\"点击量(即进店量)\",\"付款人数\",\"付款支出费用\",\"付款金额\"],index=[\"渠道\",\"商品别名\"],aggfunc=[np.sum])\n"
     ]
    }
   ],
   "source": [
    "taoke_data_pivot = taoke_data.pivot_table(values=[\"点击量(即进店量)\",\"付款人数\",\"付款支出费用\",\"付款金额\"],index=[\"渠道\",\"商品别名\"],aggfunc=[np.sum])"
   ]
  },
  {
   "cell_type": "code",
   "execution_count": 9,
   "metadata": {},
   "outputs": [],
   "source": [
    "taoke_data_pivot.to_excel(r\"D:\\盐野义\\月报\\2024年7月\\淘客数据\\7月淘客总结.xlsx\")"
   ]
  }
 ],
 "metadata": {
  "kernelspec": {
   "display_name": "base",
   "language": "python",
   "name": "python3"
  },
  "language_info": {
   "codemirror_mode": {
    "name": "ipython",
    "version": 3
   },
   "file_extension": ".py",
   "mimetype": "text/x-python",
   "name": "python",
   "nbconvert_exporter": "python",
   "pygments_lexer": "ipython3",
   "version": "3.11.7"
  }
 },
 "nbformat": 4,
 "nbformat_minor": 2
}
