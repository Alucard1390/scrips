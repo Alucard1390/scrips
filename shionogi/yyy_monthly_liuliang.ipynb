{
 "cells": [
  {
   "cell_type": "code",
   "execution_count": 3,
   "metadata": {},
   "outputs": [],
   "source": [
    "import pandas as pd\n",
    "import os\n",
    "from datetime import datetime\n",
    "\n",
    "this_month = str(datetime.now().year)+\"年\"+str(datetime.now().month-1)+\"月\"\n",
    "\n"
   ]
  },
  {
   "cell_type": "code",
   "execution_count": 4,
   "metadata": {},
   "outputs": [],
   "source": [
    "linderong_xls_list=os.listdir(\"D:/盐野义/月报/\"+this_month+\"/灵的融流量\")\n",
    "linderong_liuliang_data = pd.read_excel(io=\"D:/盐野义/月报/\"+this_month+\"/灵的融流量/\"+linderong_xls_list[0],skiprows=5,engine=\"xlrd\")"
   ]
  },
  {
   "cell_type": "code",
   "execution_count": 5,
   "metadata": {},
   "outputs": [],
   "source": [
    "for linderong_xlss in linderong_xls_list[1:]:\n",
    "    linderong_liuliang_data_sub = pd.read_excel(io=\"D:/盐野义/月报/\"+this_month+\"/灵的融流量/\"+linderong_xlss,skiprows=5,engine=\"xlrd\")\n",
    "    linderong_liuliang_data = pd.concat([linderong_liuliang_data,linderong_liuliang_data_sub],axis=0,ignore_index=True)"
   ]
  },
  {
   "cell_type": "code",
   "execution_count": 6,
   "metadata": {},
   "outputs": [],
   "source": [
    "linderong_liuliang_data_count = linderong_liuliang_data[linderong_liuliang_data[\"三级来源\"].isin([\"智能场景(原万相台)\",\"精准人群推广(原引力魔方)\",\"关键词推广(原直通车)\"])]"
   ]
  },
  {
   "cell_type": "code",
   "execution_count": 7,
   "metadata": {},
   "outputs": [
    {
     "name": "stderr",
     "output_type": "stream",
     "text": [
      "C:\\Users\\Administrator\\AppData\\Local\\Temp\\ipykernel_16188\\1270089148.py:1: SettingWithCopyWarning: \n",
      "A value is trying to be set on a copy of a slice from a DataFrame.\n",
      "Try using .loc[row_indexer,col_indexer] = value instead\n",
      "\n",
      "See the caveats in the documentation: https://pandas.pydata.org/pandas-docs/stable/user_guide/indexing.html#returning-a-view-versus-a-copy\n",
      "  linderong_liuliang_data_count[\"访客数\"]=linderong_liuliang_data_count[\"访客数\"].apply(lambda x:str(x).replace(\",\",\"\"))\n",
      "C:\\Users\\Administrator\\AppData\\Local\\Temp\\ipykernel_16188\\1270089148.py:2: SettingWithCopyWarning: \n",
      "A value is trying to be set on a copy of a slice from a DataFrame.\n",
      "Try using .loc[row_indexer,col_indexer] = value instead\n",
      "\n",
      "See the caveats in the documentation: https://pandas.pydata.org/pandas-docs/stable/user_guide/indexing.html#returning-a-view-versus-a-copy\n",
      "  linderong_liuliang_data_count[\"浏览量\"]=linderong_liuliang_data_count[\"浏览量\"].apply(lambda x:str(x).replace(\",\",\"\"))\n",
      "C:\\Users\\Administrator\\AppData\\Local\\Temp\\ipykernel_16188\\1270089148.py:3: SettingWithCopyWarning: \n",
      "A value is trying to be set on a copy of a slice from a DataFrame.\n",
      "Try using .loc[row_indexer,col_indexer] = value instead\n",
      "\n",
      "See the caveats in the documentation: https://pandas.pydata.org/pandas-docs/stable/user_guide/indexing.html#returning-a-view-versus-a-copy\n",
      "  linderong_liuliang_data_count[\"支付金额\"]=linderong_liuliang_data_count[\"支付金额\"].apply(lambda x:str(x).replace(\",\",\"\"))\n",
      "C:\\Users\\Administrator\\AppData\\Local\\Temp\\ipykernel_16188\\1270089148.py:4: SettingWithCopyWarning: \n",
      "A value is trying to be set on a copy of a slice from a DataFrame.\n",
      "Try using .loc[row_indexer,col_indexer] = value instead\n",
      "\n",
      "See the caveats in the documentation: https://pandas.pydata.org/pandas-docs/stable/user_guide/indexing.html#returning-a-view-versus-a-copy\n",
      "  linderong_liuliang_data_count[\"支付买家数\"]=linderong_liuliang_data_count[\"支付买家数\"].apply(lambda x:str(x).replace(\",\",\"\"))\n",
      "C:\\Users\\Administrator\\AppData\\Local\\Temp\\ipykernel_16188\\1270089148.py:5: SettingWithCopyWarning: \n",
      "A value is trying to be set on a copy of a slice from a DataFrame.\n",
      "Try using .loc[row_indexer,col_indexer] = value instead\n",
      "\n",
      "See the caveats in the documentation: https://pandas.pydata.org/pandas-docs/stable/user_guide/indexing.html#returning-a-view-versus-a-copy\n",
      "  linderong_liuliang_data_count[\"支付件数\"]=linderong_liuliang_data_count[\"支付件数\"].apply(lambda x:str(x).replace(\",\",\"\"))\n"
     ]
    }
   ],
   "source": [
    "linderong_liuliang_data_count[\"访客数\"]=linderong_liuliang_data_count[\"访客数\"].apply(lambda x:str(x).replace(\",\",\"\"))\n",
    "linderong_liuliang_data_count[\"浏览量\"]=linderong_liuliang_data_count[\"浏览量\"].apply(lambda x:str(x).replace(\",\",\"\"))\n",
    "linderong_liuliang_data_count[\"支付金额\"]=linderong_liuliang_data_count[\"支付金额\"].apply(lambda x:str(x).replace(\",\",\"\"))\n",
    "linderong_liuliang_data_count[\"支付买家数\"]=linderong_liuliang_data_count[\"支付买家数\"].apply(lambda x:str(x).replace(\",\",\"\"))\n",
    "linderong_liuliang_data_count[\"支付件数\"]=linderong_liuliang_data_count[\"支付件数\"].apply(lambda x:str(x).replace(\",\",\"\"))\n",
    "linderong_liuliang_data_count = linderong_liuliang_data_count.astype({\"访客数\":\"int64\"\n",
    "    ,\"浏览量\":\"int64\"\n",
    "    ,\"支付金额\":\"float64\"\n",
    "    ,\"支付买家数\":\"int64\"\n",
    "    ,\"支付件数\":\"int64\"\n",
    "                            })\n"
   ]
  },
  {
   "cell_type": "code",
   "execution_count": 10,
   "metadata": {},
   "outputs": [
    {
     "name": "stderr",
     "output_type": "stream",
     "text": [
      "C:\\Users\\Administrator\\AppData\\Local\\Temp\\ipykernel_16188\\4168670595.py:1: FutureWarning: The provided callable <built-in function sum> is currently using DataFrameGroupBy.sum. In a future version of pandas, the provided callable will be used directly. To keep current behavior pass the string \"sum\" instead.\n",
      "  linderong_liuliang_data_count.pivot_table(values=[\"访客数\",\"支付金额\",\"支付买家数\"],index=\"三级来源\",aggfunc=sum)\n"
     ]
    },
    {
     "data": {
      "text/html": [
       "<div>\n",
       "<style scoped>\n",
       "    .dataframe tbody tr th:only-of-type {\n",
       "        vertical-align: middle;\n",
       "    }\n",
       "\n",
       "    .dataframe tbody tr th {\n",
       "        vertical-align: top;\n",
       "    }\n",
       "\n",
       "    .dataframe thead th {\n",
       "        text-align: right;\n",
       "    }\n",
       "</style>\n",
       "<table border=\"1\" class=\"dataframe\">\n",
       "  <thead>\n",
       "    <tr style=\"text-align: right;\">\n",
       "      <th></th>\n",
       "      <th>支付买家数</th>\n",
       "      <th>支付金额</th>\n",
       "      <th>访客数</th>\n",
       "    </tr>\n",
       "    <tr>\n",
       "      <th>三级来源</th>\n",
       "      <th></th>\n",
       "      <th></th>\n",
       "      <th></th>\n",
       "    </tr>\n",
       "  </thead>\n",
       "  <tbody>\n",
       "    <tr>\n",
       "      <th>关键词推广(原直通车)</th>\n",
       "      <td>223</td>\n",
       "      <td>33335.07</td>\n",
       "      <td>4939</td>\n",
       "    </tr>\n",
       "    <tr>\n",
       "      <th>智能场景(原万相台)</th>\n",
       "      <td>342</td>\n",
       "      <td>52187.75</td>\n",
       "      <td>16041</td>\n",
       "    </tr>\n",
       "    <tr>\n",
       "      <th>精准人群推广(原引力魔方)</th>\n",
       "      <td>37</td>\n",
       "      <td>5387.30</td>\n",
       "      <td>6401</td>\n",
       "    </tr>\n",
       "  </tbody>\n",
       "</table>\n",
       "</div>"
      ],
      "text/plain": [
       "               支付买家数      支付金额    访客数\n",
       "三级来源                                 \n",
       "关键词推广(原直通车)      223  33335.07   4939\n",
       "智能场景(原万相台)       342  52187.75  16041\n",
       "精准人群推广(原引力魔方)     37   5387.30   6401"
      ]
     },
     "execution_count": 10,
     "metadata": {},
     "output_type": "execute_result"
    }
   ],
   "source": [
    "linderong_liuliang_data_count.pivot_table(values=[\"访客数\",\"支付金额\",\"支付买家数\"],index=\"三级来源\",aggfunc=sum)"
   ]
  }
 ],
 "metadata": {
  "kernelspec": {
   "display_name": "base",
   "language": "python",
   "name": "python3"
  },
  "language_info": {
   "codemirror_mode": {
    "name": "ipython",
    "version": 3
   },
   "file_extension": ".py",
   "mimetype": "text/x-python",
   "name": "python",
   "nbconvert_exporter": "python",
   "pygments_lexer": "ipython3",
   "version": "3.11.7"
  }
 },
 "nbformat": 4,
 "nbformat_minor": 2
}
