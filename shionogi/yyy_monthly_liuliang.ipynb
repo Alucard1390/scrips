{
 "cells": [
  {
   "cell_type": "code",
   "execution_count": 1,
   "metadata": {},
   "outputs": [],
   "source": [
    "import pandas as pd\n",
    "import os"
   ]
  },
  {
   "cell_type": "code",
   "execution_count": 4,
   "metadata": {},
   "outputs": [],
   "source": [
    "linderong_xls_list=os.listdir(r\"D:\\盐野义\\月报\\2024年7月\\灵的融流量\")\n",
    "linderong_liuliang_data = pd.read_excel(io=\"D:/盐野义/月报/2024年7月/灵的融流量/\"+linderong_xls_list[0],skiprows=5,engine=\"xlrd\")"
   ]
  },
  {
   "cell_type": "code",
   "execution_count": 7,
   "metadata": {},
   "outputs": [],
   "source": [
    "for linderong_xlss in linderong_xls_list[1:]:\n",
    "    linderong_liuliang_data_sub = pd.read_excel(io=\"D:/盐野义/月报/2024年7月/灵的融流量/\"+linderong_xlss,skiprows=5,engine=\"xlrd\")\n",
    "    linderong_liuliang_data = pd.concat([linderong_liuliang_data,linderong_liuliang_data_sub],axis=0,ignore_index=True)"
   ]
  },
  {
   "cell_type": "code",
   "execution_count": 10,
   "metadata": {},
   "outputs": [],
   "source": [
    "linderong_liuliang_data_count = linderong_liuliang_data[linderong_liuliang_data[\"三级来源\"].isin([\"智能场景(原万相台)\",\"精准人群推广(原引力魔方)\",\"关键词推广(原直通车)\"])]"
   ]
  },
  {
   "cell_type": "code",
   "execution_count": 17,
   "metadata": {},
   "outputs": [
    {
     "name": "stdout",
     "output_type": "stream",
     "text": [
      "<class 'pandas.core.frame.DataFrame'>\n",
      "Index: 11 entries, 2 to 142\n",
      "Data columns (total 20 columns):\n",
      " #   Column      Non-Null Count  Dtype \n",
      "---  ------      --------------  ----- \n",
      " 0   一级来源        11 non-null     object\n",
      " 1   二级来源        11 non-null     object\n",
      " 2   三级来源        11 non-null     object\n",
      " 3   访客数         11 non-null     object\n",
      " 4   浏览量         11 non-null     object\n",
      " 5   支付金额        11 non-null     object\n",
      " 6   浏览量占比       11 non-null     object\n",
      " 7   店内跳转人数      11 non-null     object\n",
      " 8   跳出本店人数      11 non-null     object\n",
      " 9   收藏人数        11 non-null     int64 \n",
      " 10  加购人数        11 non-null     object\n",
      " 11  下单买家数       11 non-null     object\n",
      " 12  下单转化率       11 non-null     object\n",
      " 13  支付件数        11 non-null     object\n",
      " 14  支付买家数       11 non-null     object\n",
      " 15  支付转化率       11 non-null     object\n",
      " 16  直接支付买家数     11 non-null     int64 \n",
      " 17  收藏商品-支付买家数  11 non-null     int64 \n",
      " 18  粉丝支付买家数     11 non-null     int64 \n",
      " 19  加购商品-支付买家数  11 non-null     int64 \n",
      "dtypes: int64(5), object(15)\n",
      "memory usage: 1.8+ KB\n"
     ]
    }
   ],
   "source": [
    "linderong_liuliang_data_count.info()"
   ]
  },
  {
   "cell_type": "code",
   "execution_count": 24,
   "metadata": {},
   "outputs": [
    {
     "name": "stderr",
     "output_type": "stream",
     "text": [
      "C:\\Users\\Administrator\\AppData\\Local\\Temp\\ipykernel_712\\1270089148.py:1: SettingWithCopyWarning: \n",
      "A value is trying to be set on a copy of a slice from a DataFrame.\n",
      "Try using .loc[row_indexer,col_indexer] = value instead\n",
      "\n",
      "See the caveats in the documentation: https://pandas.pydata.org/pandas-docs/stable/user_guide/indexing.html#returning-a-view-versus-a-copy\n",
      "  linderong_liuliang_data_count[\"访客数\"]=linderong_liuliang_data_count[\"访客数\"].apply(lambda x:str(x).replace(\",\",\"\"))\n",
      "C:\\Users\\Administrator\\AppData\\Local\\Temp\\ipykernel_712\\1270089148.py:2: SettingWithCopyWarning: \n",
      "A value is trying to be set on a copy of a slice from a DataFrame.\n",
      "Try using .loc[row_indexer,col_indexer] = value instead\n",
      "\n",
      "See the caveats in the documentation: https://pandas.pydata.org/pandas-docs/stable/user_guide/indexing.html#returning-a-view-versus-a-copy\n",
      "  linderong_liuliang_data_count[\"浏览量\"]=linderong_liuliang_data_count[\"浏览量\"].apply(lambda x:str(x).replace(\",\",\"\"))\n",
      "C:\\Users\\Administrator\\AppData\\Local\\Temp\\ipykernel_712\\1270089148.py:3: SettingWithCopyWarning: \n",
      "A value is trying to be set on a copy of a slice from a DataFrame.\n",
      "Try using .loc[row_indexer,col_indexer] = value instead\n",
      "\n",
      "See the caveats in the documentation: https://pandas.pydata.org/pandas-docs/stable/user_guide/indexing.html#returning-a-view-versus-a-copy\n",
      "  linderong_liuliang_data_count[\"支付金额\"]=linderong_liuliang_data_count[\"支付金额\"].apply(lambda x:str(x).replace(\",\",\"\"))\n",
      "C:\\Users\\Administrator\\AppData\\Local\\Temp\\ipykernel_712\\1270089148.py:4: SettingWithCopyWarning: \n",
      "A value is trying to be set on a copy of a slice from a DataFrame.\n",
      "Try using .loc[row_indexer,col_indexer] = value instead\n",
      "\n",
      "See the caveats in the documentation: https://pandas.pydata.org/pandas-docs/stable/user_guide/indexing.html#returning-a-view-versus-a-copy\n",
      "  linderong_liuliang_data_count[\"支付买家数\"]=linderong_liuliang_data_count[\"支付买家数\"].apply(lambda x:str(x).replace(\",\",\"\"))\n",
      "C:\\Users\\Administrator\\AppData\\Local\\Temp\\ipykernel_712\\1270089148.py:5: SettingWithCopyWarning: \n",
      "A value is trying to be set on a copy of a slice from a DataFrame.\n",
      "Try using .loc[row_indexer,col_indexer] = value instead\n",
      "\n",
      "See the caveats in the documentation: https://pandas.pydata.org/pandas-docs/stable/user_guide/indexing.html#returning-a-view-versus-a-copy\n",
      "  linderong_liuliang_data_count[\"支付件数\"]=linderong_liuliang_data_count[\"支付件数\"].apply(lambda x:str(x).replace(\",\",\"\"))\n"
     ]
    }
   ],
   "source": [
    "linderong_liuliang_data_count[\"访客数\"]=linderong_liuliang_data_count[\"访客数\"].apply(lambda x:str(x).replace(\",\",\"\"))\n",
    "linderong_liuliang_data_count[\"浏览量\"]=linderong_liuliang_data_count[\"浏览量\"].apply(lambda x:str(x).replace(\",\",\"\"))\n",
    "linderong_liuliang_data_count[\"支付金额\"]=linderong_liuliang_data_count[\"支付金额\"].apply(lambda x:str(x).replace(\",\",\"\"))\n",
    "linderong_liuliang_data_count[\"支付买家数\"]=linderong_liuliang_data_count[\"支付买家数\"].apply(lambda x:str(x).replace(\",\",\"\"))\n",
    "linderong_liuliang_data_count[\"支付件数\"]=linderong_liuliang_data_count[\"支付件数\"].apply(lambda x:str(x).replace(\",\",\"\"))\n",
    "linderong_liuliang_data_count = linderong_liuliang_data_count.astype({\"访客数\":\"int64\"\n",
    "    ,\"浏览量\":\"int64\"\n",
    "    ,\"支付金额\":\"float64\"\n",
    "    ,\"支付买家数\":\"int64\"\n",
    "    ,\"支付件数\":\"int64\"\n",
    "                            })\n"
   ]
  },
  {
   "cell_type": "code",
   "execution_count": 25,
   "metadata": {},
   "outputs": [
    {
     "data": {
      "text/html": [
       "<div>\n",
       "<style scoped>\n",
       "    .dataframe tbody tr th:only-of-type {\n",
       "        vertical-align: middle;\n",
       "    }\n",
       "\n",
       "    .dataframe tbody tr th {\n",
       "        vertical-align: top;\n",
       "    }\n",
       "\n",
       "    .dataframe thead th {\n",
       "        text-align: right;\n",
       "    }\n",
       "</style>\n",
       "<table border=\"1\" class=\"dataframe\">\n",
       "  <thead>\n",
       "    <tr style=\"text-align: right;\">\n",
       "      <th></th>\n",
       "      <th>支付金额</th>\n",
       "    </tr>\n",
       "    <tr>\n",
       "      <th>三级来源</th>\n",
       "      <th></th>\n",
       "    </tr>\n",
       "  </thead>\n",
       "  <tbody>\n",
       "    <tr>\n",
       "      <th>关键词推广(原直通车)</th>\n",
       "      <td>8218.887500</td>\n",
       "    </tr>\n",
       "    <tr>\n",
       "      <th>智能场景(原万相台)</th>\n",
       "      <td>14386.882500</td>\n",
       "    </tr>\n",
       "    <tr>\n",
       "      <th>精准人群推广(原引力魔方)</th>\n",
       "      <td>1009.173333</td>\n",
       "    </tr>\n",
       "  </tbody>\n",
       "</table>\n",
       "</div>"
      ],
      "text/plain": [
       "                       支付金额\n",
       "三级来源                       \n",
       "关键词推广(原直通车)     8218.887500\n",
       "智能场景(原万相台)     14386.882500\n",
       "精准人群推广(原引力魔方)   1009.173333"
      ]
     },
     "execution_count": 25,
     "metadata": {},
     "output_type": "execute_result"
    }
   ],
   "source": [
    "linderong_liuliang_data_count.pivot_table(values=[\"支付金额\"],index=\"三级来源\")"
   ]
  }
 ],
 "metadata": {
  "kernelspec": {
   "display_name": "base",
   "language": "python",
   "name": "python3"
  },
  "language_info": {
   "codemirror_mode": {
    "name": "ipython",
    "version": 3
   },
   "file_extension": ".py",
   "mimetype": "text/x-python",
   "name": "python",
   "nbconvert_exporter": "python",
   "pygments_lexer": "ipython3",
   "version": "3.11.7"
  }
 },
 "nbformat": 4,
 "nbformat_minor": 2
}
