{
 "cells": [
  {
   "cell_type": "code",
   "execution_count": 1,
   "metadata": {},
   "outputs": [],
   "source": [
    "import os\n",
    "import pandas as pd\n",
    "import re\n",
    "import numpy as np\n",
    "import datetime"
   ]
  },
  {
   "cell_type": "code",
   "execution_count": 2,
   "metadata": {},
   "outputs": [],
   "source": [
    "bilibili_list = [730603253025,730901991727,730903103301]\n",
    "def bilibili_taoke_divide(sku_id,bilibili_list):\n",
    "    if sku_id in bilibili_list:\n",
    "        return \"B站\"\n",
    "    else:\n",
    "        return \"taoke\""
   ]
  },
  {
   "cell_type": "code",
   "execution_count": 13,
   "metadata": {},
   "outputs": [],
   "source": [
    "itemList = [\"塞德思\",\"灵的融\",\"希纳露\",\"百热朗\",\"健眠计划\",\"S+\",\"琵力消\",\"VL\"]\n",
    "def tag_add(itemName,itemLists):\n",
    "    \n",
    "        for item in itemLists:\n",
    "            if item in itemName:\n",
    "                return item\n",
    "            else:\n",
    "                continue\n",
    "        return itemName"
   ]
  },
  {
   "cell_type": "code",
   "execution_count": 3,
   "metadata": {},
   "outputs": [],
   "source": [
    "def get_liuliang_date(xls_file_name):\n",
    "    date_pattern = r\"\\d{4}-\\d{2}-\\d{2}\"\n",
    "    liuliang_date = re.findall(date_pattern,xls_file_name)[0]\n",
    "    return liuliang_date"
   ]
  },
  {
   "cell_type": "code",
   "execution_count": 5,
   "metadata": {},
   "outputs": [],
   "source": [
    "xls_list=os.listdir(r\"I:\\渠道数据\")\n",
    "liuliang_data = pd.read_csv(\"I:/渠道数据/\"+xls_list[0])\n",
    "liuliang_data[\"日期\"] = pd.to_datetime(get_liuliang_date(xls_list[0]))"
   ]
  },
  {
   "cell_type": "code",
   "execution_count": 8,
   "metadata": {},
   "outputs": [],
   "source": [
    "for _data in xls_list[1:]:\n",
    "    liuliang_data_sub = pd.read_csv(\"I:/渠道数据/\"+_data)\n",
    "    liuliang_data_sub[\"日期\"] = pd.to_datetime(get_liuliang_date(_data))\n",
    "    liuliang_data = pd.concat([liuliang_data,liuliang_data_sub],axis=0,ignore_index=True)\n"
   ]
  },
  {
   "cell_type": "code",
   "execution_count": 25,
   "metadata": {},
   "outputs": [],
   "source": [
    "from numpy import int64\n",
    "\n",
    "\n",
    "liuliang_data[\"渠道\"] = liuliang_data[\"商品ID\"].apply(lambda x:bilibili_taoke_divide(sku_id=x,bilibili_list=bilibili_list))\n",
    "liuliang_data[\"月份\"] = liuliang_data[\"日期\"].dt.month\n",
    "liuliang_data.dropna(subset=[\"商品名称\"],inplace=True)\n",
    "liuliang_data[\"商品类型\"] = liuliang_data[\"商品名称\"].apply(lambda x:tag_add(itemName=x,itemLists=itemList))\n",
    "liuliang_data[\"点击人数(即进店人数)\"] = liuliang_data[\"点击人数(即进店人数)\"].astype(int64)\n"
   ]
  },
  {
   "cell_type": "code",
   "execution_count": null,
   "metadata": {},
   "outputs": [],
   "source": [
    "liuliang_data.pivot_table(values=[\"点击人数(即进店人数)\",\"付款人数\",\"付款支出费用\",\"结算金额\"],index=[\"月份\",\"渠道\",\"商品类型\"],aggfunc=sum)"
   ]
  }
 ],
 "metadata": {
  "kernelspec": {
   "display_name": "base",
   "language": "python",
   "name": "python3"
  },
  "language_info": {
   "codemirror_mode": {
    "name": "ipython",
    "version": 3
   },
   "file_extension": ".py",
   "mimetype": "text/x-python",
   "name": "python",
   "nbconvert_exporter": "python",
   "pygments_lexer": "ipython3",
   "version": "3.11.3"
  }
 },
 "nbformat": 4,
 "nbformat_minor": 2
}
