{
 "cells": [
  {
   "cell_type": "code",
   "execution_count": 1,
   "metadata": {},
   "outputs": [],
   "source": [
    "import pandas as pd\n",
    "import os"
   ]
  },
  {
   "cell_type": "code",
   "execution_count": 3,
   "metadata": {},
   "outputs": [],
   "source": [
    "files_route = 'D:/盐野义/数据/item_liuliang/'\n",
    "with pd.ExcelWriter('D:\\盐野义\\数据\\item_liuliang\\商品流量总结.xlsx') as writer:\n",
    "    for item_name in ['灵的融','希纳露','百热朗','塞德思']:\n",
    "        file_list = os.listdir(files_route+item_name+\"/\")\n",
    "        dfs = [pd.read_excel(io = files_route+item_name+\"/\"+file,engine=\"xlrd\",skiprows=5) for file in file_list]\n",
    "        combined_df = pd.concat(dfs,ignore_index=True,axis=0)\n",
    "        combined_df.to_excel(writer,sheet_name=item_name,index=False)"
   ]
  }
 ],
 "metadata": {
  "kernelspec": {
   "display_name": "base",
   "language": "python",
   "name": "python3"
  },
  "language_info": {
   "codemirror_mode": {
    "name": "ipython",
    "version": 3
   },
   "file_extension": ".py",
   "mimetype": "text/x-python",
   "name": "python",
   "nbconvert_exporter": "python",
   "pygments_lexer": "ipython3",
   "version": "3.11.7"
  }
 },
 "nbformat": 4,
 "nbformat_minor": 2
}
