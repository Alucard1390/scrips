{
 "cells": [
  {
   "cell_type": "code",
   "execution_count": 38,
   "metadata": {},
   "outputs": [],
   "source": [
    "import json\n",
    "import pandas as pd"
   ]
  },
  {
   "cell_type": "code",
   "execution_count": 39,
   "metadata": {},
   "outputs": [],
   "source": [
    "item_list = [{'type': 'XHR', 'url': 'https://dmp.taobao.com/api_2/analysis/tag/151434?_tb_token_=0ffR3OYXTpQob9qUkIl1&_csrf=47420af4-4b74-40fc-bba0-bd261c3c1232&csrfId=47420af4-4b74-40fc-bba0-bd261c3c1232', 'status': 200, 'headers': {'access-control-allow-credentials': 'true', 'access-control-allow-origin': 'https://dmp.taobao.com', 'access-control-expose-headers': 'Set-Cookie', 'cache-control': 'no-cache, no-store, max-age=0, must-revalidate', 'content-encoding': 'gzip', 'content-type': 'application/json', 'date': 'Thu, 05 Sep 2024 11:07:09 GMT', 'eagleeye-traceid': '21367c7717255344284531980e535f', 'expires': '0', 'pragma': 'no-cache', 's_group': 'tao-session', 's_ip': '457079564a2b6e6772746f7277373759', 's_read_unit': '[CN:CENTER]', 's_status': 'STATUS_NORMAL', 's_tag': '285873024827392|134217728^0|^taoSubUser:2217829116081:^taoSubUser#45106365017915392|0', 's_ucode': 'CN:CENTER', 's_v': '4.0.4.9', 'server': 'Tengine', 'strict-transport-security': 'max-age=31536000 ; includeSubDomains, max-age=0', 'timing-allow-origin': '*', 'vary': 'Accept-Encoding, Origin', 'x-application-context': 'dmp-site:dmp-site-publish:7001', 'x-content-type-options': 'nosniff', 'x-xss-protection': '1; mode=block'}, 'body': '{\"data\":{\"chartDataFull\":[{\"tagId\":\"151434\",\"rate\":\"0.23745209285200247\",\"ctrIndex\":\"24\",\"optionValue\":\"Z世代\",\"tagOptionGroupId\":\"33602\",\"tagType\":\"CHECKBOX\",\"optionId\":\"6264643\",\"isHaveSubOption\":\"false\",\"ppcIndex\":\"0.4-0.6\",\"optionName\":\"Z世代\",\"tagName\":\"聚划算策略人群\",\"optionNum\":\"14188\"},{\"tagId\":\"151434\",\"rate\":\"0.13490987598533916\",\"ctrIndex\":\"35\",\"optionValue\":\"品质辣妈\",\"tagOptionGroupId\":\"33602\",\"tagType\":\"CHECKBOX\",\"optionId\":\"6264646\",\"isHaveSubOption\":\"false\",\"ppcIndex\":\"4.2-4.4\",\"optionName\":\"品质辣妈\",\"tagName\":\"聚划算策略人群\",\"optionNum\":\"8061\"},{\"tagId\":\"151434\",\"rate\":\"0.340814379675654\",\"ctrIndex\":\"2\",\"optionValue\":\"城市新中产\",\"tagOptionGroupId\":\"33602\",\"tagType\":\"CHECKBOX\",\"optionId\":\"6264645\",\"isHaveSubOption\":\"false\",\"ppcIndex\":\"0.0-0.2\",\"optionName\":\"城市新中产\",\"tagName\":\"聚划算策略人群\",\"optionNum\":\"20364\"},{\"tagId\":\"151434\",\"rate\":\"0.08356345500493716\",\"ctrIndex\":\"13\",\"optionValue\":\"小镇精英\",\"tagOptionGroupId\":\"33602\",\"tagType\":\"CHECKBOX\",\"optionId\":\"6264644\",\"isHaveSubOption\":\"false\",\"ppcIndex\":\"0.0-0.2\",\"optionName\":\"小镇精英\",\"tagName\":\"聚划算策略人群\",\"optionNum\":\"4993\"},{\"tagId\":\"151434\",\"rate\":\"0.06644240263761277\",\"ctrIndex\":\"0\",\"optionValue\":\"小镇草根\",\"tagOptionGroupId\":\"33602\",\"tagType\":\"CHECKBOX\",\"optionId\":\"6264648\",\"isHaveSubOption\":\"false\",\"ppcIndex\":\"0.0-0.2\",\"optionName\":\"小镇群众\",\"tagName\":\"聚划算策略人群\",\"optionNum\":\"3970\"},{\"tagId\":\"151434\",\"rate\":\"0.022091680473966962\",\"ctrIndex\":\"24\",\"optionValue\":\"精明主妇\",\"tagOptionGroupId\":\"33602\",\"tagType\":\"CHECKBOX\",\"optionId\":\"6264647\",\"isHaveSubOption\":\"false\",\"ppcIndex\":\"5.0-5.2\",\"optionName\":\"持家主妇\",\"tagName\":\"聚划算策略人群\",\"optionNum\":\"1320\"},{\"tagId\":\"151434\",\"rate\":\"0.11245000083680608\",\"ctrIndex\":\"0\",\"optionValue\":\"都市蓝领\",\"tagOptionGroupId\":\"33602\",\"tagType\":\"CHECKBOX\",\"optionId\":\"6264649\",\"isHaveSubOption\":\"false\",\"ppcIndex\":\"0.0-0.2\",\"optionName\":\"都市蓝领\",\"tagName\":\"聚划算策略人群\",\"optionNum\":\"6719\"},{\"tagId\":\"151434\",\"rate\":\"0.02734682264731971\",\"ctrIndex\":\"0\",\"optionValue\":\"银发人群\",\"tagOptionGroupId\":\"33602\",\"tagType\":\"CHECKBOX\",\"optionId\":\"6264650\",\"isHaveSubOption\":\"false\",\"ppcIndex\":\"0.0-0.2\",\"optionName\":\"银发人群\",\"tagName\":\"聚划算策略人群\",\"optionNum\":\"1634\"}],\"data\":{\"Z世代\":14188,\"品质辣妈\":8061,\"城市新中产\":20364,\"小镇精英\":4993,\"小镇草根\":3970,\"精明主妇\":1320,\"都市蓝领\":6719,\"银发人群\":1634}},\"info\":{\"code\":0,\"ok\":true,\"requestID\":\"21367c7717255344284531980e535f\"},\"trace\":{}}', 'requestHeaders': {'Accept': 'application/json, text/javascript, */*; q=0.01', 'Content-Type': 'application/json', 'Referer': 'https://dmp.taobao.com/index_new.html?spm=a2e3k.13920195.cf7687754.d46d8d2e4.254825ebDOmz9X', 'User-Agent': 'Mozilla/5.0 (Windows NT 10.0; Win64; x64) AppleWebKit/537.36 (KHTML, like Gecko) Chrome/128.0.0.0 Safari/537.36 Edg/128.0.0.0', 'X-Requested-With': 'XMLHttpRequest', 'bx-v': '2.5.14', 'sec-ch-ua': '\"Chromium\";v=\"128\", \"Not;A=Brand\";v=\"24\", \"Microsoft Edge\";v=\"128\"', 'sec-ch-ua-mobile': '?0', 'sec-ch-ua-platform': '\"Windows\"'}, 'requestBody': '{\"version\":\"2.0\",\"selectTagOptionSet\":{\"operator\":1,\"selectTagOptionSet\":[{\"empty\":false,\"leaf\":false,\"operator\":1,\"selectTagOptionSet\":[{\"empty\":false,\"leaf\":false,\"operator\":1,\"selectTagOptionSet\":[{\"empty\":true,\"leaf\":true,\"operator\":1,\"selectTagOptionSet\":[],\"selects\":[{\"key\":\"213740_130239\",\"names\":\"盐野义药品海外旗舰店\",\"optionGroupId\":130239,\"tagId\":213740,\"tagName\":\"店铺潜新老客\",\"values\":\"258956614\"},{\"key\":\"213740_130240\",\"names\":\"首购老客,复购老客\",\"optionGroupId\":130240,\"tagId\":213740,\"tagName\":\"店铺潜新老客\",\"values\":\"4,5\"}],\"tagFrom\":0}],\"selects\":[],\"tagFrom\":0},{\"empty\":true,\"leaf\":true,\"operator\":2,\"selectTagOptionSet\":[],\"selects\":[],\"tagFrom\":0}],\"selects\":[],\"tagFrom\":0,\"name\":\"店铺老客\",\"id\":31498520,\"storageType\":1},{\"operator\":1,\"selectTagOptionSet\":[]}],\"selects\":[]},\"needUnknown\":false,\"ext\":{},\"effectQuery\":{\"indexTypes\":[\"ctr\",\"ppc\"],\"cateId\":\"201273575\",\"deliverType\":4},\"crowdId\":31498520}', 'method': 'POST', 'base64Encoded': False}, {'type': 'XHR', 'url': 'https://dmp.taobao.com/api_2/analysis/tag/151434?_tb_token_=0ffR3OYXTpQob9qUkIl1&_csrf=47420af4-4b74-40fc-bba0-bd261c3c1232&csrfId=47420af4-4b74-40fc-bba0-bd261c3c1232', 'status': 200, 'headers': {'access-control-allow-credentials': 'true', 'access-control-allow-origin': 'https://dmp.taobao.com', 'access-control-expose-headers': 'Set-Cookie', 'cache-control': 'no-cache, no-store, max-age=0, must-revalidate', 'content-encoding': 'gzip', 'content-type': 'application/json', 'date': 'Thu, 05 Sep 2024 11:07:09 GMT', 'eagleeye-traceid': '21367c7717255344284621981e535f', 'expires': '0', 'pragma': 'no-cache', 's_group': 'tao-session', 's_ip': '457079564a4a776b3571746d3357724c', 's_read_unit': '[CN:CENTER]', 's_status': 'STATUS_NORMAL', 's_tag': '285873024827392|134217728^0|^taoSubUser:2217829116081:^taoSubUser#45106365017915392|0', 's_ucode': 'CN:CENTER', 's_v': '4.0.4.9', 'server': 'Tengine', 'strict-transport-security': 'max-age=31536000 ; includeSubDomains, max-age=0', 'timing-allow-origin': '*', 'vary': 'Accept-Encoding, Origin', 'x-application-context': 'dmp-site:dmp-site-publish:7001', 'x-content-type-options': 'nosniff', 'x-xss-protection': '1; mode=block'}, 'body': '{\"data\":{\"chartDataFull\":[{\"tagId\":\"151434\",\"rate\":\"0.07567621608831893\",\"ctrIndex\":\"3\",\"optionValue\":\"Z世代\",\"tagOptionGroupId\":\"33602\",\"tagType\":\"CHECKBOX\",\"optionId\":\"6264643\",\"isHaveSubOption\":\"false\",\"ppcIndex\":\"0.8-1.0\",\"optionName\":\"Z世代\",\"tagName\":\"聚划算策略人群\",\"optionNum\":\"116751377\"},{\"tagId\":\"151434\",\"rate\":\"0.026370409846325774\",\"ctrIndex\":\"3\",\"optionValue\":\"品质辣妈\",\"tagOptionGroupId\":\"33602\",\"tagType\":\"CHECKBOX\",\"optionId\":\"6264646\",\"isHaveSubOption\":\"false\",\"ppcIndex\":\"1.2-1.4\",\"optionName\":\"品质辣妈\",\"tagName\":\"聚划算策略人群\",\"optionNum\":\"40683610\"},{\"tagId\":\"151434\",\"rate\":\"0.05994268564247108\",\"ctrIndex\":\"3\",\"optionValue\":\"城市新中产\",\"tagOptionGroupId\":\"33602\",\"tagType\":\"CHECKBOX\",\"optionId\":\"6264645\",\"isHaveSubOption\":\"false\",\"ppcIndex\":\"0.8-1.0\",\"optionName\":\"城市新中产\",\"tagName\":\"聚划算策略人群\",\"optionNum\":\"92478079\"},{\"tagId\":\"151434\",\"rate\":\"0.037982116402355375\",\"ctrIndex\":\"4\",\"optionValue\":\"小镇精英\",\"tagOptionGroupId\":\"33602\",\"tagType\":\"CHECKBOX\",\"optionId\":\"6264644\",\"isHaveSubOption\":\"false\",\"ppcIndex\":\"0.8-1.0\",\"optionName\":\"小镇精英\",\"tagName\":\"聚划算策略人群\",\"optionNum\":\"58597861\"},{\"tagId\":\"151434\",\"rate\":\"0.14693764852959418\",\"ctrIndex\":\"4\",\"optionValue\":\"小镇草根\",\"tagOptionGroupId\":\"33602\",\"tagType\":\"CHECKBOX\",\"optionId\":\"6264648\",\"isHaveSubOption\":\"false\",\"ppcIndex\":\"0.6-0.8\",\"optionName\":\"小镇群众\",\"tagName\":\"聚划算策略人群\",\"optionNum\":\"226691736\"},{\"tagId\":\"151434\",\"rate\":\"0.03529784947855483\",\"ctrIndex\":\"4\",\"optionValue\":\"精明主妇\",\"tagOptionGroupId\":\"33602\",\"tagType\":\"CHECKBOX\",\"optionId\":\"6264647\",\"isHaveSubOption\":\"false\",\"ppcIndex\":\"0.8-1.0\",\"optionName\":\"持家主妇\",\"tagName\":\"聚划算策略人群\",\"optionNum\":\"54456641\"},{\"tagId\":\"151434\",\"rate\":\"0.1490963806339423\",\"ctrIndex\":\"4\",\"optionValue\":\"都市蓝领\",\"tagOptionGroupId\":\"33602\",\"tagType\":\"CHECKBOX\",\"optionId\":\"6264649\",\"isHaveSubOption\":\"false\",\"ppcIndex\":\"0.6-0.8\",\"optionName\":\"都市蓝领\",\"tagName\":\"聚划算策略人群\",\"optionNum\":\"230022174\"},{\"tagId\":\"151434\",\"rate\":\"0.14445794221420108\",\"ctrIndex\":\"5\",\"optionValue\":\"银发人群\",\"tagOptionGroupId\":\"33602\",\"tagType\":\"CHECKBOX\",\"optionId\":\"6264650\",\"isHaveSubOption\":\"false\",\"ppcIndex\":\"0.4-0.6\",\"optionName\":\"银发人群\",\"tagName\":\"聚划算策略人群\",\"optionNum\":\"222866107\"}],\"data\":{\"Z世代\":116751377,\"品质辣妈\":40683610,\"城市新中产\":92478079,\"小镇精英\":58597861,\"小镇草根\":226691736,\"精明主妇\":54456641,\"都市蓝领\":230022174,\"银发人群\":222866107}},\"info\":{\"code\":0,\"ok\":true,\"requestID\":\"21367c7717255344284621981e535f\"},\"trace\":{}}', 'requestHeaders': {'Accept': 'application/json, text/javascript, */*; q=0.01', 'Content-Type': 'application/json', 'Referer': 'https://dmp.taobao.com/index_new.html?spm=a2e3k.13920195.cf7687754.d46d8d2e4.254825ebDOmz9X', 'User-Agent': 'Mozilla/5.0 (Windows NT 10.0; Win64; x64) AppleWebKit/537.36 (KHTML, like Gecko) Chrome/128.0.0.0 Safari/537.36 Edg/128.0.0.0', 'X-Requested-With': 'XMLHttpRequest', 'bx-v': '2.5.14', 'sec-ch-ua': '\"Chromium\";v=\"128\", \"Not;A=Brand\";v=\"24\", \"Microsoft Edge\";v=\"128\"', 'sec-ch-ua-mobile': '?0', 'sec-ch-ua-platform': '\"Windows\"'}, 'requestBody': '{\"version\":\"2.0\",\"selectTagOptionSet\":{\"operator\":1,\"selectTagOptionSet\":[{\"operator\":4,\"selectTagOptionSet\":[{\"operator\":1,\"selects\":[],\"selectTagOptionSet\":[{\"operator\":1,\"selects\":[],\"selectTagOptionSet\":[{\"selects\":[{\"tagId\":114554,\"optionGroupId\":12685,\"values\":\"0,1\"}]}]}]},{\"operator\":2,\"selects\":[],\"selectTagOptionSet\":[]}],\"selects\":[]},{\"operator\":1,\"selectTagOptionSet\":[]}],\"selects\":[]},\"needUnknown\":false,\"ext\":{},\"effectQuery\":{\"indexTypes\":[\"ctr\",\"ppc\"],\"cateId\":\"201273575\",\"deliverType\":4}}', 'method': 'POST', 'base64Encoded': False}]"
   ]
  },
  {
   "cell_type": "code",
   "execution_count": 40,
   "metadata": {},
   "outputs": [],
   "source": [
    "data_dict = {\"标签\":[],\"数据\":[]}\n",
    "for j in range(0,len(item_list),2):\n",
    "        for charactor_list in json.loads(item_list[j][\"body\"])[\"data\"][\"chartDataFull\"]:\n",
    "                data_dict[\"标签\"].append(charactor_list[\"optionValue\"])\n",
    "                data_dict[\"数据\"].append(charactor_list[\"rate\"])\n"
   ]
  },
  {
   "cell_type": "code",
   "execution_count": 41,
   "metadata": {},
   "outputs": [],
   "source": [
    "result_df = pd.DataFrame(data_dict)\n",
    "result_df[\"数据\"] = result_df[\"数据\"].astype(\"Float64\")"
   ]
  },
  {
   "cell_type": "code",
   "execution_count": 42,
   "metadata": {},
   "outputs": [],
   "source": [
    "result_df.to_excel(\"D:/盐野义/月报/2024年8月/人群画像/老客策略.xlsx\",index=False)"
   ]
  }
 ],
 "metadata": {
  "kernelspec": {
   "display_name": "base",
   "language": "python",
   "name": "python3"
  },
  "language_info": {
   "codemirror_mode": {
    "name": "ipython",
    "version": 3
   },
   "file_extension": ".py",
   "mimetype": "text/x-python",
   "name": "python",
   "nbconvert_exporter": "python",
   "pygments_lexer": "ipython3",
   "version": "3.11.7"
  }
 },
 "nbformat": 4,
 "nbformat_minor": 2
}
