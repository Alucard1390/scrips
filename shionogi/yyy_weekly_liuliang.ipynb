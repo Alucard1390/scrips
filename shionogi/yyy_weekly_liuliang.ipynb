{
 "cells": [
  {
   "cell_type": "code",
   "execution_count": 1,
   "metadata": {},
   "outputs": [],
   "source": [
    "import os\n",
    "import pandas as pd\n",
    "import re\n",
    "import numpy as np\n",
    "import datetime"
   ]
  },
  {
   "cell_type": "code",
   "execution_count": 2,
   "metadata": {},
   "outputs": [],
   "source": [
    "def get_liuliang_date(xls_file_name):\n",
    "    date_pattern = r\"\\d{4}-\\d{2}-\\d{2}\"\n",
    "    liuliang_date = re.findall(date_pattern,xls_file_name)[0]\n",
    "    return liuliang_date"
   ]
  },
  {
   "cell_type": "code",
   "execution_count": 3,
   "metadata": {},
   "outputs": [],
   "source": [
    "xls_list=os.listdir(r\"D:\\盐野义\\数据\\liuliang\")\n",
    "liuliang_data = pd.read_excel(io=\"D:/盐野义/数据/liuliang/\"+xls_list[0],skiprows=5,engine=\"xlrd\")\n",
    "liuliang_data[\"日期\"] = pd.to_datetime(get_liuliang_date(xls_list[0]))\n"
   ]
  },
  {
   "cell_type": "code",
   "execution_count": 4,
   "metadata": {},
   "outputs": [],
   "source": [
    "for liuliang_xls in xls_list[1:]:\n",
    "    liuliang_data_sub = pd.read_excel(io=\"D:/盐野义/数据/liuliang/\"+liuliang_xls,skiprows=5,engine=\"xlrd\")\n",
    "    liuliang_data_sub[\"日期\"] = pd.to_datetime(get_liuliang_date(liuliang_xls))\n",
    "    liuliang_data = pd.concat([liuliang_data,liuliang_data_sub],axis=0,ignore_index=True)\n",
    "\n",
    "liuliang_data.to_excel(\"D:/盐野义/数据/liuliang/本周流量总结.xlsx\",index=False)"
   ]
  }
 ],
 "metadata": {
  "kernelspec": {
   "display_name": "base",
   "language": "python",
   "name": "python3"
  },
  "language_info": {
   "codemirror_mode": {
    "name": "ipython",
    "version": 3
   },
   "file_extension": ".py",
   "mimetype": "text/x-python",
   "name": "python",
   "nbconvert_exporter": "python",
   "pygments_lexer": "ipython3",
   "version": "3.11.7"
  }
 },
 "nbformat": 4,
 "nbformat_minor": 2
}
