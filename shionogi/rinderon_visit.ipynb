{
 "cells": [
  {
   "cell_type": "code",
   "execution_count": 1,
   "metadata": {},
   "outputs": [],
   "source": [
    "import pandas as pd\n",
    "import json"
   ]
  },
  {
   "cell_type": "code",
   "execution_count": 2,
   "metadata": {},
   "outputs": [],
   "source": [
    "with open(r\"D:\\盐野义\\月报\\人群画像\\灵的融竞店\\灵的融浏览竞店省年城.json\",\"r\",encoding=\"UTF-8\") as f1:\n",
    "    competition1 = json.load(f1)\n",
    "with open(r\"D:\\盐野义\\月报\\人群画像\\灵的融竞店\\灵的融浏览竞店策略.json\",\"r\",encoding=\"UTF-8\") as f2:\n",
    "    competition2 = json.load(f2)\n"
   ]
  },
  {
   "cell_type": "code",
   "execution_count": 3,
   "metadata": {},
   "outputs": [],
   "source": [
    "data = {\"rivalShop2\":{},\"rivalShop1\":{},\"selfShop\":{}}\n"
   ]
  },
  {
   "cell_type": "code",
   "execution_count": 4,
   "metadata": {},
   "outputs": [],
   "source": [
    "for shop in [\"rivalShop2\",\"rivalShop1\",\"selfShop\"]:\n",
    "    for gender in competition1[\"data\"][shop][\"gender\"]:\n",
    "        data[shop][gender[\"attributeValue\"]]=gender[\"uvRatio\"]\n",
    "    for province in competition1[\"data\"][shop][\"province\"]:\n",
    "        data[shop][province[\"attributeValue\"]]=province[\"uvRatio\"]\n",
    "    for age in competition1[\"data\"][shop][\"age\"]:\n",
    "        data[shop][age[\"attributeValue\"]]=age[\"uvRatio\"]\n",
    "    for groups in competition2[\"data\"][shop]:\n",
    "        data[shop][groups[\"crowdId\"]]=groups[\"uvRatio\"]\n"
   ]
  },
  {
   "cell_type": "code",
   "execution_count": 5,
   "metadata": {},
   "outputs": [],
   "source": [
    "df = pd.DataFrame(data)\n",
    "df.fillna(0,inplace=True)"
   ]
  },
  {
   "cell_type": "code",
   "execution_count": 6,
   "metadata": {},
   "outputs": [],
   "source": [
    "df.to_excel(\"D:/盐野义/月报/人群画像/灵的融竞店浏览人群画像.xlsx\")"
   ]
  }
 ],
 "metadata": {
  "kernelspec": {
   "display_name": "base",
   "language": "python",
   "name": "python3"
  },
  "language_info": {
   "codemirror_mode": {
    "name": "ipython",
    "version": 3
   },
   "file_extension": ".py",
   "mimetype": "text/x-python",
   "name": "python",
   "nbconvert_exporter": "python",
   "pygments_lexer": "ipython3",
   "version": "3.11.7"
  }
 },
 "nbformat": 4,
 "nbformat_minor": 2
}
