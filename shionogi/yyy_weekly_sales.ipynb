{
 "cells": [
  {
   "cell_type": "code",
   "execution_count": 1,
   "metadata": {},
   "outputs": [],
   "source": [
    "import os\n",
    "import pandas as pd\n",
    "from sqlalchemy import create_engine"
   ]
  },
  {
   "cell_type": "code",
   "execution_count": 2,
   "metadata": {},
   "outputs": [],
   "source": [
    "def df_to_sql(df_to_dwh,dwh_list):\n",
    "    username = \"root\"\n",
    "    password = \"9518llhh731X\"\n",
    "    host = \"localhost\"\n",
    "    port = 3306\n",
    "    database = \"dwh\"\n",
    "    charset = \"utf8mb4\"\n",
    "    connection_string = f'mysql+pymysql://{username}:{password}@{host}:{port}/{database}?charset={charset}'\n",
    "    conn = create_engine(connection_string)\n",
    "    pd.io.sql.to_sql(df_to_dwh,dwh_list,con=conn,if_exists=\"append\",index=False)\n",
    "    return"
   ]
  },
  {
   "cell_type": "code",
   "execution_count": 3,
   "metadata": {},
   "outputs": [],
   "source": [
    "itemList = [\"塞德思\",\"灵的融\",\"希纳露\",\"百热朗\",\"健眠计划\",\"棒维素\",\"琵力消\",\"整肠药\"]\n",
    "def tag_add(itemName,itemLists):\n",
    "    for item in itemLists:\n",
    "        if item in itemName:\n",
    "            return item\n",
    "        else:\n",
    "            continue\n",
    "    return itemName"
   ]
  },
  {
   "cell_type": "code",
   "execution_count": 4,
   "metadata": {},
   "outputs": [],
   "source": [
    "def item_xls_change(unit):\n",
    "    if \"%\" in unit:\n",
    "        return float(unit.replace(\"%\",\"\"))/100.0\n",
    "    elif \".\" in unit:\n",
    "        return float(unit.replace(\",\",\"\"))\n",
    "    else:\n",
    "        try:\n",
    "            return int(unit.replace(\",\",\"\"))\n",
    "        except:\n",
    "            return unit.replace(\",\",\"\")"
   ]
  },
  {
   "cell_type": "code",
   "execution_count": 5,
   "metadata": {},
   "outputs": [],
   "source": [
    "xls_sales_dtype = {'统计日期':'datetime64[ns]'\n",
    ",'商品ID':'int64'\n",
    ",'商品名称':'object'\n",
    ",'主商品ID':'object'\n",
    ",'货号':'object'\n",
    ",'商品状态':'object'\n",
    ",'商品标签':'object'\n",
    ",'商品访客数':'object'\n",
    ",'商品浏览量':'object'\n",
    ",'平均停留时长':'object'\n",
    ",'商品详情页跳出率':'object'\n",
    ",'商品收藏人数':'object'\n",
    ",'商品加购件数':'object'\n",
    ",'商品加购人数':'object'\n",
    ",'下单买家数':'object'\n",
    ",'下单件数':'object'\n",
    ",'下单金额':'object'\n",
    ",'下单转化率':'object'\n",
    ",'支付买家数':'object'\n",
    ",'支付件数':'object'\n",
    ",'支付金额':'object'\n",
    ",'商品支付转化率':'object'\n",
    ",'支付新买家数':'object'\n",
    ",'支付老买家数':'object'\n",
    ",'老买家支付金额':'object'\n",
    ",'聚划算支付金额':'object'\n",
    ",'访客平均价值':'object'\n",
    ",'成功退款金额':'object'\n",
    ",'竞争力评分':'object'\n",
    ",'年累计支付金额':'object'\n",
    ",'月累计支付金额':'object'\n",
    ",'月累计支付件数':'object'\n",
    ",'搜索引导支付转化率':'object'\n",
    ",'搜索引导访客数':'object'\n",
    ",'搜索引导支付买家数':'object'\n",
    ",'结构化详情引导转化率':'object'\n",
    ",'结构化详情引导成交占比':'object'\n",
    "}\n"
   ]
  },
  {
   "cell_type": "code",
   "execution_count": 6,
   "metadata": {},
   "outputs": [],
   "source": [
    "def df_to_sql(df_to_dwh,dwh_list):\n",
    "    username = \"root\"\n",
    "    password = \"9518llhh731X\"\n",
    "    host = \"localhost\"\n",
    "    port = 3306\n",
    "    database = \"dwh\"\n",
    "    charset = \"utf8mb4\"\n",
    "    connection_string = f'mysql+pymysql://{username}:{password}@{host}:{port}/{database}?charset={charset}'\n",
    "    conn = create_engine(connection_string)\n",
    "    pd.io.sql.to_sql(df_to_dwh,dwh_list,con=conn,if_exists=\"append\",index=False)\n",
    "    return"
   ]
  },
  {
   "cell_type": "code",
   "execution_count": 7,
   "metadata": {},
   "outputs": [],
   "source": [
    "item_sales_xls_list=os.listdir(r\"D:\\盐野义\\数据\\sales_data\")"
   ]
  },
  {
   "cell_type": "code",
   "execution_count": 8,
   "metadata": {},
   "outputs": [],
   "source": [
    "item_data = pd.read_excel(io=\"D:/盐野义/数据/sales_data/\"+item_sales_xls_list[0],skiprows=4,engine=\"xlrd\",dtype=xls_sales_dtype)\n",
    "for xls_file in item_sales_xls_list[1:]:\n",
    "    item_data_sub = pd.read_excel(io=\"D:/盐野义/数据/sales_data/\"+xls_file,skiprows=4,engine=\"xlrd\",dtype=xls_sales_dtype)\n",
    "    item_data = pd.concat([item_data,item_data_sub],axis=0,ignore_index=True)"
   ]
  },
  {
   "cell_type": "code",
   "execution_count": 9,
   "metadata": {},
   "outputs": [],
   "source": [
    "for columuns_name in item_data.columns[2:].to_list():\n",
    "    item_data[columuns_name] = item_data[columuns_name].apply(lambda x:item_xls_change(x))\n",
    "item_data[\"商品别名\"] = item_data[\"商品名称\"].apply(lambda x:tag_add(x,itemList))"
   ]
  },
  {
   "cell_type": "code",
   "execution_count": 10,
   "metadata": {},
   "outputs": [],
   "source": [
    "item_data.drop(columns=[\"主商品ID\",\"商品类型\"],axis=1,inplace=True)"
   ]
  },
  {
   "cell_type": "code",
   "execution_count": 11,
   "metadata": {},
   "outputs": [],
   "source": [
    "df_to_sql(df_to_dwh=item_data,dwh_list=\"yyy_sales\")"
   ]
  },
  {
   "cell_type": "code",
   "execution_count": 12,
   "metadata": {},
   "outputs": [],
   "source": [
    "item_data.to_excel(\"D:/盐野义/数据/sales_data/本周商品销售情况.xlsx\")"
   ]
  }
 ],
 "metadata": {
  "kernelspec": {
   "display_name": "base",
   "language": "python",
   "name": "python3"
  },
  "language_info": {
   "codemirror_mode": {
    "name": "ipython",
    "version": 3
   },
   "file_extension": ".py",
   "mimetype": "text/x-python",
   "name": "python",
   "nbconvert_exporter": "python",
   "pygments_lexer": "ipython3",
   "version": "3.11.7"
  }
 },
 "nbformat": 4,
 "nbformat_minor": 2
}
