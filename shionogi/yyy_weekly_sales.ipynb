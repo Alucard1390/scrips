{
 "cells": [
  {
   "cell_type": "code",
   "execution_count": 1,
   "metadata": {},
   "outputs": [],
   "source": [
    "import os\n",
    "import pandas as pd\n",
    "from sqlalchemy import create_engine"
   ]
  },
  {
   "cell_type": "code",
   "execution_count": 2,
   "metadata": {},
   "outputs": [],
   "source": [
    "def df_to_sql(df_to_dwh,dwh_list):\n",
    "    username = \"root\"\n",
    "    password = \"9518llhh731X\"\n",
    "    host = \"localhost\"\n",
    "    port = 3306\n",
    "    database = \"dwh\"\n",
    "    charset = \"utf8mb4\"\n",
    "    connection_string = f'mysql+pymysql://{username}:{password}@{host}:{port}/{database}?charset={charset}'\n",
    "    conn = create_engine(connection_string)\n",
    "    pd.io.sql.to_sql(df_to_dwh,dwh_list,con=conn,if_exists=\"append\",index=False)\n",
    "    return"
   ]
  },
  {
   "cell_type": "code",
   "execution_count": 3,
   "metadata": {},
   "outputs": [],
   "source": [
    "itemList = [\"塞德思\",\"灵的融\",\"希纳露\",\"百热朗\",\"健眠计划\",\"棒维素\",\"琵力消\",\"整肠药\"]\n",
    "def tag_add(itemName,itemLists):\n",
    "    for item in itemLists:\n",
    "        if item in itemName:\n",
    "            return item\n",
    "        else:\n",
    "            continue\n",
    "    return itemName"
   ]
  },
  {
   "cell_type": "code",
   "execution_count": 4,
   "metadata": {},
   "outputs": [],
   "source": [
    "def item_xls_change(unit):\n",
    "    if \"%\" in unit:\n",
    "        return float(unit.replace(\"%\",\"\"))/100.0\n",
    "    elif \".\" in unit:\n",
    "        return float(unit.replace(\",\",\"\"))\n",
    "    else:\n",
    "        try:\n",
    "            return int(unit.replace(\",\",\"\"))\n",
    "        except:\n",
    "            return unit.replace(\",\",\"\")"
   ]
  },
  {
   "cell_type": "code",
   "execution_count": 5,
   "metadata": {},
   "outputs": [],
   "source": [
    "xls_sales_dtype = {'统计日期':'datetime64[ns]'\n",
    ",'商品ID':'int64'\n",
    ",'商品名称':'object'\n",
    ",'主商品ID':'object'\n",
    ",'货号':'object'\n",
    ",'商品状态':'object'\n",
    ",'商品标签':'object'\n",
    ",'商品访客数':'object'\n",
    ",'商品浏览量':'object'\n",
    ",'平均停留时长':'object'\n",
    ",'商品详情页跳出率':'object'\n",
    ",'商品收藏人数':'object'\n",
    ",'商品加购件数':'object'\n",
    ",'商品加购人数':'object'\n",
    ",'下单买家数':'object'\n",
    ",'下单件数':'object'\n",
    ",'下单金额':'object'\n",
    ",'下单转化率':'object'\n",
    ",'支付买家数':'object'\n",
    ",'支付件数':'object'\n",
    ",'支付金额':'object'\n",
    ",'商品支付转化率':'object'\n",
    ",'支付新买家数':'object'\n",
    ",'支付老买家数':'object'\n",
    ",'老买家支付金额':'object'\n",
    ",'聚划算支付金额':'object'\n",
    ",'访客平均价值':'object'\n",
    ",'成功退款金额':'object'\n",
    ",'竞争力评分':'object'\n",
    ",'年累计支付金额':'object'\n",
    ",'月累计支付金额':'object'\n",
    ",'月累计支付件数':'object'\n",
    ",'搜索引导支付转化率':'object'\n",
    ",'搜索引导访客数':'object'\n",
    ",'搜索引导支付买家数':'object'\n",
    ",'结构化详情引导转化率':'object'\n",
    ",'结构化详情引导成交占比':'object'\n",
    "}\n"
   ]
  },
  {
   "cell_type": "code",
   "execution_count": 6,
   "metadata": {},
   "outputs": [],
   "source": [
    "def df_to_sql(df_to_dwh,dwh_list):\n",
    "    username = \"root\"\n",
    "    password = \"9518llhh731X\"\n",
    "    host = \"localhost\"\n",
    "    port = 3306\n",
    "    database = \"dwh\"\n",
    "    charset = \"utf8mb4\"\n",
    "    connection_string = f'mysql+pymysql://{username}:{password}@{host}:{port}/{database}?charset={charset}'\n",
    "    conn = create_engine(connection_string)\n",
    "    pd.io.sql.to_sql(df_to_dwh,dwh_list,con=conn,if_exists=\"append\",index=False)\n",
    "    return"
   ]
  },
  {
   "cell_type": "code",
   "execution_count": 7,
   "metadata": {},
   "outputs": [],
   "source": [
    "item_sales_xls_list=os.listdir(r\"D:\\盐野义\\数据\\sales_data\")"
   ]
  },
  {
   "cell_type": "code",
   "execution_count": 15,
   "metadata": {},
   "outputs": [],
   "source": [
    "item_data = pd.read_excel(io=\"D:/盐野义/数据/sales_data/\"+item_sales_xls_list[0],skiprows=4,engine=\"xlrd\",dtype=xls_sales_dtype)\n",
    "for xls_file in item_sales_xls_list[1:]:\n",
    "    item_data_sub = pd.read_excel(io=\"D:/盐野义/数据/sales_data/\"+xls_file,skiprows=4,engine=\"xlrd\",dtype=xls_sales_dtype)\n",
    "    item_data = pd.concat([item_data,item_data_sub],axis=0,ignore_index=True)"
   ]
  },
  {
   "cell_type": "code",
   "execution_count": 9,
   "metadata": {},
   "outputs": [
    {
     "name": "stdout",
     "output_type": "stream",
     "text": [
      "<class 'pandas.core.frame.DataFrame'>\n",
      "RangeIndex: 115 entries, 0 to 114\n",
      "Data columns (total 38 columns):\n",
      " #   Column       Non-Null Count  Dtype         \n",
      "---  ------       --------------  -----         \n",
      " 0   统计日期         115 non-null    datetime64[ns]\n",
      " 1   商品ID         115 non-null    int64         \n",
      " 2   商品名称         115 non-null    object        \n",
      " 3   主商品ID        115 non-null    object        \n",
      " 4   商品类型         115 non-null    object        \n",
      " 5   货号           115 non-null    object        \n",
      " 6   商品状态         115 non-null    object        \n",
      " 7   商品标签         115 non-null    object        \n",
      " 8   商品访客数        115 non-null    object        \n",
      " 9   商品浏览量        115 non-null    object        \n",
      " 10  平均停留时长       115 non-null    object        \n",
      " 11  商品详情页跳出率     115 non-null    object        \n",
      " 12  商品收藏人数       115 non-null    object        \n",
      " 13  商品加购件数       115 non-null    object        \n",
      " 14  商品加购人数       115 non-null    object        \n",
      " 15  下单买家数        115 non-null    object        \n",
      " 16  下单件数         115 non-null    object        \n",
      " 17  下单金额         115 non-null    object        \n",
      " 18  下单转化率        115 non-null    object        \n",
      " 19  支付买家数        115 non-null    object        \n",
      " 20  支付件数         115 non-null    object        \n",
      " 21  支付金额         115 non-null    object        \n",
      " 22  商品支付转化率      115 non-null    object        \n",
      " 23  支付新买家数       115 non-null    object        \n",
      " 24  支付老买家数       115 non-null    object        \n",
      " 25  老买家支付金额      115 non-null    object        \n",
      " 26  聚划算支付金额      115 non-null    object        \n",
      " 27  访客平均价值       115 non-null    object        \n",
      " 28  成功退款金额       115 non-null    object        \n",
      " 29  竞争力评分        115 non-null    object        \n",
      " 30  年累计支付金额      115 non-null    object        \n",
      " 31  月累计支付金额      115 non-null    object        \n",
      " 32  月累计支付件数      115 non-null    object        \n",
      " 33  搜索引导支付转化率    115 non-null    object        \n",
      " 34  搜索引导访客数      115 non-null    object        \n",
      " 35  搜索引导支付买家数    115 non-null    object        \n",
      " 36  结构化详情引导转化率   115 non-null    object        \n",
      " 37  结构化详情引导成交占比  115 non-null    object        \n",
      "dtypes: datetime64[ns](1), int64(1), object(36)\n",
      "memory usage: 34.3+ KB\n"
     ]
    }
   ],
   "source": [
    "item_data.info()"
   ]
  },
  {
   "cell_type": "code",
   "execution_count": 16,
   "metadata": {},
   "outputs": [],
   "source": [
    "for columuns_name in item_data.columns[2:].to_list():\n",
    "    item_data[columuns_name] = item_data[columuns_name].apply(lambda x:item_xls_change(x))\n",
    "item_data[\"商品别名\"] = item_data[\"商品名称\"].apply(lambda x:tag_add(x,itemList))"
   ]
  },
  {
   "cell_type": "code",
   "execution_count": 17,
   "metadata": {},
   "outputs": [],
   "source": [
    "item_data.drop(columns=[\"主商品ID\",\"商品类型\"],axis=1,inplace=True)"
   ]
  },
  {
   "cell_type": "code",
   "execution_count": 18,
   "metadata": {},
   "outputs": [],
   "source": [
    "df_to_sql(df_to_dwh=item_data,dwh_list=\"yyy_sales\")"
   ]
  },
  {
   "cell_type": "code",
   "execution_count": 19,
   "metadata": {},
   "outputs": [],
   "source": [
    "item_data.to_excel(\"D:/盐野义/数据/sales_data/本周商品销售情况.xlsx\")"
   ]
  }
 ],
 "metadata": {
  "kernelspec": {
   "display_name": "base",
   "language": "python",
   "name": "python3"
  },
  "language_info": {
   "codemirror_mode": {
    "name": "ipython",
    "version": 3
   },
   "file_extension": ".py",
   "mimetype": "text/x-python",
   "name": "python",
   "nbconvert_exporter": "python",
   "pygments_lexer": "ipython3",
   "version": "3.11.7"
  }
 },
 "nbformat": 4,
 "nbformat_minor": 2
}
