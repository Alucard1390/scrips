{
 "cells": [
  {
   "cell_type": "code",
   "execution_count": 1,
   "metadata": {},
   "outputs": [],
   "source": [
    "import os\n",
    "import pandas as pd\n",
    "import re\n",
    "import numpy as np\n",
    "import datetime"
   ]
  },
  {
   "cell_type": "code",
   "execution_count": 2,
   "metadata": {},
   "outputs": [],
   "source": [
    "def get_sku_sales_date(xls_file_name):\n",
    "    date_pattern = r\"\\d{4}-\\d{2}-\\d{2}\"\n",
    "    sku_date = re.findall(date_pattern,xls_file_name)[0]\n",
    "    return sku_date"
   ]
  },
  {
   "cell_type": "code",
   "execution_count": 3,
   "metadata": {},
   "outputs": [],
   "source": [
    "bilibili_list = [730603253025,730901991727,730903103301]\n",
    "def bilibili_taoke_divide(sku_id,bilibili_list,file_name):\n",
    "    if sku_id in bilibili_list and (\"定向计划\" in file_name or \"自主推广-商品维度-推广概览-数据分布\" in file_name):\n",
    "        return \"B站\"\n",
    "    else:\n",
    "        return \"taoke\""
   ]
  },
  {
   "cell_type": "code",
   "execution_count": 4,
   "metadata": {},
   "outputs": [],
   "source": [
    "itemList = [\"塞德思\",\"灵的融\",\"希纳露\",\"百热朗\",\"健眠计划\",\"棒维素\",\"琵力消\",\"整肠药\"]\n",
    "def tag_add(itemName,itemLists):\n",
    "    for item in itemLists:\n",
    "        if item in itemName:\n",
    "            return item\n",
    "        else:\n",
    "            continue\n",
    "    return itemName"
   ]
  },
  {
   "cell_type": "code",
   "execution_count": 5,
   "metadata": {},
   "outputs": [
    {
     "name": "stderr",
     "output_type": "stream",
     "text": [
      "C:\\Users\\Administrator\\AppData\\Local\\Temp\\ipykernel_10248\\1641066044.py:11: FutureWarning: The behavior of DataFrame concatenation with empty or all-NA entries is deprecated. In a future version, this will no longer exclude empty or all-NA columns when determining the result dtypes. To retain the old behavior, exclude the relevant entries before the concat operation.\n",
      "  df = pd.concat([df,bilibili_data_sub],axis=0,ignore_index=True)\n",
      "C:\\Users\\Administrator\\AppData\\Local\\Temp\\ipykernel_10248\\1641066044.py:11: FutureWarning: The behavior of DataFrame concatenation with empty or all-NA entries is deprecated. In a future version, this will no longer exclude empty or all-NA columns when determining the result dtypes. To retain the old behavior, exclude the relevant entries before the concat operation.\n",
      "  df = pd.concat([df,bilibili_data_sub],axis=0,ignore_index=True)\n"
     ]
    }
   ],
   "source": [
    "xls_list=os.listdir(\"D:/盐野义/数据/taoke/\")\n",
    "df = pd.read_csv(\"D:/盐野义/数据/taoke/\"+xls_list[0])\n",
    "#df[\"渠道\"] = df[\"商品ID\"].apply(lambda x:bilibili_taoke_divide(sku_id = x,bilibili_list = bilibili_list,file_name = xls_list[0]))\n",
    "df[\"日期\"] = get_sku_sales_date(xls_file_name=xls_list[0])\n",
    "df[\"文件名\"] = xls_list[0]\n",
    "for bilibili_csv in xls_list[1:]:\n",
    "    bilibili_data_sub = pd.read_csv(\"D:/盐野义/数据/taoke/\"+bilibili_csv)\n",
    "    #bilibili_data_sub[\"渠道\"] = bilibili_data_sub[\"商品ID\"].apply(lambda x:bilibili_taoke_divide(sku_id= x,bilibili_list = bilibili_list,file_name = bilibili_csv))\n",
    "    bilibili_data_sub[\"日期\"] = get_sku_sales_date(xls_file_name=bilibili_csv)\n",
    "    bilibili_data_sub[\"文件名\"] = bilibili_csv\n",
    "    df = pd.concat([df,bilibili_data_sub],axis=0,ignore_index=True)\n",
    "df[\"商品名称\"] = df[\"商品名称\"].fillna('其他')\n",
    "df[\"商品别名\"] = df[\"商品名称\"].apply(lambda x:tag_add(x,itemList))\n",
    "df[\"渠道\"] = df.apply(lambda row:bilibili_taoke_divide(sku_id=row[\"商品ID\"],bilibili_list=bilibili_list,file_name=row[\"文件名\"]),axis=1)"
   ]
  },
  {
   "cell_type": "code",
   "execution_count": 6,
   "metadata": {},
   "outputs": [],
   "source": [
    "bilibili_data = df[df[\"渠道\"]==\"B站\"]\n",
    "taoke_data = df[df[\"渠道\"]==\"taoke\"]"
   ]
  },
  {
   "cell_type": "code",
   "execution_count": 7,
   "metadata": {},
   "outputs": [],
   "source": [
    "bilibili_pivot = bilibili_data.pivot_table(values=\"付款人数\",index=\"商品别名\",columns=\"日期\",aggfunc=\"sum\")\n",
    "bilibili_sort_dict ={'希纳露':1,\"灵的融\":0}\n",
    "bilibili_pivot.sort_index(key=lambda x:x.map(bilibili_sort_dict),inplace=True)\n",
    "taoke_pivot = taoke_data.pivot_table(values=\"付款人数\",index=\"商品别名\",columns=\"日期\",aggfunc=\"sum\")\n",
    "taoke_sort_dict ={\"塞德思\":0,\"灵的融\":1,\"百热朗\":2,\"希纳露\":3,\"棒维素\":4,\"琵力消\":5,\"健眠计划\":6}\n",
    "taoke_pivot.sort_index(key=lambda x:x.map(taoke_sort_dict),inplace=True)\n"
   ]
  },
  {
   "cell_type": "code",
   "execution_count": 8,
   "metadata": {},
   "outputs": [],
   "source": [
    "bilibili_pivot.to_excel(\"D:/盐野义/数据/每周淘客/bilibili推广_\"+str(datetime.date.today())+\".xlsx\")\n",
    "taoke_pivot.to_excel(\"D:/盐野义/数据/每周淘客/taoke推广_\"+str(datetime.date.today())+\".xlsx\")"
   ]
  }
 ],
 "metadata": {
  "kernelspec": {
   "display_name": "base",
   "language": "python",
   "name": "python3"
  },
  "language_info": {
   "codemirror_mode": {
    "name": "ipython",
    "version": 3
   },
   "file_extension": ".py",
   "mimetype": "text/x-python",
   "name": "python",
   "nbconvert_exporter": "python",
   "pygments_lexer": "ipython3",
   "version": "3.11.7"
  }
 },
 "nbformat": 4,
 "nbformat_minor": 2
}
