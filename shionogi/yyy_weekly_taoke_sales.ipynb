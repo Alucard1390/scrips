{
 "cells": [
  {
   "cell_type": "code",
   "execution_count": 1,
   "metadata": {},
   "outputs": [],
   "source": [
    "import os\n",
    "import pandas as pd\n",
    "import re\n",
    "import numpy as np\n",
    "import datetime"
   ]
  },
  {
   "cell_type": "code",
   "execution_count": 2,
   "metadata": {},
   "outputs": [],
   "source": [
    "def get_sku_sales_date(xls_file_name):\n",
    "    date_pattern = r\"\\d{4}-\\d{2}-\\d{2}\"\n",
    "    sku_date = re.findall(date_pattern,xls_file_name)[0]\n",
    "    return sku_date"
   ]
  },
  {
   "cell_type": "code",
   "execution_count": 3,
   "metadata": {},
   "outputs": [],
   "source": [
    "itemList = [\"塞德思\",\"灵的融\",\"希纳露\",\"百热朗\",\"健眠计划\",\"棒维素\",\"琵力消\",\"整肠药\"]\n",
    "def tag_add(itemName,itemLists):\n",
    "    for item in itemLists:\n",
    "        if item in itemName:\n",
    "            return item\n",
    "        else:\n",
    "            continue\n",
    "    return itemName"
   ]
  },
  {
   "cell_type": "code",
   "execution_count": 4,
   "metadata": {},
   "outputs": [],
   "source": [
    "xls_list=os.listdir(r\"D:\\盐野义\\数据\\taoke\")\n",
    "bilibili_xls_list = [x for x in xls_list if \"定向计划\" in x or \"商品维度\" in x]\n",
    "taoke_xls_list = [x for x in xls_list if \"团长活动\" in x or \"自选计划\" in x  or \"通用计划\" in x]"
   ]
  },
  {
   "cell_type": "code",
   "execution_count": 5,
   "metadata": {},
   "outputs": [],
   "source": [
    "bilibili_data = pd.read_csv(\"D:/盐野义/数据/taoke/\"+bilibili_xls_list[0])\n",
    "for bilibili_csv in bilibili_xls_list[1:]:\n",
    "    bilibili_data_sub = pd.read_csv(\"D:/盐野义/数据/taoke/\"+bilibili_csv)\n",
    "    bilibili_data = pd.concat([bilibili_data,bilibili_data_sub],axis=0,ignore_index=True)"
   ]
  },
  {
   "cell_type": "code",
   "execution_count": 6,
   "metadata": {},
   "outputs": [],
   "source": [
    "bilibili_data = pd.read_csv(\"D:/盐野义/数据/taoke/\"+bilibili_xls_list[0])\n",
    "bilibili_data[\"日期\"] = pd.to_datetime(get_sku_sales_date(bilibili_xls_list[0]))\n",
    "for bilibili_csv in bilibili_xls_list[1:]:\n",
    "    bilibili_data_sub = pd.read_csv(\"D:/盐野义/数据/taoke/\"+bilibili_csv)\n",
    "    bilibili_data_sub[\"日期\"] = pd.to_datetime(get_sku_sales_date(bilibili_csv))\n",
    "    bilibili_data = pd.concat([bilibili_data,bilibili_data_sub],axis=0,ignore_index=True)\n",
    "bilibili_data[\"商品名称\"] = bilibili_data[\"商品名称\"].fillna(\"其他\")\n",
    "bilibili_data[\"商品别名\"] = bilibili_data[\"商品名称\"].apply(lambda x:tag_add(x,itemList))"
   ]
  },
  {
   "cell_type": "code",
   "execution_count": 7,
   "metadata": {},
   "outputs": [],
   "source": [
    "taoke_data = pd.read_csv(\"D:/盐野义/数据/taoke/\"+taoke_xls_list[0])\n",
    "taoke_data[\"日期\"] = pd.to_datetime(get_sku_sales_date(taoke_xls_list[0]))\n",
    "for taoke_csv in taoke_xls_list[1:]:\n",
    "    taoke_data_sub = pd.read_csv(\"D:/盐野义/数据/taoke/\"+taoke_csv)\n",
    "    taoke_data_sub[\"日期\"] = pd.to_datetime(get_sku_sales_date(taoke_csv))\n",
    "    taoke_data = pd.concat([taoke_data,taoke_data_sub],axis=0,ignore_index=True)\n",
    "taoke_data[\"商品名称\"] = taoke_data[\"商品名称\"].fillna(\"其他\")\n",
    "taoke_data[\"商品别名\"] = taoke_data[\"商品名称\"].apply(lambda x:tag_add(x,itemList))"
   ]
  },
  {
   "cell_type": "code",
   "execution_count": 8,
   "metadata": {},
   "outputs": [],
   "source": [
    "bilibili_pivot = bilibili_data.pivot_table(values=\"付款人数\",index=\"商品别名\",columns=\"日期\",aggfunc=\"sum\")\n",
    "taoke_pivot = taoke_data.pivot_table(values=\"付款人数\",index=\"商品别名\",columns=\"日期\",aggfunc=\"sum\")"
   ]
  },
  {
   "cell_type": "code",
   "execution_count": 9,
   "metadata": {},
   "outputs": [],
   "source": [
    "bilibili_pivot.to_excel(\"D:/盐野义/数据/每周淘客/bilibili推广_\"+str(datetime.date.today())+\".xlsx\")\n",
    "taoke_pivot.to_excel(\"D:/盐野义/数据/每周淘客/taoke推广_\"+str(datetime.date.today())+\".xlsx\")"
   ]
  }
 ],
 "metadata": {
  "kernelspec": {
   "display_name": "base",
   "language": "python",
   "name": "python3"
  },
  "language_info": {
   "codemirror_mode": {
    "name": "ipython",
    "version": 3
   },
   "file_extension": ".py",
   "mimetype": "text/x-python",
   "name": "python",
   "nbconvert_exporter": "python",
   "pygments_lexer": "ipython3",
   "version": "3.11.7"
  }
 },
 "nbformat": 4,
 "nbformat_minor": 2
}
