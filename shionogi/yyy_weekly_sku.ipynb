{
 "cells": [
  {
   "cell_type": "code",
   "execution_count": 1,
   "metadata": {},
   "outputs": [],
   "source": [
    "import os\n",
    "import pandas as pd\n",
    "import re\n",
    "from sqlalchemy import create_engine"
   ]
  },
  {
   "cell_type": "code",
   "execution_count": 2,
   "metadata": {},
   "outputs": [],
   "source": [
    "xls_sku_dtype = {\"skuId\":\"int64\"\n",
    "    ,\"sku名称\":\"object\"\n",
    "    ,\"支付金额\":\"object\"\n",
    "    ,\"支付买家数\":\"object\"\n",
    "    ,\"支付件数\":\"object\"\n",
    "    ,\"加购件数\":\"object\"\n",
    "                            }"
   ]
  },
  {
   "cell_type": "code",
   "execution_count": 3,
   "metadata": {},
   "outputs": [],
   "source": [
    "def df_to_sql(df_to_dwh,dwh_list):\n",
    "    username = \"root\"\n",
    "    password = \"9518llhh731X\"\n",
    "    host = \"localhost\"\n",
    "    port = 3306\n",
    "    database = \"dwh\"\n",
    "    charset = \"utf8mb4\"\n",
    "    connection_string = f'mysql+pymysql://{username}:{password}@{host}:{port}/{database}?charset={charset}'\n",
    "    conn = create_engine(connection_string)\n",
    "    pd.io.sql.to_sql(df_to_dwh,dwh_list,con=conn,if_exists=\"append\",index=False)\n",
    "    return"
   ]
  },
  {
   "cell_type": "code",
   "execution_count": 4,
   "metadata": {},
   "outputs": [],
   "source": [
    "skuList = [\"塞德思\",\"希纳露\",\"百热朗\",\"健眠计划\",\"棒维素\",\"琵力消\",\"整肠药\"]\n",
    "def sku_tag_add(itemName,itemLists):\n",
    "    for item in itemLists:\n",
    "        if item in itemName:\n",
    "            return item\n",
    "        else:\n",
    "            continue\n",
    "    return '灵的融'"
   ]
  },
  {
   "cell_type": "code",
   "execution_count": 5,
   "metadata": {},
   "outputs": [],
   "source": [
    "def get_sku_sales_date(xls_file_name):\n",
    "    date_pattern = r\"\\d{4}-\\d{2}-\\d{2}\"\n",
    "    sku_date = re.findall(date_pattern,xls_file_name)[0]\n",
    "    return sku_date"
   ]
  },
  {
   "cell_type": "code",
   "execution_count": 6,
   "metadata": {},
   "outputs": [],
   "source": [
    "sku_sales_xls_list=os.listdir(r\"D:\\盐野义\\数据\\sku_data\")"
   ]
  },
  {
   "cell_type": "code",
   "execution_count": 7,
   "metadata": {},
   "outputs": [],
   "source": [
    "sku_data = pd.read_excel(io=\"D:/盐野义/数据/sku_data/\"+sku_sales_xls_list[0],skiprows=5,engine=\"xlrd\",dtype=xls_sku_dtype)\n",
    "sku_data[\"日期\"] = pd.to_datetime(get_sku_sales_date(sku_sales_xls_list[0]))"
   ]
  },
  {
   "cell_type": "code",
   "execution_count": 8,
   "metadata": {},
   "outputs": [],
   "source": [
    "for xls_file in sku_sales_xls_list[1:]:\n",
    "    sku_data_sub = pd.read_excel(io=\"D:/盐野义/数据/sku_data/\"+xls_file,skiprows=5,engine=\"xlrd\",dtype=xls_sku_dtype)\n",
    "    sku_data_sub[\"日期\"] = pd.to_datetime(get_sku_sales_date(xls_file))\n",
    "    sku_data = pd.concat([sku_data,sku_data_sub],axis=0,ignore_index=True)"
   ]
  },
  {
   "cell_type": "code",
   "execution_count": 9,
   "metadata": {},
   "outputs": [],
   "source": [
    "sku_data[\"商品别名\"] = sku_data[\"sku名称\"].apply(lambda x:sku_tag_add(x,itemLists=skuList))\n"
   ]
  },
  {
   "cell_type": "code",
   "execution_count": 10,
   "metadata": {},
   "outputs": [],
   "source": [
    "sku_data[\"支付金额\"] = sku_data[\"支付金额\"].apply(lambda x:x.replace(\",\",\"\"))\n",
    "sku_data[\"支付买家数\"] = sku_data[\"支付买家数\"].apply(lambda x:x.replace(\",\",\"\"))\n",
    "sku_data[\"支付件数\"] = sku_data[\"支付件数\"].apply(lambda x:x.replace(\",\",\"\"))\n",
    "sku_data[\"加购件数\"] = sku_data[\"加购件数\"].apply(lambda x:x.replace(\",\",\"\"))"
   ]
  },
  {
   "cell_type": "code",
   "execution_count": 11,
   "metadata": {},
   "outputs": [],
   "source": [
    "sku_data = sku_data.astype({\"日期\":\"datetime64[ns]\"\n",
    "    ,\"skuId\":\"int64\"\n",
    "    ,\"sku名称\":\"object\"\n",
    "    ,\"支付金额\":\"float64\"\n",
    "    ,\"支付买家数\":\"int64\"\n",
    "    ,\"支付件数\":\"int64\"\n",
    "    ,\"加购件数\":\"int64\"\n",
    "                            })\n"
   ]
  },
  {
   "cell_type": "code",
   "execution_count": 12,
   "metadata": {},
   "outputs": [],
   "source": [
    "df_to_sql(df_to_dwh=sku_data,dwh_list=\"yyy_sku\")"
   ]
  },
  {
   "cell_type": "code",
   "execution_count": 15,
   "metadata": {},
   "outputs": [],
   "source": [
    "username = \"root\"\n",
    "password = \"9518llhh731X\"\n",
    "host = \"localhost\"\n",
    "port = 3306\n",
    "database = \"dwh\"\n",
    "charset = \"utf8mb4\"\n",
    "connection_string = f'mysql+pymysql://{username}:{password}@{host}:{port}/{database}?charset={charset}'\n",
    "conn = create_engine(connection_string)\n",
    "query = '''\n",
    "select * from \n",
    "((\n",
    "select \n",
    "sales.统计日期 as 日期\n",
    ",sales.商品别名 \n",
    ",'' as skuid\n",
    ",'' as sku名称\n",
    ",sum(sales.商品访客数) as 商品访客数\n",
    ",sum(sales.商品浏览量) as 商品浏览量\n",
    ",avg(sales.平均停留时长) as 商品平均停留时长\n",
    ",avg(sales.商品详情页跳出率) as 商品详情页跳出率\n",
    ",sum(sales.商品加购人数) as 商品加购人数\n",
    ",sum(sales.商品加购件数) as 商品加购件数\n",
    ",sum(sales.商品收藏人数) as 商品收藏人数\n",
    ",sum(sales.下单买家数) as 下单买家数\n",
    ",sum(sales.下单金额) as 下单金额\n",
    ",avg(sales.下单转化率) as 下单转化率\n",
    ",sum(sales.支付买家数) as 支付买家数\n",
    ",sum(sales.下单件数) as 下单件数\n",
    ",avg(sales.商品支付转化率) as 支付转化率\n",
    ",sum(sales.支付金额) as 支付金额\n",
    ",sum(sales.支付件数) as 支付件数\n",
    ",sum(sales.聚划算支付金额) as 聚划算支付金额\n",
    ",sum(sales.支付新买家数) as 支付新买家数\n",
    ",sum(sales.支付老买家数) as 支付老买家数\n",
    ",sum(sales.老买家支付金额) as 老买家支付金额\n",
    ",max(sales.月累计支付金额) as 月累计支付金额\n",
    ",max(sales.月累计支付件数) as 月累计支付件数\n",
    ",max(sales.年累计支付金额) as 年累计支付金额\n",
    ",avg(sales.访客平均价值) as 访客平均价值\n",
    ",sum(sales.成功退款金额) as 成功退款金额\n",
    "from yyy_sales sales\n",
    "where sales.统计日期 >='2024-08-26'\n",
    "group by sales.统计日期  ,sales.商品别名,skuid,sku名称)\n",
    "\n",
    "union all\n",
    "\n",
    "(select \n",
    "sku.日期 \n",
    ",sku.商品别名 as 商品别名\n",
    ",max(sku.skuId) as skuId \n",
    ",sku.sku名称 \n",
    ",null as 商品访客数\n",
    ",null as 商品浏览量\n",
    ",null as 商品平均停留时长\n",
    ",null as 商品详情页跳出率\n",
    ",null as 商品加购人数\n",
    ",sum(sku.加购件数) as 商品加购件数\n",
    ",null as 商品收藏人数\n",
    ",null as 下单买家数\n",
    ",null as 下单金额\n",
    ",null as 下单转化率\n",
    ",sum(sku.支付买家数) as 支付买家数\n",
    ",null as 下单件数\n",
    ",null as 支付转化率\n",
    ",sum(sku.支付金额) as 支付金额\n",
    ",sum(sku.支付件数) as 支付件数\n",
    ",null as 聚划算支付金额\n",
    ",null as 支付新买家数\n",
    ",null as 支付老买家数\n",
    ",null as 老买家支付金额\n",
    ",null as 月累计支付金额\n",
    ",null as 月累计支付件数\n",
    ",null as 年累计支付金额\n",
    ",null as 访客平均价值\n",
    ",null as 成功退款金额\n",
    "from yyy_sku sku\n",
    "where sku.日期 >='2024-08-26'\n",
    "group by sku.日期\n",
    ",sku.商品别名\n",
    ",sku.sku名称 \n",
    ",商品访客数\n",
    ",商品浏览量\n",
    ",商品平均停留时长\n",
    ",商品详情页跳出率\n",
    ",商品加购人数\n",
    ",商品收藏人数\n",
    ",下单买家数\n",
    ",下单金额\n",
    ",下单转化率\n",
    ",下单件数\n",
    ",支付转化率\n",
    ",聚划算支付金额\n",
    ",支付新买家数\n",
    ",支付老买家数\n",
    ",老买家支付金额\n",
    ",月累计支付金额\n",
    ",月累计支付件数\n",
    ",年累计支付金额\n",
    ",访客平均价值\n",
    ",成功退款金额)) as temp\n",
    "where 商品别名 in (\"灵的融\",\"希纳露\",\"百热朗\",\"塞德思\")\n",
    "order by 商品别名,日期\n",
    "\n",
    "'''\n",
    "df = pd.read_sql_query(query, conn)\n",
    " \n",
    "conn.dispose(close=True)"
   ]
  },
  {
   "cell_type": "code",
   "execution_count": 16,
   "metadata": {},
   "outputs": [],
   "source": [
    "with pd.ExcelWriter(\"D:/盐野义/数据/sku_data/sku_all.xlsx\") as wt:    \n",
    "    for _item in [\"灵的融\",\"希纳露\",\"百热朗\",\"塞德思\"]:\n",
    "        df_sub = df[df[\"商品别名\"]==_item]\n",
    "        df_sub.to_excel(wt,index=False,sheet_name=_item)"
   ]
  }
 ],
 "metadata": {
  "kernelspec": {
   "display_name": "base",
   "language": "python",
   "name": "python3"
  },
  "language_info": {
   "codemirror_mode": {
    "name": "ipython",
    "version": 3
   },
   "file_extension": ".py",
   "mimetype": "text/x-python",
   "name": "python",
   "nbconvert_exporter": "python",
   "pygments_lexer": "ipython3",
   "version": "3.11.7"
  }
 },
 "nbformat": 4,
 "nbformat_minor": 2
}
