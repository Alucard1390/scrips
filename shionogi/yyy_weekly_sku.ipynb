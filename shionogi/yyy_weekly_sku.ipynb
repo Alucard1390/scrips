{
 "cells": [
  {
   "cell_type": "code",
   "execution_count": 1,
   "metadata": {},
   "outputs": [],
   "source": [
    "import os\n",
    "import pandas as pd\n",
    "import re\n",
    "from sqlalchemy import create_engine"
   ]
  },
  {
   "cell_type": "code",
   "execution_count": 2,
   "metadata": {},
   "outputs": [],
   "source": [
    "xls_sku_dtype = {\"skuId\":\"int64\"\n",
    "    ,\"sku名称\":\"object\"\n",
    "    ,\"支付金额\":\"object\"\n",
    "    ,\"支付买家数\":\"object\"\n",
    "    ,\"支付件数\":\"object\"\n",
    "    ,\"加购件数\":\"object\"\n",
    "                            }"
   ]
  },
  {
   "cell_type": "code",
   "execution_count": 3,
   "metadata": {},
   "outputs": [],
   "source": [
    "def df_to_sql(df_to_dwh,dwh_list):\n",
    "    username = \"root\"\n",
    "    password = \"9518llhh731X\"\n",
    "    host = \"localhost\"\n",
    "    port = 3306\n",
    "    database = \"dwh\"\n",
    "    charset = \"utf8mb4\"\n",
    "    connection_string = f'mysql+pymysql://{username}:{password}@{host}:{port}/{database}?charset={charset}'\n",
    "    conn = create_engine(connection_string)\n",
    "    pd.io.sql.to_sql(df_to_dwh,dwh_list,con=conn,if_exists=\"append\",index=False)\n",
    "    return"
   ]
  },
  {
   "cell_type": "code",
   "execution_count": 4,
   "metadata": {},
   "outputs": [],
   "source": [
    "skuList = [\"塞德思\",\"希纳露\",\"百热朗\",\"健眠计划\",\"棒维素\",\"琵力消\",\"整肠药\"]\n",
    "def sku_tag_add(itemName,itemLists):\n",
    "    for item in itemLists:\n",
    "        if item in itemName:\n",
    "            return item\n",
    "        else:\n",
    "            continue\n",
    "    return '灵的融'"
   ]
  },
  {
   "cell_type": "code",
   "execution_count": 5,
   "metadata": {},
   "outputs": [],
   "source": [
    "def get_sku_sales_date(xls_file_name):\n",
    "    date_pattern = r\"\\d{4}-\\d{2}-\\d{2}\"\n",
    "    sku_date = re.findall(date_pattern,xls_file_name)[0]\n",
    "    return sku_date"
   ]
  },
  {
   "cell_type": "code",
   "execution_count": 6,
   "metadata": {},
   "outputs": [],
   "source": [
    "sku_sales_xls_list=os.listdir(r\"D:\\盐野义\\数据\\sku_data\")"
   ]
  },
  {
   "cell_type": "code",
   "execution_count": 7,
   "metadata": {},
   "outputs": [],
   "source": [
    "sku_data = pd.read_excel(io=\"D:/盐野义/数据/sku_data/\"+sku_sales_xls_list[0],skiprows=5,engine=\"xlrd\",dtype=xls_sku_dtype)\n",
    "sku_data[\"日期\"] = pd.to_datetime(get_sku_sales_date(sku_sales_xls_list[0]))"
   ]
  },
  {
   "cell_type": "code",
   "execution_count": 8,
   "metadata": {},
   "outputs": [],
   "source": [
    "for xls_file in sku_sales_xls_list[1:]:\n",
    "    sku_data_sub = pd.read_excel(io=\"D:/盐野义/数据/sku_data/\"+xls_file,skiprows=5,engine=\"xlrd\",dtype=xls_sku_dtype)\n",
    "    sku_data_sub[\"日期\"] = pd.to_datetime(get_sku_sales_date(xls_file))\n",
    "    sku_data = pd.concat([sku_data,sku_data_sub],axis=0,ignore_index=True)"
   ]
  },
  {
   "cell_type": "code",
   "execution_count": 9,
   "metadata": {},
   "outputs": [],
   "source": [
    "sku_data[\"商品别名\"] = sku_data[\"sku名称\"].apply(lambda x:sku_tag_add(x,itemLists=skuList))\n"
   ]
  },
  {
   "cell_type": "code",
   "execution_count": 10,
   "metadata": {},
   "outputs": [],
   "source": [
    "sku_data[\"支付金额\"] = sku_data[\"支付金额\"].apply(lambda x:x.replace(\",\",\"\"))\n",
    "sku_data[\"支付买家数\"] = sku_data[\"支付买家数\"].apply(lambda x:x.replace(\",\",\"\"))\n",
    "sku_data[\"支付件数\"] = sku_data[\"支付件数\"].apply(lambda x:x.replace(\",\",\"\"))\n",
    "sku_data[\"加购件数\"] = sku_data[\"加购件数\"].apply(lambda x:x.replace(\",\",\"\"))"
   ]
  },
  {
   "cell_type": "code",
   "execution_count": 11,
   "metadata": {},
   "outputs": [],
   "source": [
    "sku_data = sku_data.astype({\"日期\":\"datetime64[ns]\"\n",
    "    ,\"skuId\":\"int64\"\n",
    "    ,\"sku名称\":\"object\"\n",
    "    ,\"支付金额\":\"float64\"\n",
    "    ,\"支付买家数\":\"int64\"\n",
    "    ,\"支付件数\":\"int64\"\n",
    "    ,\"加购件数\":\"int64\"\n",
    "                            })\n"
   ]
  },
  {
   "cell_type": "code",
   "execution_count": 12,
   "metadata": {},
   "outputs": [],
   "source": [
    "df_to_sql(df_to_dwh=sku_data,dwh_list=\"yyy_sku\")"
   ]
  }
 ],
 "metadata": {
  "kernelspec": {
   "display_name": "base",
   "language": "python",
   "name": "python3"
  },
  "language_info": {
   "codemirror_mode": {
    "name": "ipython",
    "version": 3
   },
   "file_extension": ".py",
   "mimetype": "text/x-python",
   "name": "python",
   "nbconvert_exporter": "python",
   "pygments_lexer": "ipython3",
   "version": "3.11.7"
  }
 },
 "nbformat": 4,
 "nbformat_minor": 2
}
