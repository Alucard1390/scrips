{
 "cells": [
  {
   "cell_type": "code",
   "execution_count": 1,
   "metadata": {},
   "outputs": [],
   "source": [
    "import pandas as pd\n",
    "import re\n",
    "import os"
   ]
  },
  {
   "cell_type": "code",
   "execution_count": 2,
   "metadata": {},
   "outputs": [],
   "source": [
    "def get_cross_sales_date(xls_file_name):\n",
    "    match_simple = re.search(r'-(?:[^-]*?-)(.*)',xls_file_name)\n",
    "    if match_simple:\n",
    "        result = match_simple.group(1)  \n",
    "        return result  \n",
    "    else:\n",
    "        return"
   ]
  },
  {
   "cell_type": "code",
   "execution_count": 3,
   "metadata": {},
   "outputs": [],
   "source": [
    "itemList = [\"塞德思\",\"灵的融\",\"希纳露\",\"百热朗\",\"健眠计划\",\"S+\",\"琵力消\",\"VL\",\"优惠券\"]\n",
    "def tag_add(itemName,itemLists):\n",
    "    for item in itemLists:\n",
    "        if item in itemName:\n",
    "            return item\n",
    "        else:\n",
    "            continue\n",
    "    return itemName"
   ]
  },
  {
   "cell_type": "code",
   "execution_count": 5,
   "metadata": {},
   "outputs": [],
   "source": [
    "cross_sales_csvs=os.listdir(r\"D:\\盐野义\\月报\\2024年7月\\交叉销售\")\n",
    "cross_sales_data = pd.read_csv(\"D:/盐野义/月报/2024年7月/交叉销售/\"+cross_sales_csvs[0],encoding='GBK')\n",
    "cross_sales_data[\"月份\"] = pd.to_datetime(get_cross_sales_date(cross_sales_csvs[0]).replace(\".csv\",\"\"))"
   ]
  },
  {
   "cell_type": "code",
   "execution_count": 6,
   "metadata": {},
   "outputs": [],
   "source": [
    "for csv_file in cross_sales_csvs[1:]:\n",
    "    cross_sales_data_sub = pd.read_csv(\"D:/盐野义/月报/2024年7月/交叉销售/\"+csv_file,encoding='GBK')\n",
    "    cross_sales_data_sub[\"月份\"] = pd.to_datetime(get_cross_sales_date(csv_file).replace(\".csv\",\"\"))\n",
    "    cross_sales_data = pd.concat([cross_sales_data,cross_sales_data_sub],axis = 0,ignore_index=True)"
   ]
  },
  {
   "cell_type": "code",
   "execution_count": null,
   "metadata": {},
   "outputs": [],
   "source": [
    "cross_sales_data[\"购买金额\"] = cross_sales_data[\"复购人数\"]*cross_sales_data[\"宝贝1人均购买金额\"]+cross_sales_data[\"复购人数\"]*cross_sales_data[\"宝贝2人均购买金额\"]"
   ]
  },
  {
   "cell_type": "code",
   "execution_count": 7,
   "metadata": {},
   "outputs": [],
   "source": [
    "cross_sales_data[\"宝贝1分类\"] = cross_sales_data[\"宝贝1标题\"].apply(lambda x:tag_add(x,itemLists=itemList))\n",
    "cross_sales_data[\"宝贝2分类\"] = cross_sales_data[\"宝贝2标题\"].apply(lambda x:tag_add(x,itemLists=itemList))"
   ]
  },
  {
   "cell_type": "code",
   "execution_count": 8,
   "metadata": {},
   "outputs": [],
   "source": [
    "cross_sales_data.to_excel(\"D:/盐野义/月报/2024年7月/交叉销售/交叉销售.xlsx\")"
   ]
  },
  {
   "cell_type": "code",
   "execution_count": null,
   "metadata": {},
   "outputs": [],
   "source": [
    "cross_pivot = cross_sales_data.pivot_table(values=[\"复购人数\",\"购买金额\"],index=[\"宝贝1分类\",\"宝贝2分类\"],columns=[\"月份\"],aggfunc=sum)"
   ]
  },
  {
   "cell_type": "code",
   "execution_count": null,
   "metadata": {},
   "outputs": [],
   "source": [
    "cross_pivot.to_excel(\"D:/盐野义/月报/2024年7月/交叉销售/交叉销售总览.xlsx\")"
   ]
  },
  {
   "cell_type": "code",
   "execution_count": null,
   "metadata": {},
   "outputs": [],
   "source": [
    "cross_sales_data"
   ]
  }
 ],
 "metadata": {
  "kernelspec": {
   "display_name": "base",
   "language": "python",
   "name": "python3"
  },
  "language_info": {
   "codemirror_mode": {
    "name": "ipython",
    "version": 3
   },
   "file_extension": ".py",
   "mimetype": "text/x-python",
   "name": "python",
   "nbconvert_exporter": "python",
   "pygments_lexer": "ipython3",
   "version": "3.11.7"
  }
 },
 "nbformat": 4,
 "nbformat_minor": 2
}
