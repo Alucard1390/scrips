{
 "cells": [
  {
   "cell_type": "code",
   "execution_count": 1,
   "metadata": {},
   "outputs": [],
   "source": [
    "import pandas as pd\n",
    "import json"
   ]
  },
  {
   "cell_type": "code",
   "execution_count": 2,
   "metadata": {},
   "outputs": [],
   "source": [
    "with open(r\"D:\\盐野义\\月报\\人群画像\\灵的融竞店\\灵的融购买竞店省年城.json\",\"r\",encoding=\"UTF-8\") as f1:\n",
    "    competition1 = json.load(f1)\n",
    "with open(r\"D:\\盐野义\\月报\\人群画像\\灵的融竞店\\灵的融购买竞店策略.json\",\"r\",encoding=\"UTF-8\") as f2:\n",
    "    competition2 = json.load(f2)\n"
   ]
  },
  {
   "cell_type": "code",
   "execution_count": 3,
   "metadata": {},
   "outputs": [],
   "source": [
    "data = {\"rivalShop2\":{},\"rivalShop1\":{},\"selfShop\":{}}\n"
   ]
  },
  {
   "cell_type": "code",
   "execution_count": 4,
   "metadata": {},
   "outputs": [],
   "source": [
    "for shop in [\"rivalShop2\",\"rivalShop1\",\"selfShop\"]:\n",
    "    for gender in competition1[\"data\"][shop][\"gender\"]:\n",
    "        data[shop][gender[\"attributeValue\"]]=gender[\"payByrCntRatio\"]\n",
    "    for province in competition1[\"data\"][shop][\"province\"]:\n",
    "        data[shop][province[\"attributeValue\"]]=province[\"payByrCntRatio\"]\n",
    "    for age in competition1[\"data\"][shop][\"age\"]:\n",
    "        data[shop][age[\"attributeValue\"]]=age[\"payByrCntRatio\"]\n",
    "    for groups in competition2[\"data\"][shop]:\n",
    "        data[shop][groups[\"crowdId\"]]=groups[\"payByrCntRatio\"]\n"
   ]
  },
  {
   "cell_type": "code",
   "execution_count": 5,
   "metadata": {},
   "outputs": [],
   "source": [
    "df = pd.DataFrame(data)\n",
    "df.fillna(0,inplace=True)"
   ]
  },
  {
   "cell_type": "code",
   "execution_count": 7,
   "metadata": {},
   "outputs": [],
   "source": [
    "strategy_dict = {\n",
    "    \"townyth\":\"小镇青年\"\n",
    "    ,\"exqmom\":\"精致妈妈\"\n",
    "    ,\"newwhcol\":\"新锐白领\"\n",
    "    ,\"srwhcol\":\"资深中产\"\n",
    "    ,\"urbbucol\":\"都市蓝领\"\n",
    "    ,\"urbsrz\":\"都市银发\"\n",
    "    ,\"townmold\":\"小镇中老年\"\n",
    "}"
   ]
  },
  {
   "cell_type": "code",
   "execution_count": 8,
   "metadata": {},
   "outputs": [],
   "source": [
    "df.rename(columns={\"rivalShop2\":\"MUHI\",\"rivalShop1\":\"rohto\",\"selfShop\":\"塩野義\"},index=strategy_dict,inplace=True)"
   ]
  },
  {
   "cell_type": "code",
   "execution_count": 10,
   "metadata": {},
   "outputs": [],
   "source": [
    "df.to_excel(\"D:/盐野义/月报/人群画像/灵的融竞店购买人群画像.xlsx\")"
   ]
  }
 ],
 "metadata": {
  "kernelspec": {
   "display_name": "base",
   "language": "python",
   "name": "python3"
  },
  "language_info": {
   "codemirror_mode": {
    "name": "ipython",
    "version": 3
   },
   "file_extension": ".py",
   "mimetype": "text/x-python",
   "name": "python",
   "nbconvert_exporter": "python",
   "pygments_lexer": "ipython3",
   "version": "3.11.7"
  }
 },
 "nbformat": 4,
 "nbformat_minor": 2
}
