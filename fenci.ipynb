{
 "cells": [
  {
   "cell_type": "code",
   "execution_count": 1,
   "metadata": {},
   "outputs": [],
   "source": [
    "import pandas as pd\n",
    "import jieba\n",
    "import numpy as np\n",
    "from ana_tool import category_ana as ca"
   ]
  },
  {
   "cell_type": "code",
   "execution_count": null,
   "metadata": {},
   "outputs": [],
   "source": [
    "qudou_df = pd.read_excel(r\"D:\\lion240401\\祛痘_fenci.xlsx\")"
   ]
  },
  {
   "cell_type": "code",
   "execution_count": 2,
   "metadata": {},
   "outputs": [
    {
     "name": "stderr",
     "output_type": "stream",
     "text": [
      "Building prefix dict from the default dictionary ...\n",
      "Loading model from cache C:\\Users\\ADMINI~1\\AppData\\Local\\Temp\\jieba.cache\n",
      "Loading model cost 0.951 seconds.\n",
      "Prefix dict has been built successfully.\n"
     ]
    }
   ],
   "source": [
    "jieba.load_userdict(r\"D:\\lion240401\\祛痘膏分词.txt\")"
   ]
  },
  {
   "cell_type": "code",
   "execution_count": null,
   "metadata": {},
   "outputs": [],
   "source": [
    "qudou_df[\"fenci\"] = qudou_df[\"商品标题\"].apply(lambda x:list(jieba.cut(x)))"
   ]
  },
  {
   "cell_type": "code",
   "execution_count": null,
   "metadata": {},
   "outputs": [],
   "source": [
    "qudou_fenci_dict = {\"2021\":{},\"2022\":{},\"2023\":{}}\n",
    "for i in range(1,len(qudou_df)):\n",
    "    fenci_year = str(qudou_df.iloc[i,0])\n",
    "    fenci_list = qudou_df.iloc[i,2]\n",
    "    for j in fenci_list:\n",
    "        if j in qudou_fenci_dict[fenci_year].keys():\n",
    "            qudou_fenci_dict[fenci_year][j]+=1\n",
    "        else:\n",
    "            qudou_fenci_dict[fenci_year][j]=1"
   ]
  },
  {
   "cell_type": "code",
   "execution_count": null,
   "metadata": {},
   "outputs": [],
   "source": [
    "qudou_fenci_df = pd.DataFrame(qudou_fenci_dict)"
   ]
  },
  {
   "cell_type": "code",
   "execution_count": null,
   "metadata": {},
   "outputs": [],
   "source": [
    "qudou_fenci_df.to_csv(\"D:/lion240401/分词/祛痘分词.csv\")"
   ]
  },
  {
   "cell_type": "code",
   "execution_count": 3,
   "metadata": {},
   "outputs": [],
   "source": [
    "jiaxiaozuo_df = pd.read_excel(r\"D:\\lion240401\\分词\\甲硝唑分词_df.xlsx\")\n"
   ]
  },
  {
   "cell_type": "code",
   "execution_count": 4,
   "metadata": {},
   "outputs": [],
   "source": [
    "jiaxiaozuo_df[\"fenci\"] = jiaxiaozuo_df[\"商品标题\"].apply(lambda x:list(jieba.cut(x)))"
   ]
  },
  {
   "cell_type": "code",
   "execution_count": null,
   "metadata": {},
   "outputs": [],
   "source": [
    "jiaxiaozuo_df.info()"
   ]
  },
  {
   "cell_type": "code",
   "execution_count": 5,
   "metadata": {},
   "outputs": [],
   "source": [
    "jiaxiaozuo_fenci_dict = {\"2021\":{},\"2022\":{},\"2023\":{}}\n",
    "for i in range(1,len(jiaxiaozuo_df)):\n",
    "    fenci_year = str(jiaxiaozuo_df.iloc[i,0])\n",
    "    fenci_list = jiaxiaozuo_df.iloc[i,2]\n",
    "    for j in fenci_list:\n",
    "        if j in jiaxiaozuo_fenci_dict[fenci_year].keys():\n",
    "            jiaxiaozuo_fenci_dict[fenci_year][j]+=1\n",
    "        else:\n",
    "            jiaxiaozuo_fenci_dict[fenci_year][j]=1"
   ]
  },
  {
   "cell_type": "code",
   "execution_count": 6,
   "metadata": {},
   "outputs": [],
   "source": [
    "jiaxiaozuo_fenci_num = pd.DataFrame(jiaxiaozuo_fenci_dict)"
   ]
  },
  {
   "cell_type": "code",
   "execution_count": 7,
   "metadata": {},
   "outputs": [],
   "source": [
    "jiaxiaozuo_fenci_num.to_csv(\"D:/lion240401/分词/甲硝唑分词数量.csv\")"
   ]
  },
  {
   "cell_type": "code",
   "execution_count": null,
   "metadata": {},
   "outputs": [],
   "source": [
    "adapalin_fenci_df = pd.read_excel(r\"D:\\lion240401\\分词\\阿达帕林分词_df.xlsx\")"
   ]
  },
  {
   "cell_type": "code",
   "execution_count": null,
   "metadata": {},
   "outputs": [],
   "source": [
    "adapalin_fenci_df[\"fenci\"] = adapalin_fenci_df[\"商品标题\"].apply(lambda x:list(jieba.cut(x)))"
   ]
  },
  {
   "cell_type": "code",
   "execution_count": null,
   "metadata": {},
   "outputs": [],
   "source": [
    "adapalin_fenci_dict = {\"2021\":{},\"2022\":{},\"2023\":{}}\n",
    "for i in range(1,len(adapalin_fenci_df)):\n",
    "    fenci_year = str(adapalin_fenci_df.iloc[i,0])\n",
    "    fenci_list = adapalin_fenci_df.iloc[i,2]\n",
    "    for j in fenci_list:\n",
    "        if j in adapalin_fenci_dict[fenci_year].keys():\n",
    "            adapalin_fenci_dict[fenci_year][j]+=1\n",
    "        else:\n",
    "            adapalin_fenci_dict[fenci_year][j]=1"
   ]
  },
  {
   "cell_type": "code",
   "execution_count": null,
   "metadata": {},
   "outputs": [],
   "source": [
    "adapalin_fenci_dict"
   ]
  },
  {
   "cell_type": "code",
   "execution_count": null,
   "metadata": {},
   "outputs": [],
   "source": [
    "adapalin_result_df = pd.DataFrame(adapalin_fenci_dict)"
   ]
  },
  {
   "cell_type": "code",
   "execution_count": null,
   "metadata": {},
   "outputs": [],
   "source": [
    "adapalin_result_df.to_csv(\"D:/lion240401/分词/阿达帕林分词数量.csv\")"
   ]
  },
  {
   "cell_type": "code",
   "execution_count": 8,
   "metadata": {},
   "outputs": [],
   "source": [
    "jiaxiaozuo_fenci_sales_df = ca.init_category_df(gap_num=10,top_limit=180,excelFileName=r\"C:\\Users\\Administrator\\Downloads\\all_OTC药品-国际医药_item_2021-01~2023-12_CNY_1713411985_r4cx6jbewn.xlsx\",sheet_name=\"Sheet1\",obj_to_date=\"时间\")"
   ]
  },
  {
   "cell_type": "code",
   "execution_count": 9,
   "metadata": {},
   "outputs": [],
   "source": [
    "jiaxiaozuo_fenci_sales_df[\"fenci\"] = jiaxiaozuo_fenci_sales_df[\"商品标题\"].apply(lambda x:list(jieba.cut(x)))"
   ]
  },
  {
   "cell_type": "code",
   "execution_count": 10,
   "metadata": {},
   "outputs": [
    {
     "name": "stdout",
     "output_type": "stream",
     "text": [
      "<class 'pandas.core.frame.DataFrame'>\n",
      "RangeIndex: 18192 entries, 0 to 18191\n",
      "Data columns (total 47 columns):\n",
      " #   Column      Non-Null Count  Dtype         \n",
      "---  ------      --------------  -----         \n",
      " 0   时间          18192 non-null  object        \n",
      " 1   商品标题        18192 non-null  object        \n",
      " 2   商品链接        18192 non-null  object        \n",
      " 3   销售额         18192 non-null  float64       \n",
      " 4   销量          18192 non-null  int64         \n",
      " 5   品牌          18001 non-null  object        \n",
      " 6   店铺名         18192 non-null  object        \n",
      " 7   1级类目名       18192 non-null  object        \n",
      " 8   2级类目名       18192 non-null  object        \n",
      " 9   3级类目名       18192 non-null  object        \n",
      " 10  4级类目名       17377 non-null  object        \n",
      " 11  叶子类目名       18192 non-null  object        \n",
      " 12  价格          18192 non-null  float64       \n",
      " 13  上架时间        18192 non-null  object        \n",
      " 14  销售额同比       18192 non-null  object        \n",
      " 15  销售额环比       18192 non-null  object        \n",
      " 16  sku数        18192 non-null  int64         \n",
      " 17  规格_sum(清洗)  18120 non-null  object        \n",
      " 18  适用人群(清洗)    18035 non-null  object        \n",
      " 19  规格(清洗)      18050 non-null  object        \n",
      " 20  省           14484 non-null  object        \n",
      " 21  市           14484 non-null  object        \n",
      " 22  区县          13207 non-null  object        \n",
      " 23  规格          18031 non-null  object        \n",
      " 24  用法          18031 non-null  object        \n",
      " 25  生产企业        18031 non-null  object        \n",
      " 26  疾病          16618 non-null  object        \n",
      " 27  症状          18031 non-null  object        \n",
      " 28  适用人群        18031 non-null  object        \n",
      " 29  药品通用名       18031 non-null  object        \n",
      " 30  产品剂型        18031 non-null  object        \n",
      " 31  批准文号        18031 non-null  object        \n",
      " 32  使用剂量        18031 non-null  object        \n",
      " 33  药品名称        1896 non-null   object        \n",
      " 34  有效期         18031 non-null  object        \n",
      " 35  品牌.1        16093 non-null  object        \n",
      " 36  药品类别        17219 non-null  object        \n",
      " 37  药品分类        15824 non-null  object        \n",
      " 38  套餐类型        15324 non-null  object        \n",
      " 39  产品名称        2824 non-null   object        \n",
      " 40  药品包装规格      2670 non-null   object        \n",
      " 41  药品商品名       2236 non-null   object        \n",
      " 42  非处方药类型      790 non-null    object        \n",
      " 43  月           18192 non-null  datetime64[ns]\n",
      " 44  年           18192 non-null  int32         \n",
      " 45  价格带         18191 non-null  category      \n",
      " 46  fenci       18192 non-null  object        \n",
      "dtypes: category(1), datetime64[ns](1), float64(2), int32(1), int64(2), object(40)\n",
      "memory usage: 6.3+ MB\n"
     ]
    }
   ],
   "source": [
    "jiaxiaozuo_fenci_sales_df.info()"
   ]
  },
  {
   "cell_type": "code",
   "execution_count": 11,
   "metadata": {},
   "outputs": [],
   "source": [
    "jiaxiaozuo_sales_dict = {\"2021\":{},\"2022\":{},\"2023\":{}}\n",
    "for i in range(1,len(jiaxiaozuo_fenci_sales_df)):\n",
    "    fenci_year = str(jiaxiaozuo_fenci_sales_df.iloc[i,44])\n",
    "    fenci_list = jiaxiaozuo_fenci_sales_df.iloc[i,46]\n",
    "    sales = jiaxiaozuo_fenci_sales_df.iloc[i,3]\n",
    "    for j in fenci_list:\n",
    "        if j in jiaxiaozuo_sales_dict[fenci_year].keys():\n",
    "            jiaxiaozuo_sales_dict[fenci_year][j]+=sales\n",
    "        else:\n",
    "            jiaxiaozuo_sales_dict[fenci_year][j]=sales"
   ]
  }
 ],
 "metadata": {
  "kernelspec": {
   "display_name": "base",
   "language": "python",
   "name": "python3"
  },
  "language_info": {
   "codemirror_mode": {
    "name": "ipython",
    "version": 3
   },
   "file_extension": ".py",
   "mimetype": "text/x-python",
   "name": "python",
   "nbconvert_exporter": "python",
   "pygments_lexer": "ipython3",
   "version": "3.11.7"
  }
 },
 "nbformat": 4,
 "nbformat_minor": 2
}
