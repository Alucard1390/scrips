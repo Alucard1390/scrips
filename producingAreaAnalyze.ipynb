{
 "cells": [
  {
   "cell_type": "code",
   "execution_count": 1,
   "metadata": {},
   "outputs": [],
   "source": [
    "import pandas as pd\n",
    "import numpy as np\n",
    "from openpyxl import load_workbook"
   ]
  },
  {
   "cell_type": "code",
   "execution_count": 2,
   "metadata": {},
   "outputs": [],
   "source": [
    "producing_df = pd.read_excel(r\"D:\\kinto旗舰店开设\\all_杯子-水杯-水壶_not_custom_2021-01~2023-12_CNY_1712466941_ti0zhbf4aw.xlsx\",sheet_name=\"Sheet1\")"
   ]
  },
  {
   "cell_type": "code",
   "execution_count": 3,
   "metadata": {},
   "outputs": [],
   "source": [
    "producing_df[\"月份\"]=pd.to_datetime(producing_df[\"月份\"],format=\"%Y-%m-%d\")"
   ]
  },
  {
   "cell_type": "code",
   "execution_count": 4,
   "metadata": {},
   "outputs": [],
   "source": [
    "producing_df[\"年\"]=producing_df[\"月份\"].dt.year"
   ]
  },
  {
   "cell_type": "code",
   "execution_count": 5,
   "metadata": {},
   "outputs": [
    {
     "name": "stderr",
     "output_type": "stream",
     "text": [
      "C:\\Users\\Administrator\\AppData\\Local\\Temp\\ipykernel_12524\\3524751769.py:2: FutureWarning: The provided callable <function sum at 0x000001D1C2762660> is currently using DataFrameGroupBy.sum. In a future version of pandas, the provided callable will be used directly. To keep current behavior pass the string \"sum\" instead.\n",
      "  producingSale = pd.pivot_table(producing_df,index=[\"产地\"],values=[\"销售额\"],columns=[\"年\"],aggfunc=[np.sum])\n"
     ]
    }
   ],
   "source": [
    "#以年和销售额聚合运算\n",
    "producingSale = pd.pivot_table(producing_df,index=[\"产地\"],values=[\"销售额\"],columns=[\"年\"],aggfunc=[np.sum])"
   ]
  },
  {
   "cell_type": "code",
   "execution_count": 6,
   "metadata": {},
   "outputs": [],
   "source": [
    "#计算年销售额的环比\n",
    "producingSalePivotTable = producingSale[\"sum\"][\"销售额\"]\n",
    "producingSalePivotTable[\"总销售额\"]=producingSalePivotTable.sum(axis=1)\n",
    "for saleYear in [2022,2023]:\n",
    "    producingSalePivotTable[str(saleYear)+\"环比\"]=((producingSalePivotTable[saleYear]-producingSalePivotTable[saleYear-1])/producingSalePivotTable[saleYear-1]).apply(lambda x:'{:.2%}'.format(x)).replace('nan%','')"
   ]
  },
  {
   "cell_type": "code",
   "execution_count": 7,
   "metadata": {},
   "outputs": [],
   "source": [
    "#计算每年各类目销售额占比\n",
    "for yearToCalculate in [2021,2022,2023]:\n",
    "    producingSalePivotTable[str(yearToCalculate)+\"销售额占比\"]=pd.to_numeric((producingSalePivotTable[yearToCalculate]/np.sum(producingSalePivotTable[yearToCalculate])))"
   ]
  },
  {
   "cell_type": "code",
   "execution_count": 8,
   "metadata": {},
   "outputs": [],
   "source": [
    "#计算销售额占比的环比\n",
    "for yearToCalculate in [2022,2023]:\n",
    "    producingSalePivotTable[str(yearToCalculate)+\"销售额占比环比\"]=((producingSalePivotTable[str(yearToCalculate)+\"销售额占比\"]-producingSalePivotTable[str(yearToCalculate-1)+\"销售额占比\"])/producingSalePivotTable[str(yearToCalculate-1)+\"销售额占比\"]).apply(lambda x:'{:.2%}'.format(x)).replace('nan%','')"
   ]
  },
  {
   "cell_type": "code",
   "execution_count": 9,
   "metadata": {},
   "outputs": [
    {
     "name": "stderr",
     "output_type": "stream",
     "text": [
      "C:\\Users\\Administrator\\AppData\\Local\\Temp\\ipykernel_12524\\2839061901.py:1: FutureWarning: The provided callable <function sum at 0x000001D1C2762660> is currently using DataFrameGroupBy.sum. In a future version of pandas, the provided callable will be used directly. To keep current behavior pass the string \"sum\" instead.\n",
      "  producingVolumn = pd.pivot_table(producing_df,index=[\"产地\"],values=[\"销量\"],columns=[\"年\"],aggfunc=[np.sum])\n"
     ]
    }
   ],
   "source": [
    "producingVolumn = pd.pivot_table(producing_df,index=[\"产地\"],values=[\"销量\"],columns=[\"年\"],aggfunc=[np.sum])"
   ]
  },
  {
   "cell_type": "code",
   "execution_count": 10,
   "metadata": {},
   "outputs": [],
   "source": [
    "producingVolumnPivotTable = producingVolumn[\"sum\"][\"销量\"]\n",
    "producingVolumnPivotTable[\"总销量\"]=producingVolumnPivotTable.sum(axis=1)\n",
    "for saleYear in [2022,2023]:\n",
    "    producingVolumnPivotTable[str(saleYear)+\"环比\"]=((producingVolumnPivotTable[saleYear]-producingVolumnPivotTable[saleYear-1])/producingVolumnPivotTable[saleYear-1]).apply(lambda x:'{:.2%}'.format(x)).replace('nan%','')"
   ]
  },
  {
   "cell_type": "code",
   "execution_count": 11,
   "metadata": {},
   "outputs": [],
   "source": [
    "for yearToCalculate in [2021,2022,2023]:\n",
    "    producingVolumnPivotTable[str(yearToCalculate)+\"销量占比\"]=pd.to_numeric((producingVolumnPivotTable[yearToCalculate]/np.sum(producingVolumnPivotTable[yearToCalculate])))"
   ]
  },
  {
   "cell_type": "code",
   "execution_count": 12,
   "metadata": {},
   "outputs": [],
   "source": [
    "for yearToCalculate in [2022,2023]:\n",
    "    producingVolumnPivotTable[str(yearToCalculate)+\"销量占比环比\"]=((producingVolumnPivotTable[str(yearToCalculate)+\"销量占比\"]-producingVolumnPivotTable[str(yearToCalculate-1)+\"销量占比\"])/producingVolumnPivotTable[str(yearToCalculate-1)+\"销量占比\"]).apply(lambda x:'{:.2%}'.format(x)).replace('nan%','')"
   ]
  },
  {
   "cell_type": "code",
   "execution_count": 13,
   "metadata": {},
   "outputs": [],
   "source": [
    "filename = \"D:/kinto旗舰店开设/保温杯类目产地观察.xlsx\"\n",
    "with pd.ExcelWriter(filename) as writer:\n",
    "    producingSalePivotTable.to_excel(writer,sheet_name=\"销售额\")\n",
    "    producingVolumnPivotTable.to_excel(writer, sheet_name='销量')"
   ]
  }
 ],
 "metadata": {
  "kernelspec": {
   "display_name": "base",
   "language": "python",
   "name": "python3"
  },
  "language_info": {
   "codemirror_mode": {
    "name": "ipython",
    "version": 3
   },
   "file_extension": ".py",
   "mimetype": "text/x-python",
   "name": "python",
   "nbconvert_exporter": "python",
   "pygments_lexer": "ipython3",
   "version": "3.11.7"
  }
 },
 "nbformat": 4,
 "nbformat_minor": 2
}
