{
 "cells": [
  {
   "cell_type": "code",
   "execution_count": 2,
   "metadata": {},
   "outputs": [],
   "source": [
    "import pandas as pd\n",
    "import numpy as np\n",
    "from openpyxl import load_workbook"
   ]
  },
  {
   "cell_type": "code",
   "execution_count": 4,
   "metadata": {},
   "outputs": [],
   "source": [
    "beizishuihuexcel = \"D:/kinto旗舰店开设/all_杯子-水杯-水壶_cat_2021-01~2023-12_CNY_1712134733_ti0zhbf4aw.xlsx\"\n",
    "bottle_categray_df = pd.read_excel(beizishuihuexcel,sheet_name=\"Sheet1\")"
   ]
  },
  {
   "cell_type": "code",
   "execution_count": null,
   "metadata": {},
   "outputs": [],
   "source": [
    "bottle_categray_df[\"月份\"]=pd.to_datetime(bottle_categray_df[\"月份\"],format=\"%Y-%m-%d\")"
   ]
  },
  {
   "cell_type": "code",
   "execution_count": null,
   "metadata": {},
   "outputs": [],
   "source": [
    "bottle_categray_df[\"年\"]=bottle_categray_df[\"月份\"].dt.year"
   ]
  },
  {
   "cell_type": "code",
   "execution_count": null,
   "metadata": {},
   "outputs": [],
   "source": [
    "#以年和销售额聚合运算\n",
    "categorySale = pd.pivot_table(bottle_categray_df,index=[\"类目\"],values=[\"销售额\"],columns=[\"年\"],aggfunc=[np.sum])"
   ]
  },
  {
   "cell_type": "code",
   "execution_count": null,
   "metadata": {},
   "outputs": [],
   "source": [
    "#计算年销售额的环比\n",
    "categorySalePivotTable = categorySale[\"sum\"][\"销售额\"]\n",
    "for saleYear in categorySalePivotTable.columns.tolist()[1:]:\n",
    "    categorySalePivotTable[str(saleYear)+\"环比\"]=((categorySalePivotTable[saleYear]-categorySalePivotTable[saleYear-1])/categorySalePivotTable[saleYear-1]).apply(lambda x:'{:.2%}'.format(x))"
   ]
  },
  {
   "cell_type": "code",
   "execution_count": null,
   "metadata": {},
   "outputs": [],
   "source": [
    "#计算每年各类目销售额占比\n",
    "for yearToCalculate in [2021,2022,2023]:\n",
    "    categorySalePivotTable[str(yearToCalculate)+\"销售额占比\"]=pd.to_numeric((categorySalePivotTable[yearToCalculate]/np.sum(categorySalePivotTable[yearToCalculate])))"
   ]
  },
  {
   "cell_type": "code",
   "execution_count": null,
   "metadata": {},
   "outputs": [],
   "source": [
    "#计算销售额占比的环比\n",
    "for yearToCalculate in [2022,2023]:\n",
    "    categorySalePivotTable[str(yearToCalculate)+\"销售额占比环比\"]=((categorySalePivotTable[str(yearToCalculate)+\"销售额占比\"]-categorySalePivotTable[str(yearToCalculate-1)+\"销售额占比\"])/categorySalePivotTable[str(yearToCalculate-1)+\"销售额占比\"]).apply(lambda x:'{:.2%}'.format(x))"
   ]
  },
  {
   "cell_type": "code",
   "execution_count": null,
   "metadata": {},
   "outputs": [],
   "source": [
    "categorySalePivotTable.to_excel(r\"D:/kinto旗舰店开设/保温杯类目观察.xlsx\",sheet_name=\"销售额\")"
   ]
  },
  {
   "cell_type": "code",
   "execution_count": null,
   "metadata": {},
   "outputs": [],
   "source": [
    "book=load_workbook('D:/kinto旗舰店开设/保温杯类目观察.xlsx')\n",
    "writer = pd.ExcelWriter('D:/kinto旗舰店开设/保温杯类目观察.xlsx',engine='openpyxl')#可以向不同的sheet写入数据"
   ]
  },
  {
   "cell_type": "code",
   "execution_count": null,
   "metadata": {},
   "outputs": [],
   "source": [
    "writer.book = book\n",
    "categorySalePivotTable.to_excel(writer, sheet_name='销售额')#将数据写入excel中的sheet2表,sheet_name改变后即是新增一个sheet\n",
    "writer.save()#保存"
   ]
  },
  {
   "cell_type": "code",
   "execution_count": null,
   "metadata": {},
   "outputs": [],
   "source": [
    "writer.book.close()"
   ]
  },
  {
   "cell_type": "code",
   "execution_count": null,
   "metadata": {},
   "outputs": [],
   "source": [
    "categoryVolumn = pd.pivot_table(bottle_categray_df,index=[\"类目\"],values=[\"销量\"],columns=[\"年\"],aggfunc=[np.sum])"
   ]
  },
  {
   "cell_type": "code",
   "execution_count": null,
   "metadata": {},
   "outputs": [],
   "source": [
    "categoryVolumnPivotTable = categoryVolumn[\"sum\"][\"销量\"]\n",
    "for saleYear in categoryVolumnPivotTable.columns.tolist()[1:]:\n",
    "    categoryVolumnPivotTable[str(saleYear)+\"环比\"]=((categoryVolumnPivotTable[saleYear]-categoryVolumnPivotTable[saleYear-1])/categoryVolumnPivotTable[saleYear-1]).apply(lambda x:'{:.2%}'.format(x))"
   ]
  },
  {
   "cell_type": "code",
   "execution_count": null,
   "metadata": {},
   "outputs": [],
   "source": [
    "for yearToCalculate in [2021,2022,2023]:\n",
    "    categoryVolumnPivotTable[str(yearToCalculate)+\"销量占比\"]=pd.to_numeric((categoryVolumnPivotTable[yearToCalculate]/np.sum(categoryVolumnPivotTable[yearToCalculate])))"
   ]
  },
  {
   "cell_type": "code",
   "execution_count": null,
   "metadata": {},
   "outputs": [],
   "source": [
    "for yearToCalculate in [2022,2023]:\n",
    "    categoryVolumnPivotTable[str(yearToCalculate)+\"销量占比环比\"]=((categoryVolumnPivotTable[str(yearToCalculate)+\"销量占比\"]-categoryVolumnPivotTable[str(yearToCalculate-1)+\"销量占比\"])/categoryVolumnPivotTable[str(yearToCalculate-1)+\"销量占比\"]).apply(lambda x:'{:.2%}'.format(x))"
   ]
  },
  {
   "cell_type": "code",
   "execution_count": null,
   "metadata": {},
   "outputs": [],
   "source": [
    "filename = \"D:/kinto旗舰店开设/保温杯类目观察.xlsx\"\n",
    "with pd.ExcelWriter(filename) as writer:\n",
    "    categorySalePivotTable.to_excel(writer,sheet_name=\"销售额\")\n",
    "    categoryVolumnPivotTable.to_excel(writer, sheet_name='销量')"
   ]
  }
 ],
 "metadata": {
  "kernelspec": {
   "display_name": "base",
   "language": "python",
   "name": "python3"
  },
  "language_info": {
   "codemirror_mode": {
    "name": "ipython",
    "version": 3
   },
   "file_extension": ".py",
   "mimetype": "text/x-python",
   "name": "python",
   "nbconvert_exporter": "python",
   "pygments_lexer": "ipython3",
   "version": "3.11.7"
  }
 },
 "nbformat": 4,
 "nbformat_minor": 2
}
