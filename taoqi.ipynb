{
 "cells": [
  {
   "cell_type": "code",
   "execution_count": 1,
   "metadata": {},
   "outputs": [],
   "source": [
    "from ana_tool import category_ana as ca\n",
    "import numpy as np\n",
    "import pandas as pd\n",
    "import re\n",
    "import os"
   ]
  },
  {
   "cell_type": "code",
   "execution_count": 2,
   "metadata": {},
   "outputs": [],
   "source": [
    "taoqi_dict = {}\n",
    "taoqi_dict[\"category_level\"] = \"1级类目名\"\n",
    "taoqi_dict[\"category_name\"] = [\"餐饮具\"]\n",
    "taoqi_df = ca.init_category_df(gap_num=50,excelFileName=r\"D:\\taoqi\\all_餐饮具_item_2022-01~2023-12_CNY_1713234489_og9j5uvksp.xlsx\",obj_to_date=\"时间\",top_limit=700,category_dict=taoqi_dict)"
   ]
  },
  {
   "cell_type": "code",
   "execution_count": 5,
   "metadata": {},
   "outputs": [],
   "source": [
    "taoqi_df.to_excel(r\"D:\\taoqi\\taoqi_item.xlsx\")"
   ]
  },
  {
   "cell_type": "code",
   "execution_count": 3,
   "metadata": {},
   "outputs": [
    {
     "name": "stderr",
     "output_type": "stream",
     "text": [
      "d:\\scrips\\ana_tool\\category_ana.py:75: FutureWarning: The provided callable <function sum at 0x000002DADC86AA20> is currently using DataFrameGroupBy.sum. In a future version of pandas, the provided callable will be used directly. To keep current behavior pass the string \"sum\" instead.\n",
      "  pivot_table = pd.pivot_table(df,index=index,values=value,columns=column,aggfunc=[np.sum])\n"
     ]
    }
   ],
   "source": [
    "taoqi_pivot_df = ca.salesPivotPercent(taoqi_df,index=\"店铺名\",value=\"销售额\",column=\"年\",agg_func_list=[2022,2023])"
   ]
  },
  {
   "cell_type": "code",
   "execution_count": 4,
   "metadata": {},
   "outputs": [],
   "source": [
    "taoqi_pivot_df.to_excel(r\"D:\\taoqi\\taoqi_dianpu.xlsx\")"
   ]
  }
 ],
 "metadata": {
  "kernelspec": {
   "display_name": "base",
   "language": "python",
   "name": "python3"
  },
  "language_info": {
   "codemirror_mode": {
    "name": "ipython",
    "version": 3
   },
   "file_extension": ".py",
   "mimetype": "text/x-python",
   "name": "python",
   "nbconvert_exporter": "python",
   "pygments_lexer": "ipython3",
   "version": "3.11.7"
  }
 },
 "nbformat": 4,
 "nbformat_minor": 2
}
