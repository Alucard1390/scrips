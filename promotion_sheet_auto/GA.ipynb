{
 "cells": [
  {
   "cell_type": "code",
   "execution_count": 1,
   "id": "46f9d74e",
   "metadata": {},
   "outputs": [],
   "source": [
    "import os\n",
    "import pandas as pd\n",
    "import re\n",
    "from datetime import datetime,timedelta\n",
    "import promutil as pu"
   ]
  },
  {
   "cell_type": "code",
   "execution_count": 2,
   "id": "87519c88",
   "metadata": {},
   "outputs": [],
   "source": [
    "brand = \"GA\"\n",
    "original_file_path = \"D:/推广/\"+brand+\"/日报/每日数据源\"\n",
    "zipped_file_path = \"D:/推广/\"+brand+\"/日报/每日数据源解压\"\n",
    "cleaned_file_path = \"D:/推广/\"+brand+\"/日报\"\n",
    "excel_output_path = \"D:/推广/\"+brand+\"/日报/日报\"\n",
    "zipfile_list = os.listdir(original_file_path)"
   ]
  },
  {
   "cell_type": "code",
   "execution_count": 5,
   "id": "92f26cb2",
   "metadata": {},
   "outputs": [
    {
     "name": "stdout",
     "output_type": "stream",
     "text": [
      "人群报表\n",
      "全体商品\n",
      "关键词报表\n",
      "店铺直达\n",
      "短视频\n",
      "超级直播\n"
     ]
    }
   ],
   "source": [
    "for _file in zipfile_list:\n",
    "    if _file.endswith(\".zip\"):\n",
    "        file_need_zip = _file\n",
    "        pu.extract_zipfile(original_file_path+\"/\"+file_need_zip,zipped_file_path)\n",
    "        temp_csv_file = os.listdir(zipped_file_path)[0]\n",
    "        excel_file_name = re.search(\"[a-zA-Z\\\\u4e00-\\\\u9fa5]+\",file_need_zip).group()\n",
    "        print(excel_file_name)\n",
    "        pu.csv_to_excel(zipped_file_path+\"/\"+temp_csv_file,cleaned_file_path+\"/日报数据源/\"+excel_file_name+\".xlsx\",name_of_sheet=excel_file_name)\n",
    "        pu.clear_folder(zipped_file_path)\n",
    "    else:\n",
    "        continue"
   ]
  },
  {
   "cell_type": "code",
   "execution_count": null,
   "id": "41c5c020",
   "metadata": {},
   "outputs": [],
   "source": [
    "#pu.refresh_and_save_excel(\"D:/推广/\"+brand+\"/日报/\"+brand+\"推广日报底表.xlsx\",excel_output_path+\"/\"+brand+\"推广日报\"+datetime.strftime(datetime.today()-timedelta(days=1),\"%m%d\")+\".xlsx\")"
   ]
  }
 ],
 "metadata": {
  "kernelspec": {
   "display_name": "base",
   "language": "python",
   "name": "python3"
  },
  "language_info": {
   "codemirror_mode": {
    "name": "ipython",
    "version": 3
   },
   "file_extension": ".py",
   "mimetype": "text/x-python",
   "name": "python",
   "nbconvert_exporter": "python",
   "pygments_lexer": "ipython3",
   "version": "3.12.7"
  }
 },
 "nbformat": 4,
 "nbformat_minor": 5
}
