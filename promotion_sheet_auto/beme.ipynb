{
 "cells": [
  {
   "cell_type": "code",
   "execution_count": 1,
   "id": "d0151a76",
   "metadata": {},
   "outputs": [],
   "source": [
    "import os\n",
    "import pandas as pd\n",
    "import re\n",
    "from datetime import datetime,timedelta\n",
    "import promutil as pu"
   ]
  },
  {
   "cell_type": "code",
   "execution_count": 2,
   "id": "9bb158dc",
   "metadata": {},
   "outputs": [],
   "source": [
    "brand = \"beme\"\n",
    "original_file_path = \"D:/推广/\"+brand+\"/日报/每日数据源\"\n",
    "zipped_file_path = \"D:/推广/\"+brand+\"/日报/每日数据源解压\"\n",
    "cleaned_file_path = \"D:/推广/\"+brand+\"/日报\"\n",
    "excel_output_path = \"D:/推广/\"+brand+\"/日报/日报\"\n",
    "zipfile_list = os.listdir(original_file_path)"
   ]
  },
  {
   "cell_type": "code",
   "execution_count": 3,
   "id": "e2bb820d",
   "metadata": {},
   "outputs": [
    {
     "name": "stdout",
     "output_type": "stream",
     "text": [
      "人群报表\n",
      "关键词报表\n",
      "全体商品\n",
      "推广效果数据\n",
      "计划报表\n",
      "超级直播报表\n"
     ]
    }
   ],
   "source": [
    "for _file in zipfile_list:\n",
    "    if _file.endswith(\".zip\"):\n",
    "        file_need_zip = _file\n",
    "        pu.extract_zipfile(original_file_path+\"/\"+file_need_zip,zipped_file_path)\n",
    "        temp_csv_file = os.listdir(zipped_file_path)[0]\n",
    "        excel_file_name = re.search(\"[a-zA-Z\\\\u4e00-\\\\u9fa5]+\",file_need_zip).group()\n",
    "        print(excel_file_name)\n",
    "        pu.csv_to_excel(zipped_file_path+\"/\"+temp_csv_file,cleaned_file_path+\"/\"+\"/日报数据源/\"+excel_file_name+\".xlsx\",name_of_sheet=excel_file_name)\n",
    "        pu.clear_folder(zipped_file_path)\n",
    "    else:\n",
    "        continue\n",
    "    "
   ]
  }
 ],
 "metadata": {
  "kernelspec": {
   "display_name": "base",
   "language": "python",
   "name": "python3"
  },
  "language_info": {
   "codemirror_mode": {
    "name": "ipython",
    "version": 3
   },
   "file_extension": ".py",
   "mimetype": "text/x-python",
   "name": "python",
   "nbconvert_exporter": "python",
   "pygments_lexer": "ipython3",
   "version": "3.12.7"
  }
 },
 "nbformat": 4,
 "nbformat_minor": 5
}
