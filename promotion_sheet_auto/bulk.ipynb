{
 "cells": [
  {
   "cell_type": "code",
   "execution_count": 33,
   "id": "d0151a76",
   "metadata": {},
   "outputs": [],
   "source": [
    "import os\n",
    "import pandas as pd\n",
    "import re\n",
    "from datetime import datetime,timedelta\n",
    "import promutil as pu"
   ]
  },
  {
   "cell_type": "code",
   "execution_count": 34,
   "id": "9bb158dc",
   "metadata": {},
   "outputs": [],
   "source": [
    "brand = \"本客\"\n",
    "original_file_path = \"D:/推广/\"+brand+\"/日报/每日数据源\"\n",
    "zipped_file_path = \"D:/推广/\"+brand+\"/日报/每日数据源解压\"\n",
    "cleaned_file_path = \"D:/推广/\"+brand+\"/日报\"\n",
    "excel_output_path = \"D:/推广/\"+brand+\"/日报/日报\"\n",
    "zipfile_list = os.listdir(original_file_path)"
   ]
  },
  {
   "cell_type": "code",
   "execution_count": 35,
   "id": "e2bb820d",
   "metadata": {},
   "outputs": [
    {
     "name": "stdout",
     "output_type": "stream",
     "text": [
      "推广效果数据_20250825_113803\n",
      "推广效果数据_20250825_113820\n",
      "推广效果数据_20250825_113836\n"
     ]
    }
   ],
   "source": [
    "for _file in zipfile_list:\n",
    "    if _file.endswith(\".zip\"):\n",
    "        file_need_zip = _file\n",
    "        pu.extract_zipfile(original_file_path+\"/\"+file_need_zip,zipped_file_path)\n",
    "        temp_csv_file = os.listdir(zipped_file_path)[0]\n",
    "        excel_file_name = re.search(\"[0-9\\\\a-zA-Z\\\\u4e00-\\\\u9fa5]+\",file_need_zip).group().replace(\".zip\",\"\")\n",
    "        print(excel_file_name)\n",
    "        pu.csv_to_excel(zipped_file_path+\"/\"+temp_csv_file,cleaned_file_path+\"/\"+\"/日报数据源/\"+excel_file_name+\".xlsx\",name_of_sheet=excel_file_name)\n",
    "        pu.clear_folder(zipped_file_path)\n",
    "    else:\n",
    "        continue\n",
    "    "
   ]
  },
  {
   "cell_type": "code",
   "execution_count": 36,
   "id": "dc278fed",
   "metadata": {},
   "outputs": [],
   "source": [
    "file_list = os.listdir(\"D:/推广/本客/日报/日报数据源\")\n",
    "dfs = [pd.read_excel(\"D:/推广/本客/日报/日报数据源/\"+file) for file in file_list]\n",
    "df_merged = pd.concat(dfs, ignore_index=True)"
   ]
  },
  {
   "cell_type": "code",
   "execution_count": 37,
   "id": "1146ec03",
   "metadata": {},
   "outputs": [],
   "source": [
    "df_merged.to_excel(\"D:/推广/本客/日报/推广效果数据.xlsx\",index=False)"
   ]
  }
 ],
 "metadata": {
  "kernelspec": {
   "display_name": "base",
   "language": "python",
   "name": "python3"
  },
  "language_info": {
   "codemirror_mode": {
    "name": "ipython",
    "version": 3
   },
   "file_extension": ".py",
   "mimetype": "text/x-python",
   "name": "python",
   "nbconvert_exporter": "python",
   "pygments_lexer": "ipython3",
   "version": "3.12.7"
  }
 },
 "nbformat": 4,
 "nbformat_minor": 5
}
