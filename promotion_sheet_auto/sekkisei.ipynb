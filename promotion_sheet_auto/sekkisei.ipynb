{
 "cells": [
  {
   "cell_type": "code",
   "execution_count": 19,
   "id": "46f9d74e",
   "metadata": {},
   "outputs": [],
   "source": [
    "import os\n",
    "import pandas as pd\n",
    "import zipfile\n",
    "import re\n",
    "import shutil\n",
    "import win32com.client as win32\n",
    "from datetime import datetime,timedelta"
   ]
  },
  {
   "cell_type": "code",
   "execution_count": 20,
   "id": "87519c88",
   "metadata": {},
   "outputs": [],
   "source": [
    "brand = \"雪肌精\"\n",
    "original_file_path = \"D:/推广/\"+brand+\"/日报/每日数据源\"\n",
    "zipped_file_path = \"D:/推广/\"+brand+\"/日报/每日数据源解压\"\n",
    "cleaned_file_path = \"D:/推广/\"+brand+\"/日报\"\n",
    "excel_output_path = \"D:/推广/\"+brand+\"/日报/日报\"\n",
    "zipfile_list = os.listdir(original_file_path)"
   ]
  },
  {
   "cell_type": "code",
   "execution_count": 21,
   "id": "0874532e",
   "metadata": {},
   "outputs": [],
   "source": [
    "def extract_zipfile(zipfile_path, target_folder):\n",
    "    with zipfile.ZipFile(zipfile_path, 'r') as zip_ref:\n",
    "        zip_ref.extractall(target_folder)"
   ]
  },
  {
   "cell_type": "code",
   "execution_count": 22,
   "id": "b22866c7",
   "metadata": {},
   "outputs": [],
   "source": [
    "def csv_to_excel(csvfile_path,excelfile_path,name_of_sheet):\n",
    "    try:\n",
    "        df = pd.read_csv(csvfile_path,encoding=\"GBK\")\n",
    "    except:\n",
    "        df = pd.read_csv(csvfile_path,encoding=\"UTF-8\")\n",
    "    df.to_excel(excelfile_path,index=False,sheet_name=name_of_sheet)"
   ]
  },
  {
   "cell_type": "code",
   "execution_count": 23,
   "id": "95818542",
   "metadata": {},
   "outputs": [],
   "source": [
    "def clear_folder(folder_path):\n",
    "    \"\"\"清空文件夹（删除后重建）\"\"\"\n",
    "    try:\n",
    "        # 删除整个文件夹\n",
    "        shutil.rmtree(folder_path)\n",
    "        # 重新创建空文件夹\n",
    "        os.makedirs(folder_path, exist_ok=True)\n",
    "    except Exception as e:\n",
    "        print(f\"清空文件夹失败: {e}\")"
   ]
  },
  {
   "cell_type": "code",
   "execution_count": 29,
   "id": "92f26cb2",
   "metadata": {},
   "outputs": [
    {
     "name": "stderr",
     "output_type": "stream",
     "text": [
      "<>:4: SyntaxWarning: invalid escape sequence '\\D'\n",
      "<>:4: SyntaxWarning: invalid escape sequence '\\D'\n",
      "C:\\Users\\Vincent\\AppData\\Local\\Temp\\ipykernel_21036\\2045114461.py:4: SyntaxWarning: invalid escape sequence '\\D'\n",
      "  excel_file_name = re.findall(\"\\D+\",file_need_zip)[0].replace(\".zip\",\"\")\n"
     ]
    }
   ],
   "source": [
    "for file_need_zip in zipfile_list:\n",
    "    extract_zipfile(original_file_path+\"/\"+file_need_zip,zipped_file_path)\n",
    "    temp_csv_file = os.listdir(zipped_file_path)[0]\n",
    "    excel_file_name = re.findall(\"\\D+\",file_need_zip)[0].replace(\".zip\",\"\")\n",
    "    csv_to_excel(zipped_file_path+\"/\"+temp_csv_file,cleaned_file_path+\"/\"+\"/日报数据源/\"+excel_file_name+\".xlsx\",name_of_sheet=excel_file_name)\n",
    "    clear_folder(zipped_file_path)\n",
    "    "
   ]
  },
  {
   "cell_type": "code",
   "execution_count": 25,
   "id": "61e97868",
   "metadata": {},
   "outputs": [],
   "source": [
    "def refresh_and_save_excel(input_path, output_path):\n",
    "    \"\"\"\n",
    "    打开 Excel 文件，刷新所有数据（公式、透视表等），并另存为新文件\n",
    "    需要已安装 Microsoft Excel 应用程序\n",
    "    \n",
    "    参数:\n",
    "        input_path (str): 输入 Excel 文件路径\n",
    "        output_path (str): 输出 Excel 文件路径\n",
    "    \"\"\"\n",
    "    try:\n",
    "        # 启动 Excel 应用程序\n",
    "        excel = win32.gencache.EnsureDispatch('Excel.Application')\n",
    "        excel.Visible = False  # 后台运行\n",
    "        excel.DisplayAlerts = False # 强制覆盖不弹窗\n",
    "        \n",
    "        # 打开工作簿\n",
    "        wb = excel.Workbooks.Open(os.path.abspath(input_path))\n",
    "        \n",
    "        # 刷新所有数据\n",
    "        wb.RefreshAll()  # 刷新公式、透视表、数据连接等\n",
    "        excel.CalculateUntilAsyncQueriesDone()  # 等待刷新完成\n",
    "        \n",
    "        # 另存为新文件（不覆盖原文件）\n",
    "        wb.Save()\n",
    "        wb.SaveAs(os.path.abspath(output_path))\n",
    "        print(f\"已刷新并另存为: {output_path}\")\n",
    "        \n",
    "    except Exception as e:\n",
    "        print(f\"操作失败: {e}\")\n",
    "    finally:\n",
    "        # 关闭工作簿和 Excel\n",
    "        wb.Close(SaveChanges=False)\n",
    "        excel.Quit()\n",
    "        # 释放 COM 对象\n",
    "        del excel\n"
   ]
  },
  {
   "cell_type": "code",
   "execution_count": 26,
   "id": "41c5c020",
   "metadata": {},
   "outputs": [
    {
     "name": "stdout",
     "output_type": "stream",
     "text": [
      "已刷新并另存为: D:/推广/雪肌精/日报/日报/雪肌精推广日报0722_完整版.xlsx\n"
     ]
    }
   ],
   "source": [
    "refresh_and_save_excel(\"D:/推广/\"+brand+\"/日报/雪肌精推广日报底表.xlsx\",excel_output_path+\"/\"+brand+\"推广日报\"+datetime.strftime(datetime.today()-timedelta(days=1),\"%m%d\")+\"_完整版.xlsx\")"
   ]
  }
 ],
 "metadata": {
  "kernelspec": {
   "display_name": "base",
   "language": "python",
   "name": "python3"
  },
  "language_info": {
   "codemirror_mode": {
    "name": "ipython",
    "version": 3
   },
   "file_extension": ".py",
   "mimetype": "text/x-python",
   "name": "python",
   "nbconvert_exporter": "python",
   "pygments_lexer": "ipython3",
   "version": "3.12.7"
  }
 },
 "nbformat": 4,
 "nbformat_minor": 5
}
