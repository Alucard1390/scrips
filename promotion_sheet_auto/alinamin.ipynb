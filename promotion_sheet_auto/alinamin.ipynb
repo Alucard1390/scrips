{
 "cells": [
  {
   "cell_type": "code",
   "execution_count": 1,
   "id": "46f9d74e",
   "metadata": {},
   "outputs": [],
   "source": [
    "import os\n",
    "import pandas as pd\n",
    "import re\n",
    "from datetime import datetime,timedelta\n",
    "import promutil as pu"
   ]
  },
  {
   "cell_type": "code",
   "execution_count": 2,
   "id": "87519c88",
   "metadata": {},
   "outputs": [],
   "source": [
    "brand = \"Alinamin\"\n",
    "original_file_path = \"D:/推广/alinamin/日报/每日数据源\"\n",
    "zipped_file_path = \"D:/推广/alinamin/日报/每日数据源解压\"\n",
    "cleaned_file_path = \"D:/推广/alinamin/日报\"\n",
    "excel_output_path = \"D:/推广/alinamin/日报/日报\"\n",
    "zipfile_list = os.listdir(original_file_path)"
   ]
  },
  {
   "cell_type": "code",
   "execution_count": 3,
   "id": "92f26cb2",
   "metadata": {},
   "outputs": [
    {
     "name": "stderr",
     "output_type": "stream",
     "text": [
      "<>:4: SyntaxWarning: invalid escape sequence '\\D'\n",
      "<>:4: SyntaxWarning: invalid escape sequence '\\D'\n",
      "C:\\Users\\Vincent\\AppData\\Local\\Temp\\ipykernel_33640\\714498851.py:4: SyntaxWarning: invalid escape sequence '\\D'\n",
      "  excel_file_name = re.findall(\"\\D+\",file_need_zip)[0].replace(\".zip\",\"\")\n"
     ]
    }
   ],
   "source": [
    "for file_need_zip in zipfile_list:\n",
    "    pu.extract_zipfile(original_file_path+\"/\"+file_need_zip,zipped_file_path)\n",
    "    temp_csv_file = os.listdir(zipped_file_path)[0]\n",
    "    excel_file_name = re.findall(\"\\D+\",file_need_zip)[0].replace(\".zip\",\"\")\n",
    "    pu.csv_to_excel(zipped_file_path+\"/\"+temp_csv_file,cleaned_file_path+\"/\"+\"日报数据源/\"+excel_file_name+\".xlsx\",name_of_sheet=excel_file_name)\n",
    "    pu.clear_folder(zipped_file_path)\n",
    "    "
   ]
  },
  {
   "cell_type": "code",
   "execution_count": 4,
   "id": "6594db4c",
   "metadata": {},
   "outputs": [],
   "source": [
    "#JZT处理#\n",
    "\n",
    "pu.csv_to_excel(cleaned_file_path+\"/JZT.csv\",cleaned_file_path+\"/JZT.xlsx\",name_of_sheet=\"JZT\")"
   ]
  },
  {
   "cell_type": "code",
   "execution_count": 5,
   "id": "41c5c020",
   "metadata": {},
   "outputs": [
    {
     "name": "stdout",
     "output_type": "stream",
     "text": [
      "操作失败: (-2147418111, '被呼叫方拒绝接收呼叫。', None, None)\n"
     ]
    },
    {
     "ename": "com_error",
     "evalue": "(-2147418111, '被呼叫方拒绝接收呼叫。', None, None)",
     "output_type": "error",
     "traceback": [
      "\u001b[1;31m---------------------------------------------------------------------------\u001b[0m",
      "\u001b[1;31mcom_error\u001b[0m                                 Traceback (most recent call last)",
      "Cell \u001b[1;32mIn[5], line 1\u001b[0m\n\u001b[1;32m----> 1\u001b[0m pu\u001b[38;5;241m.\u001b[39mrefresh_and_save_excel(\u001b[38;5;124m\"\u001b[39m\u001b[38;5;124mD:/推广/alinamin/日报/Alinamin推广日报底表.xlsx\u001b[39m\u001b[38;5;124m\"\u001b[39m,excel_output_path\u001b[38;5;241m+\u001b[39m\u001b[38;5;124m\"\u001b[39m\u001b[38;5;124m/\u001b[39m\u001b[38;5;124m\"\u001b[39m\u001b[38;5;241m+\u001b[39mbrand\u001b[38;5;241m+\u001b[39m\u001b[38;5;124m\"\u001b[39m\u001b[38;5;124m推广日报\u001b[39m\u001b[38;5;124m\"\u001b[39m\u001b[38;5;241m+\u001b[39mdatetime\u001b[38;5;241m.\u001b[39mstrftime(datetime\u001b[38;5;241m.\u001b[39mtoday()\u001b[38;5;241m-\u001b[39mtimedelta(days\u001b[38;5;241m=\u001b[39m\u001b[38;5;241m1\u001b[39m),\u001b[38;5;124m\"\u001b[39m\u001b[38;5;124m%\u001b[39m\u001b[38;5;124mm\u001b[39m\u001b[38;5;132;01m%d\u001b[39;00m\u001b[38;5;124m\"\u001b[39m)\u001b[38;5;241m+\u001b[39m\u001b[38;5;124m\"\u001b[39m\u001b[38;5;124m.xlsx\u001b[39m\u001b[38;5;124m\"\u001b[39m)\n",
      "File \u001b[1;32md:\\scrips\\promotion_sheet_auto\\promutil.py:62\u001b[0m, in \u001b[0;36mrefresh_and_save_excel\u001b[1;34m(input_path, output_path)\u001b[0m\n\u001b[0;32m     59\u001b[0m     \u001b[38;5;28mprint\u001b[39m(\u001b[38;5;124mf\u001b[39m\u001b[38;5;124m\"\u001b[39m\u001b[38;5;124m操作失败: \u001b[39m\u001b[38;5;132;01m{\u001b[39;00me\u001b[38;5;132;01m}\u001b[39;00m\u001b[38;5;124m\"\u001b[39m)\n\u001b[0;32m     60\u001b[0m \u001b[38;5;28;01mfinally\u001b[39;00m:\n\u001b[0;32m     61\u001b[0m     \u001b[38;5;66;03m# 关闭工作簿和 Excel\u001b[39;00m\n\u001b[1;32m---> 62\u001b[0m     wb\u001b[38;5;241m.\u001b[39mClose(SaveChanges\u001b[38;5;241m=\u001b[39m\u001b[38;5;28;01mTrue\u001b[39;00m)\n\u001b[0;32m     63\u001b[0m     excel\u001b[38;5;241m.\u001b[39mQuit()\n\u001b[0;32m     64\u001b[0m     \u001b[38;5;66;03m# 释放 COM 对象\u001b[39;00m\n",
      "File \u001b[1;32mc:\\Users\\Vincent\\anaconda3\\Lib\\site-packages\\win32com\\gen_py\\00020813-0000-0000-C000-000000000046x0x1x9\\_Workbook.py:70\u001b[0m, in \u001b[0;36m_Workbook.Close\u001b[1;34m(self, SaveChanges, Filename, RouteWorkbook)\u001b[0m\n\u001b[0;32m     69\u001b[0m \u001b[38;5;28;01mdef\u001b[39;00m \u001b[38;5;21mClose\u001b[39m(\u001b[38;5;28mself\u001b[39m, SaveChanges\u001b[38;5;241m=\u001b[39mdefaultNamedOptArg, Filename\u001b[38;5;241m=\u001b[39mdefaultNamedOptArg, RouteWorkbook\u001b[38;5;241m=\u001b[39mdefaultNamedOptArg):\n\u001b[1;32m---> 70\u001b[0m \t\u001b[38;5;28;01mreturn\u001b[39;00m \u001b[38;5;28mself\u001b[39m\u001b[38;5;241m.\u001b[39m_oleobj_\u001b[38;5;241m.\u001b[39mInvokeTypes(\u001b[38;5;241m277\u001b[39m, LCID, \u001b[38;5;241m1\u001b[39m, (\u001b[38;5;241m24\u001b[39m, \u001b[38;5;241m0\u001b[39m), ((\u001b[38;5;241m12\u001b[39m, \u001b[38;5;241m17\u001b[39m), (\u001b[38;5;241m12\u001b[39m, \u001b[38;5;241m17\u001b[39m), (\u001b[38;5;241m12\u001b[39m, \u001b[38;5;241m17\u001b[39m)),SaveChanges\n\u001b[0;32m     71\u001b[0m \t\t, Filename, RouteWorkbook)\n",
      "\u001b[1;31mcom_error\u001b[0m: (-2147418111, '被呼叫方拒绝接收呼叫。', None, None)"
     ]
    }
   ],
   "source": [
    "pu.refresh_and_save_excel(\"D:/推广/alinamin/日报/Alinamin推广日报底表.xlsx\",excel_output_path+\"/\"+brand+\"推广日报\"+datetime.strftime(datetime.today()-timedelta(days=1),\"%m%d\")+\".xlsx\")\n"
   ]
  }
 ],
 "metadata": {
  "kernelspec": {
   "display_name": "base",
   "language": "python",
   "name": "python3"
  },
  "language_info": {
   "codemirror_mode": {
    "name": "ipython",
    "version": 3
   },
   "file_extension": ".py",
   "mimetype": "text/x-python",
   "name": "python",
   "nbconvert_exporter": "python",
   "pygments_lexer": "ipython3",
   "version": "3.12.7"
  }
 },
 "nbformat": 4,
 "nbformat_minor": 5
}
