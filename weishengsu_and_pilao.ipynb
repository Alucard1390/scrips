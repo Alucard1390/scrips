{
 "cells": [
  {
   "cell_type": "code",
   "execution_count": 2,
   "metadata": {},
   "outputs": [],
   "source": [
    "from ana_tool import category_ana as ca\n",
    "import pandas as pd\n",
    "import numpy as np\n",
    "import re\n",
    "import os"
   ]
  },
  {
   "cell_type": "code",
   "execution_count": 3,
   "metadata": {},
   "outputs": [],
   "source": [
    "otc_df = pd.read_excel(r\"C:\\Users\\Administrator\\Downloads\\all_OTC药品-国际医药_item_2022-01~2023-12_CNY_1713260144_kl60bfmvtw.xlsx\")\n",
    "baojian_df = pd.read_excel(r\"C:\\Users\\Administrator\\Downloads\\all_保健食品-膳食营养补充食品_item_2022-01~2023-12_CNY_1713260058_zrilmsd1jo.xlsx\")"
   ]
  },
  {
   "cell_type": "code",
   "execution_count": null,
   "metadata": {},
   "outputs": [],
   "source": [
    "\n",
    "otc_category = {}\n",
    "otc_category[\"category_level\"] = \"1级类目名\"\n",
    "otc_category[\"category_name\"] = [\"OTC药品/国际医药\"]\n",
    "vitamin_category = {}\n",
    "vitamin_category[\"category_level\"] = \"1级类目名\"\n",
    "vitamin_category[\"category_name\"] = [\"保健食品/膳食营养补充食品\"]\n",
    "otc_vitamin_category={}\n",
    "otc_vitamin_category[\"category_level\"] = \"叶子类目名\"\n",
    "otc_vitamin_category[\"category_name\"] = [\"维矿物质\",\"国际维矿物质药品\"]"
   ]
  }
 ],
 "metadata": {
  "kernelspec": {
   "display_name": "base",
   "language": "python",
   "name": "python3"
  },
  "language_info": {
   "codemirror_mode": {
    "name": "ipython",
    "version": 3
   },
   "file_extension": ".py",
   "mimetype": "text/x-python",
   "name": "python",
   "nbconvert_exporter": "python",
   "pygments_lexer": "ipython3",
   "version": "3.11.7"
  }
 },
 "nbformat": 4,
 "nbformat_minor": 2
}
