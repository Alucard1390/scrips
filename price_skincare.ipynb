{
 "cells": [
  {
   "cell_type": "code",
   "execution_count": 1,
   "metadata": {},
   "outputs": [],
   "source": [
    "import pandas as pd\n",
    "import numpy as np\n",
    "from matplotlib import pyplot as plt"
   ]
  },
  {
   "cell_type": "code",
   "execution_count": 2,
   "metadata": {},
   "outputs": [],
   "source": [
    "price_df = pd.read_excel(r\"C:\\Users\\Administrator\\Downloads\\all_美容护肤-美体-精油_item_2021-01~2023-12_CNY_1712642567_0bw6cmul.xlsx\")"
   ]
  },
  {
   "cell_type": "code",
   "execution_count": 3,
   "metadata": {},
   "outputs": [],
   "source": [
    "price_df[\"月份\"]=pd.to_datetime(price_df[\"时间\"],format=\"%Y-%m-%d\")\n",
    "price_df[\"年\"]=price_df[\"月份\"].dt.year"
   ]
  },
  {
   "cell_type": "code",
   "execution_count": 5,
   "metadata": {},
   "outputs": [],
   "source": [
    "def price_layer(price,price_top,price_gap):\n",
    "    if price>price_top:\n",
    "            priceLayer=str(price_top)+\"-\"\n",
    "    else:\n",
    "        for p in range(0,price_top,price_gap):\n",
    "            if price>=p:\n",
    "                priceLayer=str(p)+\"-\"+str(p+price_gap)\n",
    "            else:\n",
    "                continue\n",
    "    return priceLayer"
   ]
  },
  {
   "cell_type": "code",
   "execution_count": 5,
   "metadata": {},
   "outputs": [],
   "source": [
    "import re\n",
    "def guige(kikaku):\n",
    "    pattern = r'(\\d+g*\\d支\\/盒)' \n",
    "    match = re.search(pattern, kikaku)  \n",
    "    if match:\n",
    "        new_kikaku = match.group(1)\n",
    "    else:\n",
    "        new_kikaku = kikaku\n",
    "    return new_kikaku  "
   ]
  },
  {
   "cell_type": "code",
   "execution_count": 6,
   "metadata": {},
   "outputs": [],
   "source": [
    "price_df[\"价格带\"]=price_df[\"价格\"].apply(lambda x:price_layer(x,300,20))"
   ]
  },
  {
   "cell_type": "code",
   "execution_count": 7,
   "metadata": {},
   "outputs": [],
   "source": [
    "price_df.to_excel(r'D:\\lion240401\\skincare价格带.xlsx')"
   ]
  },
  {
   "cell_type": "code",
   "execution_count": 9,
   "metadata": {},
   "outputs": [],
   "source": [
    "price_TOP20df = price_df[price_df[\"品牌\"].isin(['药都仁和',\t'laroche posay/理肤泉',\t'kiehl\\'s/科颜氏',\t'同仁堂',\t'dr.ci.labo/城野医生',\t'南京同仁堂',\t'dr.wu/达尔肤',\t'perfect/完美',\t'a.h.c/爱和纯',\t'溪木源',\t'大水滴',\t'homefacialpro',\t'资莱皙',\t'仁和匠心',\t'博乐达',\t'origins/悦木之源',\t'菜鸟和配方师',\t'帛锦晶',\t'寻荟记',\t'极男'])]"
   ]
  },
  {
   "cell_type": "code",
   "execution_count": 18,
   "metadata": {},
   "outputs": [],
   "source": [
    "jiemianTop20 = price_df[price_df[\"品牌\"].isin(['资莱皙',\t'南京同仁堂',\t'同仁堂',\t'仁和匠心',\t'药都仁和',\t'akf',\t'儒意',\t'碧素堂','winona/薇诺娜',\t'vt',\t'a.h.c/爱和纯',\t'绿漾',\t'orginese',\t'仁和',\t'dermafirm+/德妃',\t'uno/吾诺',\t'缪徕',\t'sevengreen/七绿',\t'协和','vidivici'])]"
   ]
  },
  {
   "cell_type": "code",
   "execution_count": 23,
   "metadata": {},
   "outputs": [],
   "source": [
    "jiemianTop20urenai = price_df[price_df[\"品牌\"].isin(['南京同仁堂',\t'同仁堂',\t'仁和匠心',\t'药都仁和',\t'akf',\t'儒意',\t'winona/薇诺娜',\t'vt',\t'a.h.c/爱和纯',\t'绿漾',\t'仁和',\t'dermafirm+/德妃',\t'缪徕',\t'sevengreen/七绿',\t'协和','vidivici'])]"
   ]
  },
  {
   "cell_type": "code",
   "execution_count": 24,
   "metadata": {},
   "outputs": [],
   "source": [
    "jiemianTop20urenai.to_excel(r'D:\\lion240401\\jiemian20urenai.xlsx')"
   ]
  },
  {
   "cell_type": "code",
   "execution_count": 20,
   "metadata": {},
   "outputs": [],
   "source": [
    "jiemianTop20.to_excel(r'D:\\lion240401\\jiemian20.xlsx')"
   ]
  },
  {
   "cell_type": "code",
   "execution_count": 13,
   "metadata": {},
   "outputs": [],
   "source": [
    "shuangfushuiTop20 = price_df[price_df[\"品牌\"].isin(['kiehl\\'s/科颜氏',\t'origins/悦木之源',\t'eau precieuse',\t'至本',\t'cosme decorte/黛珂',\t'溪木源',\t'Albion/澳尔滨',\t'三月理',\t'winona/薇诺娜',\t'Grain Rain/谷雨',\t'homa',\t'全澳',\t'royal family beauty/皇族养心堂',\t'资莱皙',\t'cdt',\t'宿系之源',\t'xshow/圣雪兰',\t'dunfugai/豆妃',\t'drfrancini'])]"
   ]
  },
  {
   "cell_type": "code",
   "execution_count": 25,
   "metadata": {},
   "outputs": [],
   "source": [
    "shuangfushuiTop20ureru = price_df[price_df[\"品牌\"].isin(['kiehl\\'s/科颜氏',\t'eau precieuse','溪木源','royal family beauty/皇族养心堂','资莱皙','宿系之源'])]\n",
    "shuangfushuiTop20ureru.to_excel(r'D:\\lion240401\\shuangfushui20ureru.xlsx')"
   ]
  },
  {
   "cell_type": "code",
   "execution_count": null,
   "metadata": {},
   "outputs": [],
   "source": [
    "shuangfushuiTop20ureru = price_df[price_df[\"品牌\"].isin(['origins/悦木之源','Grain Rain/谷雨','homa','royal family beauty/皇族养心堂','资莱皙','宿系之源'])]\n",
    "shuangfushuiTop20ureru.to_excel(r'D:\\lion240401\\shuangfushui20ureru.xlsx')"
   ]
  },
  {
   "cell_type": "code",
   "execution_count": 30,
   "metadata": {},
   "outputs": [],
   "source": [
    "shuangfushuitop20ureru=['origins/悦木之源','Grain Rain/谷雨','homa','royal family beauty/皇族养心堂','资莱皙','宿系之源']\n",
    "shuangfushuiTop20=['kiehl\\'s/科颜氏',\t'origins/悦木之源',\t'eau precieuse',\t'至本',\t'cosme decorte/黛珂',\t'溪木源',\t'Albion/澳尔滨',\t'三月理',\t'winona/薇诺娜',\t'Grain Rain/谷雨',\t'homa',\t'全澳',\t'royal family beauty/皇族养心堂',\t'资莱皙',\t'cdt',\t'宿系之源',\t'xshow/圣雪兰',\t'dunfugai/豆妃',\t'drfrancini']\n",
    "shuangfushuitop20urenailist = [x for x in shuangfushuiTop20 if x not in shuangfushuitop20ureru]"
   ]
  },
  {
   "cell_type": "code",
   "execution_count": 32,
   "metadata": {},
   "outputs": [],
   "source": [
    "shuangfushuiTop20urenai = price_df[price_df[\"品牌\"].isin(shuangfushuitop20urenailist)]\n",
    "shuangfushuiTop20urenai.to_excel(r'D:\\lion240401\\shuangfushui20urenai.xlsx')"
   ]
  },
  {
   "cell_type": "code",
   "execution_count": 31,
   "metadata": {},
   "outputs": [
    {
     "name": "stdout",
     "output_type": "stream",
     "text": [
      "[\"kiehl's/科颜氏\", 'eau precieuse', '至本', 'cosme decorte/黛珂', '溪木源', 'Albion/澳尔滨', '三月理', 'winona/薇诺娜', '全澳', 'cdt', 'xshow/圣雪兰', 'dunfugai/豆妃', 'drfrancini']\n"
     ]
    }
   ],
   "source": [
    "print(shuangfushuitop20urenailist)"
   ]
  },
  {
   "cell_type": "code",
   "execution_count": 16,
   "metadata": {},
   "outputs": [],
   "source": [
    "shuangfushuiTop20.to_excel(r'D:\\lion240401\\shuangfushui20.xlsx')"
   ]
  },
  {
   "cell_type": "code",
   "execution_count": 21,
   "metadata": {},
   "outputs": [],
   "source": [
    "taozhuangTop20 = price_df[price_df[\"品牌\"].isin(['溪木源',\t'laroche posay/理肤泉',\t'善草纪',\t'cosme decorte/黛珂',\t'homefacialpro',\t'skinceuticals/修丽可',\t'dr.wu/达尔肤',\t'winona/薇诺娜',\t'Grain Rain/谷雨',\t'fulfil/芙芙',\t'kiehl\\'s/科颜氏',\t'同仁堂',\t'欧利芙洋',\t'takami',\t'nya\\'s/妮雅丝',\t'仰寿堂',\t'one leaf/一叶子',\t'南京同仁堂',\t'黛依美','dr.ci.labo/城野医生'])]"
   ]
  },
  {
   "cell_type": "code",
   "execution_count": 33,
   "metadata": {},
   "outputs": [],
   "source": [
    "taozhuangTop20list = ['溪木源',\t'laroche posay/理肤泉',\t'善草纪',\t'cosme decorte/黛珂',\t'homefacialpro',\t'skinceuticals/修丽可',\t'dr.wu/达尔肤',\t'winona/薇诺娜',\t'Grain Rain/谷雨',\t'fulfil/芙芙',\t'kiehl\\'s/科颜氏',\t'同仁堂',\t'欧利芙洋',\t'takami',\t'nya\\'s/妮雅丝',\t'仰寿堂',\t'one leaf/一叶子',\t'南京同仁堂',\t'黛依美','dr.ci.labo/城野医生']\n",
    "taozhuangUreru = price_df[price_df[\"品牌\"].isin(['善草纪','cosme decorte/黛珂','欧利芙洋','takami','nya\\'s/妮雅丝'])]\n",
    "taozhuangurerulist = ['善草纪','cosme decorte/黛珂','欧利芙洋','takami','nya\\'s/妮雅丝']\n",
    "taozhuangUreru.to_excel(r'D:\\lion240401\\taozhuangureru.xlsx')\n",
    "taozhuangurenailist = [y for y in taozhuangTop20list if y not in taozhuangurerulist]\n",
    "taozhuangurenai = price_df[price_df[\"品牌\"].isin(taozhuangurenailist)]\n",
    "taozhuangurenai.to_excel(r'D:\\lion240401\\taozhuangurenai.xlsx')"
   ]
  },
  {
   "cell_type": "code",
   "execution_count": 22,
   "metadata": {},
   "outputs": [],
   "source": [
    "taozhuangTop20.to_excel(r'D:\\lion240401\\taozhuang20.xlsx')"
   ]
  },
  {
   "cell_type": "code",
   "execution_count": 10,
   "metadata": {},
   "outputs": [],
   "source": [
    "price_TOP20df.to_excel(r'D:\\lion240401\\skincareTOP20.xlsx')"
   ]
  },
  {
   "cell_type": "code",
   "execution_count": 10,
   "metadata": {},
   "outputs": [],
   "source": [
    "price_ureru = price_df[price_df[\"品牌\"].isin(['小林制药',\t'昆中药',\t'达芬蓉',\t'韩都',\t'muhi/池田模范堂',\t'东亚制药',\t'中州',\t'花容美',\t'澳琪',\t'彤医',\t'希力',\t'汉立方',\t'王老吉',\t'德济',\t'撒隆巴斯',\t'神田',\t'谢太公',\t'europharm/欧化',\t'普林松',\t'世康特',\t'yeung ng tong/养吾堂'])]\n"
   ]
  },
  {
   "cell_type": "code",
   "execution_count": 14,
   "metadata": {},
   "outputs": [],
   "source": [
    "price_urenai = price_df[price_df[\"品牌\"].isin(['盘龙云海',\t'明康欣',\t'天龙',\t'达林',\t'克逗',\t'安芙平',\t'明必欣',\t'轰克',\t'德众',\t'陈老二',\t'顺峰',\t'邦力',\t'第一三共',\t'东药',\t'goldensun/金日',\t'昆中',\t'cisen/辰欣',\t'慧宝源',\t'华北制药',\t'鑫烨',\t'臣功',\t'良福',\t'エスエス製薬',\t'rohto',\t'白云山',\t'larlly/来利',\t'联邦倍克',\t'同济堂',\t'豆克',\t'育林',\t'恒久远',\t'许诺',\t'集佳',\t'新和成',\t'悦来',\t'维福佳',\t'通用',\t'科瑞',\t'方明',\t'shiseido/资生堂',\t'云植',\t'公益',\t'济仁',\t'通园',\t'立灵奇',\t'东泰',\t'南国',\t'关药师',\t'匹得邦',\t'槐花维肤膏',\t'佑华',\t'益民',\t'振东',\t'鑫煜'])]"
   ]
  },
  {
   "cell_type": "code",
   "execution_count": 11,
   "metadata": {},
   "outputs": [
    {
     "name": "stdout",
     "output_type": "stream",
     "text": [
      "14397773.000000002\n"
     ]
    }
   ],
   "source": [
    "sum_price = np.sum(price_ureru[\"销售额\"])\n",
    "print(sum_price)"
   ]
  },
  {
   "cell_type": "code",
   "execution_count": 13,
   "metadata": {},
   "outputs": [],
   "source": [
    "price_ureru.to_excel(\"D:\\lion240401\\祛痘销售额卖得好.xlsx\")\n"
   ]
  },
  {
   "cell_type": "code",
   "execution_count": 15,
   "metadata": {},
   "outputs": [],
   "source": [
    "price_urenai.to_excel(\"D:\\lion240401\\祛痘销售额卖不好.xlsx\",index = False)"
   ]
  },
  {
   "cell_type": "code",
   "execution_count": 51,
   "metadata": {},
   "outputs": [],
   "source": [
    "price_TOP20df.to_excel(\"D:\\lion240401\\祛痘销售额前20规格.xlsx\")"
   ]
  },
  {
   "cell_type": "code",
   "execution_count": 42,
   "metadata": {},
   "outputs": [],
   "source": [
    "price_df.to_excel(\"D:\\lion240401\\OTC价格带.xlsx\")"
   ]
  },
  {
   "cell_type": "code",
   "execution_count": 39,
   "metadata": {},
   "outputs": [
    {
     "name": "stderr",
     "output_type": "stream",
     "text": [
      "C:\\Users\\Administrator\\AppData\\Local\\Temp\\ipykernel_5076\\3195103441.py:1: FutureWarning: The provided callable <function sum at 0x000001F06C0825C0> is currently using DataFrameGroupBy.sum. In a future version of pandas, the provided callable will be used directly. To keep current behavior pass the string \"sum\" instead.\n",
      "  price_date_pivotTableM = pd.pivot_table(price_df,values=\"销售额\",index=\"月份\",columns=\"价格带\",aggfunc=[np.sum])\n"
     ]
    }
   ],
   "source": [
    "price_date_pivotTableM = pd.pivot_table(price_df,values=\"销售额\",index=\"月份\",columns=\"价格带\",aggfunc=[np.sum])\n",
    "price_date_pivotTableM.to_excel(\"D:\\lion240401\\OTC价格带月度推移.xlsx\")"
   ]
  },
  {
   "cell_type": "code",
   "execution_count": 36,
   "metadata": {},
   "outputs": [
    {
     "name": "stderr",
     "output_type": "stream",
     "text": [
      "C:\\Users\\Administrator\\AppData\\Local\\Temp\\ipykernel_5076\\114356216.py:1: FutureWarning: The provided callable <function sum at 0x000001F06C0825C0> is currently using DataFrameGroupBy.sum. In a future version of pandas, the provided callable will be used directly. To keep current behavior pass the string \"sum\" instead.\n",
      "  price_date_pivotTableY = pd.pivot_table(price_df,values=\"销售额\",index=\"年\",columns=\"价格带\",aggfunc=[np.sum])\n"
     ]
    },
    {
     "data": {
      "text/html": [
       "<div>\n",
       "<style scoped>\n",
       "    .dataframe tbody tr th:only-of-type {\n",
       "        vertical-align: middle;\n",
       "    }\n",
       "\n",
       "    .dataframe tbody tr th {\n",
       "        vertical-align: top;\n",
       "    }\n",
       "\n",
       "    .dataframe thead tr th {\n",
       "        text-align: left;\n",
       "    }\n",
       "\n",
       "    .dataframe thead tr:last-of-type th {\n",
       "        text-align: right;\n",
       "    }\n",
       "</style>\n",
       "<table border=\"1\" class=\"dataframe\">\n",
       "  <thead>\n",
       "    <tr>\n",
       "      <th></th>\n",
       "      <th colspan=\"8\" halign=\"left\">sum</th>\n",
       "    </tr>\n",
       "    <tr>\n",
       "      <th>价格带</th>\n",
       "      <th>0-20</th>\n",
       "      <th>100-120</th>\n",
       "      <th>120-140</th>\n",
       "      <th>140-</th>\n",
       "      <th>20-40</th>\n",
       "      <th>40-60</th>\n",
       "      <th>60-80</th>\n",
       "      <th>80-100</th>\n",
       "    </tr>\n",
       "    <tr>\n",
       "      <th>年</th>\n",
       "      <th></th>\n",
       "      <th></th>\n",
       "      <th></th>\n",
       "      <th></th>\n",
       "      <th></th>\n",
       "      <th></th>\n",
       "      <th></th>\n",
       "      <th></th>\n",
       "    </tr>\n",
       "  </thead>\n",
       "  <tbody>\n",
       "    <tr>\n",
       "      <th>2021</th>\n",
       "      <td>16936686.40</td>\n",
       "      <td>7718033.81</td>\n",
       "      <td>2980218.80</td>\n",
       "      <td>36325846.01</td>\n",
       "      <td>1.913165e+08</td>\n",
       "      <td>1.069851e+08</td>\n",
       "      <td>78815923.47</td>\n",
       "      <td>6895987.80</td>\n",
       "    </tr>\n",
       "    <tr>\n",
       "      <th>2022</th>\n",
       "      <td>18573131.36</td>\n",
       "      <td>33040931.48</td>\n",
       "      <td>8581505.28</td>\n",
       "      <td>27320117.80</td>\n",
       "      <td>8.424000e+07</td>\n",
       "      <td>2.364073e+08</td>\n",
       "      <td>71190557.11</td>\n",
       "      <td>39132487.59</td>\n",
       "    </tr>\n",
       "    <tr>\n",
       "      <th>2023</th>\n",
       "      <td>10478079.26</td>\n",
       "      <td>11475796.83</td>\n",
       "      <td>7864349.74</td>\n",
       "      <td>15592791.67</td>\n",
       "      <td>1.159500e+08</td>\n",
       "      <td>7.887464e+07</td>\n",
       "      <td>53823292.01</td>\n",
       "      <td>32038350.81</td>\n",
       "    </tr>\n",
       "  </tbody>\n",
       "</table>\n",
       "</div>"
      ],
      "text/plain": [
       "              sum                                                      \\\n",
       "价格带          0-20      100-120     120-140         140-         20-40   \n",
       "年                                                                       \n",
       "2021  16936686.40   7718033.81  2980218.80  36325846.01  1.913165e+08   \n",
       "2022  18573131.36  33040931.48  8581505.28  27320117.80  8.424000e+07   \n",
       "2023  10478079.26  11475796.83  7864349.74  15592791.67  1.159500e+08   \n",
       "\n",
       "                                              \n",
       "价格带          40-60        60-80       80-100  \n",
       "年                                             \n",
       "2021  1.069851e+08  78815923.47   6895987.80  \n",
       "2022  2.364073e+08  71190557.11  39132487.59  \n",
       "2023  7.887464e+07  53823292.01  32038350.81  "
      ]
     },
     "execution_count": 36,
     "metadata": {},
     "output_type": "execute_result"
    }
   ],
   "source": [
    "price_date_pivotTableY = pd.pivot_table(price_df,values=\"销售额\",index=\"年\",columns=\"价格带\",aggfunc=[np.sum])\n",
    "price_date_pivotTableY.head()"
   ]
  },
  {
   "cell_type": "code",
   "execution_count": 37,
   "metadata": {},
   "outputs": [
    {
     "data": {
      "text/plain": [
       "<function matplotlib.pyplot.show(close=None, block=None)>"
      ]
     },
     "execution_count": 37,
     "metadata": {},
     "output_type": "execute_result"
    },
    {
     "data": {
      "image/png": "[encoded data removed]",
      "text/plain": [
       "<Figure size 640x480 with 1 Axes>"
      ]
     },
     "metadata": {},
     "output_type": "display_data"
    }
   ],
   "source": [
    "plt.rcParams['font.family'] = ['SimHei']\n",
    "plt.title(\"销售额推移\")\n",
    "plt.xlabel(\"年\")\n",
    "plt.ylabel(\"销售额\")\n",
    "for layer in price_date_pivotTableY[\"sum\"].columns.tolist():    \n",
    "    plt.plot(price_date_pivotTableY[\"sum\"].index,price_date_pivotTableY[\"sum\"][layer])\n",
    "plt.legend(price_date_pivotTableY[\"sum\"].columns.tolist())\n",
    "plt.show"
   ]
  }
 ],
 "metadata": {
  "kernelspec": {
   "display_name": "base",
   "language": "python",
   "name": "python3"
  },
  "language_info": {
   "codemirror_mode": {
    "name": "ipython",
    "version": 3
   },
   "file_extension": ".py",
   "mimetype": "text/x-python",
   "name": "python",
   "nbconvert_exporter": "python",
   "pygments_lexer": "ipython3",
   "version": "3.11.7"
  }
 },
 "nbformat": 4,
 "nbformat_minor": 2
}
