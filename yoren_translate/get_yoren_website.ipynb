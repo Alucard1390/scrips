{
 "cells": [
  {
   "cell_type": "code",
   "execution_count": 1,
   "metadata": {},
   "outputs": [],
   "source": [
    "import requests\n",
    "from bs4 import BeautifulSoup"
   ]
  },
  {
   "cell_type": "code",
   "execution_count": 2,
   "metadata": {},
   "outputs": [],
   "source": [
    "response = requests.get(\"https://prtimes.jp/main/html/rd/p/000000007.000132049.html\").text"
   ]
  },
  {
   "cell_type": "code",
   "execution_count": 3,
   "metadata": {},
   "outputs": [],
   "source": [
    "soup = BeautifulSoup(response,\"lxml\")"
   ]
  },
  {
   "cell_type": "code",
   "execution_count": 4,
   "metadata": {},
   "outputs": [
    {
     "name": "stdout",
     "output_type": "stream",
     "text": [
      "PR TIMESのご利用について\n",
      "資料をダウンロード\n",
      "Yoren\n",
      "\n",
      "\n",
      "日本発スタートアップで中国を拠点に、戦略コンサルティング事業、データに基づくアナリティクス事業、CRMシステムの開発・運営事業、ECサービスの運営事業などを提供し、合計5,000万人以上の会員を管理するYoren（持株会社名：New Designed by Tokyo Ltd.、事業拠点：上海、重慶、武漢、及び東京）は、主にプレシード・シード期を対象にし、日本からグローバル市場を目指すスタートアップを支援するベンチャーキャピタルであるAsu Capital Partners（本社：東京、代表取締役：夏目英男、李路成、以下ACP）が設立した「アス・キャピタル・パートナーズ１号投資事業有限責任組合」（以下ACP１号ファンド）への出資を実施したことをお知らせ致します。\n",
      "\n",
      "ACPは、日本政府による「スタートアップ５カ年計画」が掲げられているものの、依然としてグローバル市場にチャレンジする日本発スタートアップが少ないことを課題とし、シード期からグローバルマインドセットを持ち海外市場に照準を置くスタートアップの支援と、日本発グローバルスタートアップの輩出を目指しています。\n",
      "\n",
      "Yorenは、「文化と文化をつなぎ、人と人がわかりあえる世界をつくる」をビジョンに掲げ、創業当初から中国市場での事業展開を志向してきました。その自らの経験を踏まえ、多文化バックグラウンドを持ち”Japan to Global”を目指す起業家を支援するというACPの投資戦略は、Yorenと非常に親和性が高いと判断しております。\n",
      "\n",
      "また、Yorenは、主にリテールやIPといった中国消費市場のデジタル領域において、市場参入の戦略立案から実際の事業運営に至るまで数多くの支援を行ってきた実績を活かし、事業パートナーとしてACP1号ファンド投資先企業の中国市場展開をサポートしていく所存です。このパートナーシップを通じ、ACPの投資先企業および日本発スタートアップの海外展開の成功に貢献していきたいと考えております。　\n",
      "\n",
      "\n",
      "＜ACP概要＞\n",
      "会社名：Asu Capital Partners\n",
      "事業内容：”Japan to Global”を目指す、プレシードからシード期のスタートアップへの投資\n",
      "本社所在地：東京都新宿区\n",
      "代表者：夏目英男、李路成\n",
      "URL：https://asu.vc\n",
      "\n",
      "＜会社概要＞\n",
      "会社名：游仁信息科技（上海）有限公司\n",
      "代表者：金田修（代表取締役CEO）\n",
      "事業本社所在地：上海市徐滙区中山西路1600号宏滙国際広場A座20F\n",
      "日本支社所在地：東京都港区虎ノ門4-1-28虎ノ門タワーズオフィス19F\n",
      "社員数：183名（2023年9月末現在）\n",
      "URL：https://yo-ren.com/#/\n",
      "事業内容：データに基づくアナリティクス事業、CRMシステムの開発・運営事業、ECサービスの運営事業\n",
      "\n",
      "＜本件に関するお問い合わせ＞\n",
      "会社名：游仁信息科技（上海）有限公司\n",
      "事業本社所在地：上海市徐滙区中山西路1600号宏滙国際広場A座20F\n",
      "日本支社所在地：東京都港区虎ノ門4-1-28虎ノ門タワーズオフィス19F\n",
      "Email：pr@yo-ren.com\n",
      "すべての画像\n",
      "このプレスリリース内で使われている画像ファイルがダウンロードできます\n",
      "3フォロワー\n",
      "Copyright © PR TIMES Corporation All Rights Reserved.\n"
     ]
    }
   ],
   "source": [
    "for h in soup.find_all(\"p\"):\n",
    "    print(h.get_text())"
   ]
  }
 ],
 "metadata": {
  "kernelspec": {
   "display_name": "base",
   "language": "python",
   "name": "python3"
  },
  "language_info": {
   "codemirror_mode": {
    "name": "ipython",
    "version": 3
   },
   "file_extension": ".py",
   "mimetype": "text/x-python",
   "name": "python",
   "nbconvert_exporter": "python",
   "pygments_lexer": "ipython3",
   "version": "3.11.7"
  }
 },
 "nbformat": 4,
 "nbformat_minor": 2
}
