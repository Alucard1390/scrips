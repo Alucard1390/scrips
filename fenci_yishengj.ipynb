{
 "cells": [
  {
   "cell_type": "code",
   "execution_count": 1,
   "metadata": {},
   "outputs": [],
   "source": [
    "import pandas as pd\n",
    "import numpy as np\n",
    "import jieba"
   ]
  },
  {
   "cell_type": "code",
   "execution_count": 2,
   "metadata": {},
   "outputs": [],
   "source": [
    "df = pd.read_excel(r\"C:\\Users\\Administrator\\Downloads\\tmallhk_速溶咖啡-咖啡豆-粉_more_item_2022-01~2024-06_CNY_1721353363_bz0w12qyc9.xlsx\")"
   ]
  },
  {
   "cell_type": "code",
   "execution_count": 3,
   "metadata": {},
   "outputs": [],
   "source": [
    "df[\"年\"] = df[\"时间\"].apply(lambda x:str(x)[:4])"
   ]
  },
  {
   "cell_type": "code",
   "execution_count": 4,
   "metadata": {},
   "outputs": [
    {
     "name": "stderr",
     "output_type": "stream",
     "text": [
      "Building prefix dict from the default dictionary ...\n",
      "Loading model from cache C:\\Users\\ADMINI~1\\AppData\\Local\\Temp\\jieba.cache\n",
      "Loading model cost 0.936 seconds.\n",
      "Prefix dict has been built successfully.\n"
     ]
    }
   ],
   "source": [
    "df[\"keyword\"] = df[\"商品标题\"].apply(lambda x:list(jieba.cut(x)))"
   ]
  },
  {
   "cell_type": "code",
   "execution_count": 5,
   "metadata": {},
   "outputs": [],
   "source": [
    "sales_dict = {\"2022\":{},\"2023\":{},\"2024\":{}}\n",
    "for i in range(1,len(df)):\n",
    "    fenci_year = str(df.iloc[i,17])\n",
    "    fenci_list = df.iloc[i,18]\n",
    "    sales = df.iloc[i,3]\n",
    "    for j in fenci_list:\n",
    "        if j in sales_dict[fenci_year].keys():\n",
    "            sales_dict[fenci_year][j]+=sales\n",
    "        else:\n",
    "            sales_dict[fenci_year][j]=sales"
   ]
  },
  {
   "cell_type": "code",
   "execution_count": 6,
   "metadata": {},
   "outputs": [],
   "source": [
    "df_sales = pd.DataFrame(sales_dict)"
   ]
  },
  {
   "cell_type": "code",
   "execution_count": 7,
   "metadata": {},
   "outputs": [],
   "source": [
    "df_sales.to_excel(\"D:\\新机会\\CCOFFEE\\跨境咖啡关键词.xlsx\")"
   ]
  },
  {
   "cell_type": "code",
   "execution_count": 18,
   "metadata": {},
   "outputs": [],
   "source": [
    "count_dict = {\"2022\":{},\"2023\":{}}\n",
    "for i in range(1,len(df)):\n",
    "    fenci_year = str(df.iloc[i,16])\n",
    "    fenci_list = df.iloc[i,17]\n",
    "    sales_num = df.iloc[i,4]\n",
    "    for j in fenci_list:\n",
    "        if j in count_dict[fenci_year].keys():\n",
    "            count_dict[fenci_year][j]+=sales_num\n",
    "        else:\n",
    "            count_dict[fenci_year][j]=sales_num"
   ]
  },
  {
   "cell_type": "code",
   "execution_count": 19,
   "metadata": {},
   "outputs": [],
   "source": [
    "df_count = pd.DataFrame(count_dict)"
   ]
  },
  {
   "cell_type": "code",
   "execution_count": 20,
   "metadata": {},
   "outputs": [],
   "source": [
    "df_count.to_excel(\"D:\\新机会\\lactoflora\\海外女性益生菌关键词数量.xlsx\")"
   ]
  }
 ],
 "metadata": {
  "kernelspec": {
   "display_name": "base",
   "language": "python",
   "name": "python3"
  },
  "language_info": {
   "codemirror_mode": {
    "name": "ipython",
    "version": 3
   },
   "file_extension": ".py",
   "mimetype": "text/x-python",
   "name": "python",
   "nbconvert_exporter": "python",
   "pygments_lexer": "ipython3",
   "version": "3.11.7"
  }
 },
 "nbformat": 4,
 "nbformat_minor": 2
}
