{
 "cells": [
  {
   "cell_type": "code",
   "execution_count": 2,
   "metadata": {},
   "outputs": [],
   "source": [
    "import pandas as pd\n",
    "import numpy as np\n",
    "import jieba"
   ]
  },
  {
   "cell_type": "code",
   "execution_count": 3,
   "metadata": {},
   "outputs": [],
   "source": [
    "df = pd.read_excel(r\"C:\\Users\\Administrator\\Downloads\\tmall_速溶咖啡-咖啡豆-粉_more_item_2022-01~2024-06_CNY_1721289547_yah9x06b1s.xlsx\")"
   ]
  },
  {
   "cell_type": "code",
   "execution_count": 4,
   "metadata": {},
   "outputs": [],
   "source": [
    "df[\"年\"] = df[\"时间\"].apply(lambda x:str(x)[:4])"
   ]
  },
  {
   "cell_type": "code",
   "execution_count": 5,
   "metadata": {},
   "outputs": [
    {
     "name": "stderr",
     "output_type": "stream",
     "text": [
      "Building prefix dict from the default dictionary ...\n",
      "Loading model from cache C:\\Users\\ADMINI~1\\AppData\\Local\\Temp\\jieba.cache\n",
      "Loading model cost 1.098 seconds.\n",
      "Prefix dict has been built successfully.\n"
     ]
    }
   ],
   "source": [
    "df[\"keyword\"] = df[\"商品标题\"].apply(lambda x:list(jieba.cut(x)))"
   ]
  },
  {
   "cell_type": "code",
   "execution_count": 7,
   "metadata": {},
   "outputs": [
    {
     "name": "stdout",
     "output_type": "stream",
     "text": [
      "<class 'pandas.core.frame.DataFrame'>\n",
      "RangeIndex: 30000 entries, 0 to 29999\n",
      "Data columns (total 19 columns):\n",
      " #   Column   Non-Null Count  Dtype  \n",
      "---  ------   --------------  -----  \n",
      " 0   时间       30000 non-null  object \n",
      " 1   商品标题     30000 non-null  object \n",
      " 2   商品链接     30000 non-null  object \n",
      " 3   销售额      30000 non-null  float64\n",
      " 4   销量       30000 non-null  int64  \n",
      " 5   品牌       29951 non-null  object \n",
      " 6   店铺名      30000 non-null  object \n",
      " 7   1级类目名    30000 non-null  object \n",
      " 8   2级类目名    30000 non-null  object \n",
      " 9   3级类目名    30000 non-null  object \n",
      " 10  4级类目名    8188 non-null   object \n",
      " 11  叶子类目名    30000 non-null  object \n",
      " 12  价格       30000 non-null  float64\n",
      " 13  上架时间     30000 non-null  object \n",
      " 14  销售额同比    30000 non-null  object \n",
      " 15  销售额环比    30000 non-null  object \n",
      " 16  sku数     30000 non-null  int64  \n",
      " 17  年        30000 non-null  object \n",
      " 18  keyword  30000 non-null  object \n",
      "dtypes: float64(2), int64(2), object(15)\n",
      "memory usage: 4.3+ MB\n"
     ]
    }
   ],
   "source": [
    "df.info()"
   ]
  },
  {
   "cell_type": "code",
   "execution_count": 8,
   "metadata": {},
   "outputs": [],
   "source": [
    "sales_dict = {\"2022\":{},\"2023\":{},\"2024\":{}}\n",
    "for i in range(1,len(df)):\n",
    "    fenci_year = str(df.iloc[i,17])\n",
    "    fenci_list = df.iloc[i,18]\n",
    "    sales = df.iloc[i,3]\n",
    "    for j in fenci_list:\n",
    "        if j in sales_dict[fenci_year].keys():\n",
    "            sales_dict[fenci_year][j]+=sales\n",
    "        else:\n",
    "            sales_dict[fenci_year][j]=sales"
   ]
  },
  {
   "cell_type": "code",
   "execution_count": 9,
   "metadata": {},
   "outputs": [],
   "source": [
    "df_sales = pd.DataFrame(sales_dict)"
   ]
  },
  {
   "cell_type": "code",
   "execution_count": 10,
   "metadata": {},
   "outputs": [],
   "source": [
    "df_sales.to_excel(\"D:\\新机会\\CCOFFEE\\咖啡关键词.xlsx\")"
   ]
  },
  {
   "cell_type": "code",
   "execution_count": 18,
   "metadata": {},
   "outputs": [],
   "source": [
    "count_dict = {\"2022\":{},\"2023\":{}}\n",
    "for i in range(1,len(df)):\n",
    "    fenci_year = str(df.iloc[i,16])\n",
    "    fenci_list = df.iloc[i,17]\n",
    "    sales_num = df.iloc[i,4]\n",
    "    for j in fenci_list:\n",
    "        if j in count_dict[fenci_year].keys():\n",
    "            count_dict[fenci_year][j]+=sales_num\n",
    "        else:\n",
    "            count_dict[fenci_year][j]=sales_num"
   ]
  },
  {
   "cell_type": "code",
   "execution_count": 19,
   "metadata": {},
   "outputs": [],
   "source": [
    "df_count = pd.DataFrame(count_dict)"
   ]
  },
  {
   "cell_type": "code",
   "execution_count": 20,
   "metadata": {},
   "outputs": [],
   "source": [
    "df_count.to_excel(\"D:\\新机会\\lactoflora\\海外女性益生菌关键词数量.xlsx\")"
   ]
  }
 ],
 "metadata": {
  "kernelspec": {
   "display_name": "base",
   "language": "python",
   "name": "python3"
  },
  "language_info": {
   "codemirror_mode": {
    "name": "ipython",
    "version": 3
   },
   "file_extension": ".py",
   "mimetype": "text/x-python",
   "name": "python",
   "nbconvert_exporter": "python",
   "pygments_lexer": "ipython3",
   "version": "3.11.7"
  }
 },
 "nbformat": 4,
 "nbformat_minor": 2
}
