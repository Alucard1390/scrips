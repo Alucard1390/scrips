{
 "cells": [
  {
   "cell_type": "code",
   "execution_count": 1,
   "metadata": {},
   "outputs": [],
   "source": [
    "import pandas as pd\n",
    "import numpy as np\n",
    "import jieba"
   ]
  },
  {
   "cell_type": "code",
   "execution_count": 2,
   "metadata": {},
   "outputs": [],
   "source": [
    "df = pd.read_excel(r\"C:\\Users\\Administrator\\Downloads\\all_空气循环扇_item_2022-01~2023-12_CNY_1721888960_otbp0jad.xlsx\")"
   ]
  },
  {
   "cell_type": "code",
   "execution_count": 3,
   "metadata": {},
   "outputs": [],
   "source": [
    "df[\"年\"] = df[\"时间\"].apply(lambda x:str(x)[:4])"
   ]
  },
  {
   "cell_type": "code",
   "execution_count": 4,
   "metadata": {},
   "outputs": [
    {
     "name": "stderr",
     "output_type": "stream",
     "text": [
      "Building prefix dict from the default dictionary ...\n",
      "Loading model from cache C:\\Users\\ADMINI~1\\AppData\\Local\\Temp\\jieba.cache\n",
      "Loading model cost 1.127 seconds.\n",
      "Prefix dict has been built successfully.\n"
     ]
    }
   ],
   "source": [
    "df[\"keyword\"] = df[\"商品标题\"].apply(lambda x:list(jieba.cut(x)))"
   ]
  },
  {
   "cell_type": "code",
   "execution_count": 39,
   "metadata": {},
   "outputs": [],
   "source": []
  },
  {
   "cell_type": "code",
   "execution_count": 5,
   "metadata": {},
   "outputs": [
    {
     "name": "stdout",
     "output_type": "stream",
     "text": [
      "<class 'pandas.core.frame.DataFrame'>\n",
      "RangeIndex: 23054 entries, 0 to 23053\n",
      "Data columns (total 47 columns):\n",
      " #   Column    Non-Null Count  Dtype  \n",
      "---  ------    --------------  -----  \n",
      " 0   时间        23054 non-null  object \n",
      " 1   商品标题      23054 non-null  object \n",
      " 2   商品链接      23054 non-null  object \n",
      " 3   销售额       23054 non-null  float64\n",
      " 4   销量        23054 non-null  int64  \n",
      " 5   品牌        21842 non-null  object \n",
      " 6   店铺名       23038 non-null  object \n",
      " 7   1级类目名     23054 non-null  object \n",
      " 8   2级类目名     23054 non-null  object \n",
      " 9   3级类目名     0 non-null      float64\n",
      " 10  4级类目名     0 non-null      float64\n",
      " 11  叶子类目名     23054 non-null  object \n",
      " 12  价格        23054 non-null  float64\n",
      " 13  上架时间      23053 non-null  object \n",
      " 14  销售额同比     23054 non-null  object \n",
      " 15  销售额环比     23054 non-null  object \n",
      " 16  sku数      23054 non-null  int64  \n",
      " 17  功能(清洗)    21289 non-null  object \n",
      " 18  颜色(清洗)    11445 non-null  object \n",
      " 19  材质(清洗)    7855 non-null   object \n",
      " 20  包装数(清洗)   23054 non-null  object \n",
      " 21  适用人群(清洗)  1178 non-null   object \n",
      " 22  省         10370 non-null  object \n",
      " 23  市         10370 non-null  object \n",
      " 24  区县        9700 non-null   object \n",
      " 25  颜色分类      21142 non-null  object \n",
      " 26  控制方式      20802 non-null  object \n",
      " 27  附加功能      20794 non-null  object \n",
      " 28  型号        20431 non-null  object \n",
      " 29  品牌(属性)    20582 non-null  object \n",
      " 30  保修期       20799 non-null  object \n",
      " 31  电机类型      20727 non-null  object \n",
      " 32  功率        20753 non-null  object \n",
      " 33  生产企业      20672 non-null  object \n",
      " 34  尺寸        20726 non-null  object \n",
      " 35  是否变频      20668 non-null  object \n",
      " 36  适用面积      20700 non-null  object \n",
      " 37  噪声        20678 non-null  object \n",
      " 38  是否支持睡眠模式  20642 non-null  object \n",
      " 39  智能类型      20708 non-null  object \n",
      " 40  净重        20711 non-null  object \n",
      " 41  产地        19285 non-null  object \n",
      " 42  电压        19494 non-null  object \n",
      " 43  循环扇类型     19359 non-null  object \n",
      " 44  3C证书编号    15611 non-null  float64\n",
      " 45  年         23054 non-null  object \n",
      " 46  keyword   23054 non-null  object \n",
      "dtypes: float64(5), int64(2), object(40)\n",
      "memory usage: 8.3+ MB\n"
     ]
    }
   ],
   "source": [
    "df.info()"
   ]
  },
  {
   "cell_type": "code",
   "execution_count": 6,
   "metadata": {},
   "outputs": [],
   "source": [
    "sales_dict = {\"2022\":{},\"2023\":{}}\n",
    "for i in range(1,len(df)):\n",
    "    fenci_year = str(df.iloc[i,45])\n",
    "    fenci_list = df.iloc[i,46]\n",
    "    sales = df.iloc[i,3]\n",
    "    for j in fenci_list:\n",
    "        if j in sales_dict[fenci_year].keys():\n",
    "            sales_dict[fenci_year][j]+=sales\n",
    "        else:\n",
    "            sales_dict[fenci_year][j]=sales"
   ]
  },
  {
   "cell_type": "code",
   "execution_count": 7,
   "metadata": {},
   "outputs": [],
   "source": [
    "df_sales = pd.DataFrame(sales_dict)"
   ]
  },
  {
   "cell_type": "code",
   "execution_count": 8,
   "metadata": {},
   "outputs": [],
   "source": [
    "df_sales.to_excel(\"D:\\新机会\\iris\\电器_空气循环扇关键词.xlsx\")"
   ]
  },
  {
   "cell_type": "code",
   "execution_count": 18,
   "metadata": {},
   "outputs": [],
   "source": [
    "count_dict = {\"2022\":{},\"2023\":{}}\n",
    "for i in range(1,len(df)):\n",
    "    fenci_year = str(df.iloc[i,16])\n",
    "    fenci_list = df.iloc[i,17]\n",
    "    sales_num = df.iloc[i,4]\n",
    "    for j in fenci_list:\n",
    "        if j in count_dict[fenci_year].keys():\n",
    "            count_dict[fenci_year][j]+=sales_num\n",
    "        else:\n",
    "            count_dict[fenci_year][j]=sales_num"
   ]
  },
  {
   "cell_type": "code",
   "execution_count": 19,
   "metadata": {},
   "outputs": [],
   "source": [
    "df_count = pd.DataFrame(count_dict)"
   ]
  },
  {
   "cell_type": "code",
   "execution_count": 20,
   "metadata": {},
   "outputs": [],
   "source": [
    "df_count.to_excel(\"D:\\新机会\\lactoflora\\海外女性益生菌关键词数量.xlsx\")"
   ]
  }
 ],
 "metadata": {
  "kernelspec": {
   "display_name": "base",
   "language": "python",
   "name": "python3"
  },
  "language_info": {
   "codemirror_mode": {
    "name": "ipython",
    "version": 3
   },
   "file_extension": ".py",
   "mimetype": "text/x-python",
   "name": "python",
   "nbconvert_exporter": "python",
   "pygments_lexer": "ipython3",
   "version": "3.11.7"
  }
 },
 "nbformat": 4,
 "nbformat_minor": 2
}
