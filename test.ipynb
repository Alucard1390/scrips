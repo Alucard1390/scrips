{
 "cells": [
  {
   "cell_type": "code",
   "execution_count": 1,
   "metadata": {},
   "outputs": [],
   "source": [
    "import pandas as pd\n",
    "import numpy as np\n",
    "import re\n",
    "import datetime"
   ]
  },
  {
   "cell_type": "code",
   "execution_count": null,
   "metadata": {},
   "outputs": [],
   "source": [
    "weekday = datetime.datetime.now().weekday()\n",
    "if weekday == 0:\n",
    "    print([datetime.datetime.strftime(datetime.datetime.now()-datetime.timedelta(weekday+i),\"%Y-%m-%d\") for i in range(1,4)])\n",
    "else:\n",
    "    print([datetime.datetime.strftime(datetime.datetime.now()-datetime.timedelta(1),\"%Y-%m-%d\")])"
   ]
  },
  {
   "cell_type": "code",
   "execution_count": 11,
   "metadata": {},
   "outputs": [],
   "source": [
    "df = pd.read_excel(r\"C:\\Users\\Administrator\\Downloads\\all_餐饮具_item_2021-01~2021-12_CNY_1712741763_5xmi2nv9ht.xlsx\")"
   ]
  },
  {
   "cell_type": "code",
   "execution_count": 17,
   "metadata": {},
   "outputs": [],
   "source": [
    "def get_firstnum_from_string(string_to_clean):\n",
    "    pattern = r\"\\d+(.\\d+)?\"\n",
    "    matcher = re.match(pattern=pattern,string=string_to_clean)\n",
    "    if matcher:\n",
    "        return matcher.group()\n",
    "    else:\n",
    "        return string_to_clean"
   ]
  },
  {
   "cell_type": "code",
   "execution_count": 18,
   "metadata": {},
   "outputs": [],
   "source": [
    "baowenlist = [\"12小时(含)-24小时(不含)\",\n",
    "\"6.5小时(含)-12小时(不含)\",\n",
    "\"12小时-24小时\"\n",
    "]"
   ]
  },
  {
   "cell_type": "code",
   "execution_count": null,
   "metadata": {},
   "outputs": [],
   "source": [
    "baowencleanlist =[]\n",
    "for x in baowenlist:\n",
    "    baowencleanlist.append(get_firstnum_from_string(x))\n",
    "\n",
    "print(baowencleanlist)"
   ]
  },
  {
   "cell_type": "code",
   "execution_count": null,
   "metadata": {},
   "outputs": [],
   "source": [
    "website_string = \"https://sycm.taobao.com/cc/item_archives?activeKey=sale&dateRange=2024-09-23%7C2024-09-23&dateType=day&itemId=730603253025&spm=a21ag.23983127.0.4.6a2750a522JDSp\""
   ]
  },
  {
   "cell_type": "code",
   "execution_count": null,
   "metadata": {},
   "outputs": [],
   "source": [
    "print(re.findall(\"\\d{4}-\\d{2}-\\d{2}\",website_string))"
   ]
  }
 ],
 "metadata": {
  "kernelspec": {
   "display_name": "base",
   "language": "python",
   "name": "python3"
  },
  "language_info": {
   "codemirror_mode": {
    "name": "ipython",
    "version": 3
   },
   "file_extension": ".py",
   "mimetype": "text/x-python",
   "name": "python",
   "nbconvert_exporter": "python",
   "pygments_lexer": "ipython3",
   "version": "3.11.7"
  }
 },
 "nbformat": 4,
 "nbformat_minor": 2
}
