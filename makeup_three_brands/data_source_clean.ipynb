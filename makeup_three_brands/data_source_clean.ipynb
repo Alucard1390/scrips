{
 "cells": [
  {
   "cell_type": "code",
   "execution_count": 1,
   "metadata": {},
   "outputs": [],
   "source": [
    "import os\n",
    "import win32com.client as win32\n",
    "\n",
    "def save_as_xlsx(fname):\n",
    "    excel = win32.DispatchEx('Excel.Application')\n",
    "    wb = excel.Workbooks.Open(fname)\n",
    "    wb.SaveAs(fname+\"x\", FileFormat = 51)    #FileFormat = 51 is for .xlsx extension\n",
    "    wb.Close()                               #FileFormat = 56 is for .xls extension\n",
    "    excel.Application.Quit()\n",
    "\n"
   ]
  },
  {
   "cell_type": "code",
   "execution_count": 2,
   "metadata": {},
   "outputs": [],
   "source": [
    "\n",
    "\n",
    "if __name__ == \"__main__\":\n",
    "    for folder_rout in [\"D:\\\\新机会\\\\KOSE\\\\sycm\\\\traffic\"]:\n",
    "        package = folder_rout\n",
    "        files = os.listdir(package)\n",
    "        for fname in files:\n",
    "            if fname.endswith(\".xls\"):\n",
    "                save_as_xlsx(package + \"\\\\\"+fname)\n",
    "            else:\n",
    "                continue\n",
    "        for fname in os.listdir(package):\n",
    "            if fname.endswith(\".xls\"):\n",
    "                os.remove(package + \"\\\\\"+fname)\n",
    "            else:\n",
    "                continue\n"
   ]
  }
 ],
 "metadata": {
  "kernelspec": {
   "display_name": "base",
   "language": "python",
   "name": "python3"
  },
  "language_info": {
   "codemirror_mode": {
    "name": "ipython",
    "version": 3
   },
   "file_extension": ".py",
   "mimetype": "text/x-python",
   "name": "python",
   "nbconvert_exporter": "python",
   "pygments_lexer": "ipython3",
   "version": "3.11.7"
  }
 },
 "nbformat": 4,
 "nbformat_minor": 2
}
