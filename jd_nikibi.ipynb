{
 "cells": [
  {
   "cell_type": "code",
   "execution_count": 1,
   "metadata": {},
   "outputs": [],
   "source": [
    "import pandas as pd\n",
    "import numpy as np\n",
    "from ana_tool import category_ana as ca"
   ]
  },
  {
   "cell_type": "code",
   "execution_count": 2,
   "metadata": {},
   "outputs": [],
   "source": [
    "df = pd.read_excel(r\"C:\\Users\\Administrator\\Downloads\\京东_祛痘.xlsx\",sheet_name=\"Sheet1\")"
   ]
  },
  {
   "cell_type": "code",
   "execution_count": 3,
   "metadata": {},
   "outputs": [],
   "source": [
    "df_new = ca.init_category_df(gap_num=10,wps_df=df,obj_to_date=\"时间\",top_limit=170)"
   ]
  },
  {
   "cell_type": "code",
   "execution_count": 4,
   "metadata": {},
   "outputs": [
    {
     "name": "stdout",
     "output_type": "stream",
     "text": [
      "<class 'pandas.core.frame.DataFrame'>\n",
      "RangeIndex: 35344 entries, 0 to 35343\n",
      "Data columns (total 37 columns):\n",
      " #   Column       Non-Null Count  Dtype         \n",
      "---  ------       --------------  -----         \n",
      " 0   时间           35344 non-null  object        \n",
      " 1   商品标题         35344 non-null  object        \n",
      " 2   商品链接         35344 non-null  object        \n",
      " 3   销售额          35344 non-null  float64       \n",
      " 4   销量           35344 non-null  int64         \n",
      " 5   品牌           34380 non-null  object        \n",
      " 6   店铺名          35344 non-null  object        \n",
      " 7   1级类目名        35344 non-null  object        \n",
      " 8   2级类目名        35344 non-null  object        \n",
      " 9   3级类目名        35344 non-null  object        \n",
      " 10  4级类目名        26421 non-null  object        \n",
      " 11  叶子类目名        35344 non-null  object        \n",
      " 12  价格           35344 non-null  float64       \n",
      " 13  上架时间         35343 non-null  object        \n",
      " 14  销售额同比        35344 non-null  object        \n",
      " 15  销售额环比        35344 non-null  object        \n",
      " 16  sku名称        31833 non-null  object        \n",
      " 17  商品名称         35066 non-null  object        \n",
      " 18  商品编号         35066 non-null  float64       \n",
      " 19  商品毛重         35066 non-null  object        \n",
      " 20  包装清单         35045 non-null  object        \n",
      " 21  主体|生产企业      33484 non-null  object        \n",
      " 22  主体|有效期       31324 non-null  object        \n",
      " 23  主体|产品规格      33478 non-null  object        \n",
      " 24  主体|适用症/功能主治  34312 non-null  object        \n",
      " 25  主体|储存条件      30685 non-null  object        \n",
      " 26  使用方法         33828 non-null  object        \n",
      " 27  适用人群         31318 non-null  object        \n",
      " 28  主体|用法用量      22114 non-null  object        \n",
      " 29  主体|剂型        31404 non-null  object        \n",
      " 30  主体|药品分类      31966 non-null  object        \n",
      " 31  主体|药品通用名     31862 non-null  object        \n",
      " 32  主体|批准文号      31608 non-null  object        \n",
      " 33  商品产地         15460 non-null  object        \n",
      " 34  月            35344 non-null  datetime64[ns]\n",
      " 35  年            35344 non-null  int32         \n",
      " 36  价格带          34871 non-null  category      \n",
      "dtypes: category(1), datetime64[ns](1), float64(3), int32(1), int64(1), object(30)\n",
      "memory usage: 9.6+ MB\n"
     ]
    }
   ],
   "source": [
    "df_new.info()"
   ]
  },
  {
   "cell_type": "code",
   "execution_count": 5,
   "metadata": {},
   "outputs": [],
   "source": [
    "ca.df_to_sql(df_to_dwh=df_new,dwh_list=\"jd_nikibi\")"
   ]
  }
 ],
 "metadata": {
  "kernelspec": {
   "display_name": "base",
   "language": "python",
   "name": "python3"
  },
  "language_info": {
   "codemirror_mode": {
    "name": "ipython",
    "version": 3
   },
   "file_extension": ".py",
   "mimetype": "text/x-python",
   "name": "python",
   "nbconvert_exporter": "python",
   "pygments_lexer": "ipython3",
   "version": "3.11.7"
  }
 },
 "nbformat": 4,
 "nbformat_minor": 2
}
