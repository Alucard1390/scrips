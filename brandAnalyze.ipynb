{
 "cells": [
  {
   "cell_type": "code",
   "execution_count": 1,
   "metadata": {},
   "outputs": [],
   "source": [
    "import pandas as pd\n",
    "import numpy as np\n",
    "from openpyxl import load_workbook"
   ]
  },
  {
   "cell_type": "code",
   "execution_count": 2,
   "metadata": {},
   "outputs": [],
   "source": [
    "brand_df = pd.read_excel(r\"D:\\kinto旗舰店开设\\all_杯子-水杯-水壶_brand_2021-01~2023-12_CNY_1712453706_ti0zhbf4aw.xlsx\",sheet_name=\"Sheet1\")"
   ]
  },
  {
   "cell_type": "code",
   "execution_count": 3,
   "metadata": {},
   "outputs": [],
   "source": [
    "brand_df[\"月份\"]=pd.to_datetime(brand_df[\"月份\"],format=\"%Y-%m-%d\")"
   ]
  },
  {
   "cell_type": "code",
   "execution_count": 4,
   "metadata": {},
   "outputs": [],
   "source": [
    "brand_df[\"年\"]=brand_df[\"月份\"].dt.year"
   ]
  },
  {
   "cell_type": "code",
   "execution_count": 5,
   "metadata": {},
   "outputs": [
    {
     "name": "stderr",
     "output_type": "stream",
     "text": [
      "C:\\Users\\Administrator\\AppData\\Local\\Temp\\ipykernel_16968\\1313694695.py:2: FutureWarning: The provided callable <function sum at 0x0000020DF10CE660> is currently using DataFrameGroupBy.sum. In a future version of pandas, the provided callable will be used directly. To keep current behavior pass the string \"sum\" instead.\n",
      "  brandSale = pd.pivot_table(brand_df,index=[\"品牌名称\"],values=[\"销售额\"],columns=[\"年\"],aggfunc=[np.sum])\n"
     ]
    }
   ],
   "source": [
    "#以年和销售额聚合运算\n",
    "brandSale = pd.pivot_table(brand_df,index=[\"品牌名称\"],values=[\"销售额\"],columns=[\"年\"],aggfunc=[np.sum])"
   ]
  },
  {
   "cell_type": "code",
   "execution_count": 6,
   "metadata": {},
   "outputs": [],
   "source": [
    "#计算年销售额的环比\n",
    "brandSalePivotTable = brandSale[\"sum\"][\"销售额\"]\n",
    "for saleYear in brandSalePivotTable.columns.tolist()[1:]:\n",
    "    brandSalePivotTable[str(saleYear)+\"环比\"]=((brandSalePivotTable[saleYear]-brandSalePivotTable[saleYear-1])/brandSalePivotTable[saleYear-1]).apply(lambda x:'{:.2%}'.format(x)).replace('nan%','')"
   ]
  },
  {
   "cell_type": "code",
   "execution_count": 7,
   "metadata": {},
   "outputs": [],
   "source": [
    "#计算每年各类目销售额占比\n",
    "for yearToCalculate in [2021,2022,2023]:\n",
    "    brandSalePivotTable[str(yearToCalculate)+\"销售额占比\"]=pd.to_numeric((brandSalePivotTable[yearToCalculate]/np.sum(brandSalePivotTable[yearToCalculate])))"
   ]
  },
  {
   "cell_type": "code",
   "execution_count": 8,
   "metadata": {},
   "outputs": [],
   "source": [
    "#计算销售额占比的环比\n",
    "for yearToCalculate in [2022,2023]:\n",
    "    brandSalePivotTable[str(yearToCalculate)+\"销售额占比环比\"]=((brandSalePivotTable[str(yearToCalculate)+\"销售额占比\"]-brandSalePivotTable[str(yearToCalculate-1)+\"销售额占比\"])/brandSalePivotTable[str(yearToCalculate-1)+\"销售额占比\"]).apply(lambda x:'{:.2%}'.format(x)).replace('nan%','')"
   ]
  },
  {
   "cell_type": "code",
   "execution_count": 9,
   "metadata": {},
   "outputs": [
    {
     "name": "stderr",
     "output_type": "stream",
     "text": [
      "C:\\Users\\Administrator\\AppData\\Local\\Temp\\ipykernel_16968\\2993233438.py:1: FutureWarning: The provided callable <function sum at 0x0000020DF10CE660> is currently using DataFrameGroupBy.sum. In a future version of pandas, the provided callable will be used directly. To keep current behavior pass the string \"sum\" instead.\n",
      "  brandVolumn = pd.pivot_table(brand_df,index=[\"品牌名称\"],values=[\"销量\"],columns=[\"年\"],aggfunc=[np.sum])\n"
     ]
    }
   ],
   "source": [
    "brandVolumn = pd.pivot_table(brand_df,index=[\"品牌名称\"],values=[\"销量\"],columns=[\"年\"],aggfunc=[np.sum])"
   ]
  },
  {
   "cell_type": "code",
   "execution_count": 10,
   "metadata": {},
   "outputs": [],
   "source": [
    "brandVolumnPivotTable = brandVolumn[\"sum\"][\"销量\"]\n",
    "for saleYear in brandVolumnPivotTable.columns.tolist()[1:]:\n",
    "    brandVolumnPivotTable[str(saleYear)+\"环比\"]=((brandVolumnPivotTable[saleYear]-brandVolumnPivotTable[saleYear-1])/brandVolumnPivotTable[saleYear-1]).apply(lambda x:'{:.2%}'.format(x)).replace('nan%','')"
   ]
  },
  {
   "cell_type": "code",
   "execution_count": 11,
   "metadata": {},
   "outputs": [],
   "source": [
    "for yearToCalculate in [2021,2022,2023]:\n",
    "    brandVolumnPivotTable[str(yearToCalculate)+\"销量占比\"]=pd.to_numeric((brandVolumnPivotTable[yearToCalculate]/np.sum(brandVolumnPivotTable[yearToCalculate])))"
   ]
  },
  {
   "cell_type": "code",
   "execution_count": 12,
   "metadata": {},
   "outputs": [],
   "source": [
    "for yearToCalculate in [2022,2023]:\n",
    "    brandVolumnPivotTable[str(yearToCalculate)+\"销量占比环比\"]=((brandVolumnPivotTable[str(yearToCalculate)+\"销量占比\"]-brandVolumnPivotTable[str(yearToCalculate-1)+\"销量占比\"])/brandVolumnPivotTable[str(yearToCalculate-1)+\"销量占比\"]).apply(lambda x:'{:.2%}'.format(x)).replace('nan%','')"
   ]
  },
  {
   "cell_type": "code",
   "execution_count": 13,
   "metadata": {},
   "outputs": [],
   "source": [
    "filename = \"D:/kinto旗舰店开设/保温杯类目品牌观察.xlsx\"\n",
    "with pd.ExcelWriter(filename) as writer:\n",
    "    brandSalePivotTable.to_excel(writer,sheet_name=\"销售额\")\n",
    "    brandVolumnPivotTable.to_excel(writer, sheet_name='销量')"
   ]
  }
 ],
 "metadata": {
  "kernelspec": {
   "display_name": "base",
   "language": "python",
   "name": "python3"
  },
  "language_info": {
   "codemirror_mode": {
    "name": "ipython",
    "version": 3
   },
   "file_extension": ".py",
   "mimetype": "text/x-python",
   "name": "python",
   "nbconvert_exporter": "python",
   "pygments_lexer": "ipython3",
   "version": "3.11.7"
  }
 },
 "nbformat": 4,
 "nbformat_minor": 2
}
