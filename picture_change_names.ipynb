{
 "cells": [
  {
   "cell_type": "code",
   "execution_count": 1,
   "id": "bb2ebbb9",
   "metadata": {},
   "outputs": [],
   "source": [
    "import os\n",
    "from datetime import datetime\n"
   ]
  },
  {
   "cell_type": "code",
   "execution_count": 6,
   "id": "eeded33a",
   "metadata": {},
   "outputs": [
    {
     "name": "stdout",
     "output_type": "stream",
     "text": [
      "['引力魔方', '明星店铺', '直通车']\n"
     ]
    }
   ],
   "source": [
    "\n",
    "# 指定目录\n",
    "directory ='D:/推广/盐野义/素材/20250704盐野义-超级88推广图'\n",
    "dirlist = os.listdir(directory)\n",
    "print(dirlist)\n"
   ]
  },
  {
   "cell_type": "code",
   "execution_count": 5,
   "id": "a2ea4ef9",
   "metadata": {},
   "outputs": [
    {
     "data": {
      "text/plain": [
       "'20250707'"
      ]
     },
     "execution_count": 5,
     "metadata": {},
     "output_type": "execute_result"
    }
   ],
   "source": [
    "today_str = datetime.strftime(datetime.today(),\"%Y%m%d\")\n",
    "today_str"
   ]
  },
  {
   "cell_type": "code",
   "execution_count": 7,
   "id": "822dc722",
   "metadata": {},
   "outputs": [],
   "source": [
    "\n",
    "# 遍历目录中的所有文件\n",
    "for foldor in dirlist:\n",
    "    for filename in os.listdir(directory+\"/\"+foldor):\n",
    "    # 检查文件扩展名是否为.txt\n",
    "    # 重命名文件\n",
    "        os.rename(os.path.join(directory+\"/\"+foldor, filename), os.path.join(directory+\"/\"+foldor,today_str+filename ))"
   ]
  }
 ],
 "metadata": {
  "kernelspec": {
   "display_name": "base",
   "language": "python",
   "name": "python3"
  },
  "language_info": {
   "codemirror_mode": {
    "name": "ipython",
    "version": 3
   },
   "file_extension": ".py",
   "mimetype": "text/x-python",
   "name": "python",
   "nbconvert_exporter": "python",
   "pygments_lexer": "ipython3",
   "version": "3.12.7"
  }
 },
 "nbformat": 4,
 "nbformat_minor": 5
}
