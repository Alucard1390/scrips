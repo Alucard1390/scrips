{
 "cells": [
  {
   "cell_type": "code",
   "execution_count": 1,
   "metadata": {},
   "outputs": [],
   "source": [
    "import pandas as pd\n",
    "import numpy as np\n",
    "from openpyxl import load_workbook"
   ]
  },
  {
   "cell_type": "code",
   "execution_count": 8,
   "metadata": {},
   "outputs": [
    {
     "name": "stderr",
     "output_type": "stream",
     "text": [
      "C:\\Users\\Administrator\\AppData\\Local\\Temp\\ipykernel_21272\\3477260731.py:4: FutureWarning: The provided callable <function sum at 0x0000022DAD3625C0> is currently using DataFrameGroupBy.sum. In a future version of pandas, the provided callable will be used directly. To keep current behavior pass the string \"sum\" instead.\n",
      "  rongliangSale = pd.pivot_table(rongliang_df,index=[\"容量\"],values=[\"销售额\"],columns=[\"年\"],aggfunc=[np.sum])\n"
     ]
    }
   ],
   "source": [
    "rongliang_df = pd.read_excel(r\"C:\\Users\\Administrator\\Downloads\\all_咖啡器具_not_custom_2021-01~2023-12_CNY_1712485341_8auom7sc9q (1).xlsx\",sheet_name=\"Sheet1\")\n",
    "rongliang_df[\"月份\"]=pd.to_datetime(rongliang_df[\"月份\"],format=\"%Y-%m-%d\")\n",
    "rongliang_df[\"年\"]=rongliang_df[\"月份\"].dt.year\n",
    "rongliangSale = pd.pivot_table(rongliang_df,index=[\"容量\"],values=[\"销售额\"],columns=[\"年\"],aggfunc=[np.sum])\n",
    "rongliangPivotTable = rongliangSale[\"sum\"][\"销售额\"]\n",
    "rongliangPivotTable[\"总销售额\"]=rongliangPivotTable.sum(axis=1)\n",
    "for saleYear in [2022,2023]:\n",
    "    rongliangPivotTable[str(saleYear)+\"环比\"]=((rongliangPivotTable[saleYear]-rongliangPivotTable[saleYear-1])/rongliangPivotTable[saleYear-1]).apply(lambda x:'{:.2%}'.format(x)).replace('nan%','')\n",
    "for yearToCalculate in [2021,2022,2023]:\n",
    "    rongliangPivotTable[str(yearToCalculate)+\"销售额占比\"]=pd.to_numeric((rongliangPivotTable[yearToCalculate]/np.sum(rongliangPivotTable[yearToCalculate])))\n",
    "for yearToCalculate in [2022,2023]:\n",
    "    rongliangPivotTable[str(yearToCalculate)+\"销售额占比环比\"]=((rongliangPivotTable[str(yearToCalculate)+\"销售额占比\"]-rongliangPivotTable[str(yearToCalculate-1)+\"销售额占比\"])/rongliangPivotTable[str(yearToCalculate-1)+\"销售额占比\"]).apply(lambda x:'{:.2%}'.format(x)).replace('nan%','')"
   ]
  },
  {
   "cell_type": "code",
   "execution_count": 9,
   "metadata": {},
   "outputs": [
    {
     "name": "stderr",
     "output_type": "stream",
     "text": [
      "C:\\Users\\Administrator\\AppData\\Local\\Temp\\ipykernel_21272\\3720962123.py:4: FutureWarning: The provided callable <function sum at 0x0000022DAD3625C0> is currently using DataFrameGroupBy.sum. In a future version of pandas, the provided callable will be used directly. To keep current behavior pass the string \"sum\" instead.\n",
      "  yangshiSale = pd.pivot_table(yangshi_df,index=[\"风格\"],values=[\"销售额\"],columns=[\"年\"],aggfunc=[np.sum])\n"
     ]
    }
   ],
   "source": [
    "yangshi_df = pd.read_excel(r\"C:\\Users\\Administrator\\Downloads\\all_咖啡器具_not_custom_2021-01~2023-12_CNY_1712484398_8auom7sc9q.xlsx\",sheet_name=\"Sheet1\")\n",
    "yangshi_df[\"月份\"]=pd.to_datetime(yangshi_df[\"月份\"],format=\"%Y-%m-%d\")\n",
    "yangshi_df[\"年\"]=yangshi_df[\"月份\"].dt.year\n",
    "yangshiSale = pd.pivot_table(yangshi_df,index=[\"风格\"],values=[\"销售额\"],columns=[\"年\"],aggfunc=[np.sum])\n",
    "yangshiSalePivotTable = yangshiSale[\"sum\"][\"销售额\"]\n",
    "yangshiSalePivotTable[\"总销售额\"]=yangshiSalePivotTable.sum(axis=1)\n",
    "for saleYear in [2022,2023]:\n",
    "    yangshiSalePivotTable[str(saleYear)+\"环比\"]=((yangshiSalePivotTable[saleYear]-yangshiSalePivotTable[saleYear-1])/yangshiSalePivotTable[saleYear-1]).apply(lambda x:'{:.2%}'.format(x)).replace('nan%','')\n",
    "for yearToCalculate in [2021,2022,2023]:\n",
    "    yangshiSalePivotTable[str(yearToCalculate)+\"销售额占比\"]=pd.to_numeric((yangshiSalePivotTable[yearToCalculate]/np.sum(yangshiSalePivotTable[yearToCalculate])))\n",
    "for yearToCalculate in [2022,2023]:\n",
    "    yangshiSalePivotTable[str(yearToCalculate)+\"销售额占比环比\"]=((yangshiSalePivotTable[str(yearToCalculate)+\"销售额占比\"]-yangshiSalePivotTable[str(yearToCalculate-1)+\"销售额占比\"])/yangshiSalePivotTable[str(yearToCalculate-1)+\"销售额占比\"]).apply(lambda x:'{:.2%}'.format(x)).replace('nan%','')"
   ]
  },
  {
   "cell_type": "code",
   "execution_count": 4,
   "metadata": {},
   "outputs": [
    {
     "name": "stderr",
     "output_type": "stream",
     "text": [
      "C:\\Users\\Administrator\\AppData\\Local\\Temp\\ipykernel_21272\\1760420167.py:4: FutureWarning: The provided callable <function sum at 0x0000022DAD3625C0> is currently using DataFrameGroupBy.sum. In a future version of pandas, the provided callable will be used directly. To keep current behavior pass the string \"sum\" instead.\n",
      "  shiyongrenqunSale = pd.pivot_table(shiyongrenqun_df,index=[\"适用人群\"],values=[\"销售额\"],columns=[\"年\"],aggfunc=[np.sum])\n"
     ]
    }
   ],
   "source": [
    "shiyongrenqun_df = pd.read_excel(r\"D:\\kinto旗舰店开设\\all_杯子-水杯-水壶_not_custom_2021-01~2023-12_CNY_1712468345_ti0zhbf4aw.xlsx\",sheet_name=\"Sheet1\")\n",
    "shiyongrenqun_df[\"月份\"]=pd.to_datetime(shiyongrenqun_df[\"月份\"],format=\"%Y-%m-%d\")\n",
    "shiyongrenqun_df[\"年\"]=shiyongrenqun_df[\"月份\"].dt.year\n",
    "shiyongrenqunSale = pd.pivot_table(shiyongrenqun_df,index=[\"适用人群\"],values=[\"销售额\"],columns=[\"年\"],aggfunc=[np.sum])\n",
    "shiyongrenqunSalePivotTable = shiyongrenqunSale[\"sum\"][\"销售额\"]\n",
    "shiyongrenqunSalePivotTable[\"总销售额\"]=shiyongrenqunSalePivotTable.sum(axis=1)\n",
    "for saleYear in [2022,2023]:\n",
    "    shiyongrenqunSalePivotTable[str(saleYear)+\"环比\"]=((shiyongrenqunSalePivotTable[saleYear]-shiyongrenqunSalePivotTable[saleYear-1])/shiyongrenqunSalePivotTable[saleYear-1]).apply(lambda x:'{:.2%}'.format(x)).replace('nan%','')\n",
    "for yearToCalculate in [2021,2022,2023]:\n",
    "    shiyongrenqunSalePivotTable[str(yearToCalculate)+\"销售额占比\"]=pd.to_numeric((shiyongrenqunSalePivotTable[yearToCalculate]/np.sum(shiyongrenqunSalePivotTable[yearToCalculate])))\n",
    "for yearToCalculate in [2022,2023]:\n",
    "    shiyongrenqunSalePivotTable[str(yearToCalculate)+\"销售额占比环比\"]=((shiyongrenqunSalePivotTable[str(yearToCalculate)+\"销售额占比\"]-shiyongrenqunSalePivotTable[str(yearToCalculate-1)+\"销售额占比\"])/shiyongrenqunSalePivotTable[str(yearToCalculate-1)+\"销售额占比\"]).apply(lambda x:'{:.2%}'.format(x)).replace('nan%','')"
   ]
  },
  {
   "cell_type": "code",
   "execution_count": 10,
   "metadata": {},
   "outputs": [
    {
     "name": "stderr",
     "output_type": "stream",
     "text": [
      "C:\\Users\\Administrator\\AppData\\Local\\Temp\\ipykernel_21272\\2409611536.py:4: FutureWarning: The provided callable <function sum at 0x0000022DAD3625C0> is currently using DataFrameGroupBy.sum. In a future version of pandas, the provided callable will be used directly. To keep current behavior pass the string \"sum\" instead.\n",
      "  liuxingyuansuSale = pd.pivot_table(liuxingyuansu_df,index=[\"流行元素\"],values=[\"销售额\"],columns=[\"年\"],aggfunc=[np.sum])\n"
     ]
    }
   ],
   "source": [
    "liuxingyuansu_df = pd.read_excel(r\"C:\\Users\\Administrator\\Downloads\\all_咖啡器具_not_custom_2021-01~2023-12_CNY_1712485439_8auom7sc9q.xlsx\",sheet_name=\"Sheet1\")\n",
    "liuxingyuansu_df[\"月份\"]=pd.to_datetime(liuxingyuansu_df[\"月份\"],format=\"%Y-%m-%d\")\n",
    "liuxingyuansu_df[\"年\"]=liuxingyuansu_df[\"月份\"].dt.year\n",
    "liuxingyuansuSale = pd.pivot_table(liuxingyuansu_df,index=[\"流行元素\"],values=[\"销售额\"],columns=[\"年\"],aggfunc=[np.sum])\n",
    "liuxingyuansuSalePivotTable = liuxingyuansuSale[\"sum\"][\"销售额\"]\n",
    "liuxingyuansuSalePivotTable[\"总销售额\"]=liuxingyuansuSalePivotTable.sum(axis=1)\n",
    "for saleYear in [2022,2023]:\n",
    "    liuxingyuansuSalePivotTable[str(saleYear)+\"环比\"]=((liuxingyuansuSalePivotTable[saleYear]-liuxingyuansuSalePivotTable[saleYear-1])/liuxingyuansuSalePivotTable[saleYear-1]).apply(lambda x:'{:.2%}'.format(x)).replace('nan%','')\n",
    "for yearToCalculate in [2021,2022,2023]:\n",
    "    liuxingyuansuSalePivotTable[str(yearToCalculate)+\"销售额占比\"]=pd.to_numeric((liuxingyuansuSalePivotTable[yearToCalculate]/np.sum(liuxingyuansuSalePivotTable[yearToCalculate])))\n",
    "for yearToCalculate in [2022,2023]:\n",
    "    liuxingyuansuSalePivotTable[str(yearToCalculate)+\"销售额占比环比\"]=((liuxingyuansuSalePivotTable[str(yearToCalculate)+\"销售额占比\"]-liuxingyuansuSalePivotTable[str(yearToCalculate-1)+\"销售额占比\"])/liuxingyuansuSalePivotTable[str(yearToCalculate-1)+\"销售额占比\"]).apply(lambda x:'{:.2%}'.format(x)).replace('nan%','')"
   ]
  },
  {
   "cell_type": "code",
   "execution_count": 6,
   "metadata": {},
   "outputs": [
    {
     "name": "stderr",
     "output_type": "stream",
     "text": [
      "C:\\Users\\Administrator\\AppData\\Local\\Temp\\ipykernel_21272\\264097342.py:4: FutureWarning: The provided callable <function sum at 0x0000022DAD3625C0> is currently using DataFrameGroupBy.sum. In a future version of pandas, the provided callable will be used directly. To keep current behavior pass the string \"sum\" instead.\n",
      "  xiguanSale = pd.pivot_table(xiguan_df,index=[\"是否带吸管\"],values=[\"销售额\"],columns=[\"年\"],aggfunc=[np.sum])\n"
     ]
    }
   ],
   "source": [
    "xiguan_df = pd.read_excel(r\"D:\\kinto旗舰店开设\\all_杯子-水杯-水壶_not_custom_2021-01~2023-12_CNY_1712468687_ti0zhbf4aw.xlsx\",sheet_name=\"Sheet1\")\n",
    "xiguan_df[\"月份\"]=pd.to_datetime(xiguan_df[\"月份\"],format=\"%Y-%m-%d\")\n",
    "xiguan_df[\"年\"]=xiguan_df[\"月份\"].dt.year\n",
    "xiguanSale = pd.pivot_table(xiguan_df,index=[\"是否带吸管\"],values=[\"销售额\"],columns=[\"年\"],aggfunc=[np.sum])\n",
    "xiguanSalePivotTable = xiguanSale[\"sum\"][\"销售额\"]\n",
    "xiguanSalePivotTable[\"总销售额\"]=xiguanSalePivotTable.sum(axis=1)\n",
    "for saleYear in [2022,2023]:\n",
    "    xiguanSalePivotTable[str(saleYear)+\"环比\"]=((xiguanSalePivotTable[saleYear]-xiguanSalePivotTable[saleYear-1])/xiguanSalePivotTable[saleYear-1]).apply(lambda x:'{:.2%}'.format(x)).replace('nan%','')\n",
    "for yearToCalculate in [2021,2022,2023]:\n",
    "    xiguanSalePivotTable[str(yearToCalculate)+\"销售额占比\"]=pd.to_numeric((xiguanSalePivotTable[yearToCalculate]/np.sum(xiguanSalePivotTable[yearToCalculate])))\n",
    "for yearToCalculate in [2022,2023]:\n",
    "    xiguanSalePivotTable[str(yearToCalculate)+\"销售额占比环比\"]=((xiguanSalePivotTable[str(yearToCalculate)+\"销售额占比\"]-xiguanSalePivotTable[str(yearToCalculate-1)+\"销售额占比\"])/xiguanSalePivotTable[str(yearToCalculate-1)+\"销售额占比\"]).apply(lambda x:'{:.2%}'.format(x)).replace('nan%','')"
   ]
  },
  {
   "cell_type": "code",
   "execution_count": 11,
   "metadata": {},
   "outputs": [],
   "source": [
    "filename = \"D:/kinto旗舰店开设/玻璃杯属性观察.xlsx\"\n",
    "with pd.ExcelWriter(filename) as writer:\n",
    "    rongliangPivotTable.to_excel(writer,sheet_name=\"容量\")\n",
    "    yangshiSalePivotTable.to_excel(writer, sheet_name='风格')\n",
    "    #shiyongrenqunSalePivotTable.to_excel(writer, sheet_name='适用人群')\n",
    "    liuxingyuansuSalePivotTable.to_excel(writer, sheet_name='流行元素')\n",
    "    #xiguanSalePivotTable.to_excel(writer, sheet_name='吸管')\n"
   ]
  }
 ],
 "metadata": {
  "kernelspec": {
   "display_name": "base",
   "language": "python",
   "name": "python3"
  },
  "language_info": {
   "codemirror_mode": {
    "name": "ipython",
    "version": 3
   },
   "file_extension": ".py",
   "mimetype": "text/x-python",
   "name": "python",
   "nbconvert_exporter": "python",
   "pygments_lexer": "ipython3",
   "version": "3.11.7"
  }
 },
 "nbformat": 4,
 "nbformat_minor": 2
}
